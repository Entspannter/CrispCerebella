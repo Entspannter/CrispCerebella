{
  "nbformat": 4,
  "nbformat_minor": 0,
  "metadata": {
    "colab": {
      "name": "train_ConvLSTM.ipynb",
      "provenance": [],
      "authorship_tag": "ABX9TyMYCeYNTuNNtR5vjBsmRQT4",
      "include_colab_link": true
    },
    "kernelspec": {
      "name": "python3",
      "display_name": "Python 3"
    },
    "language_info": {
      "name": "python"
    },
    "accelerator": "GPU"
  },
  "cells": [
    {
      "cell_type": "markdown",
      "metadata": {
        "id": "view-in-github",
        "colab_type": "text"
      },
      "source": [
        "<a href=\"https://colab.research.google.com/github/Entspannter/CrispCerebella/blob/main/Code/train_ConvLSTM.ipynb\" target=\"_parent\"><img src=\"https://colab.research.google.com/assets/colab-badge.svg\" alt=\"Open In Colab\"/></a>"
      ]
    },
    {
      "cell_type": "code",
      "metadata": {
        "id": "_KY5Ao_fc_ps",
        "colab": {
          "base_uri": "https://localhost:8080/",
          "height": 148
        },
        "outputId": "2c52be81-c9e9-4d6d-ca76-ecc5f1728583"
      },
      "source": [
        "[![Open In Colab](https://colab.research.google.com/assets/colab-badge.svg)](https://github.com/Entspannter/CrispCerebella/blob/main/Test_File.ipynb)"
      ],
      "execution_count": 1,
      "outputs": [
        {
          "output_type": "error",
          "ename": "SyntaxError",
          "evalue": "ignored",
          "traceback": [
            "\u001b[0;36m  File \u001b[0;32m\"<ipython-input-1-fba62dd5493d>\"\u001b[0;36m, line \u001b[0;32m1\u001b[0m\n\u001b[0;31m    [![Open In Colab](https://colab.research.google.com/assets/colab-badge.svg)](https://github.com/Entspannter/CrispCerebella/blob/main/Test_File.ipynb)\u001b[0m\n\u001b[0m     ^\u001b[0m\n\u001b[0;31mSyntaxError\u001b[0m\u001b[0;31m:\u001b[0m invalid syntax\n"
          ]
        }
      ]
    },
    {
      "cell_type": "code",
      "metadata": {
        "colab": {
          "base_uri": "https://localhost:8080/"
        },
        "id": "eLhdw6NrbhZC",
        "outputId": "bd75cf1f-f7e8-435e-a7de-d25d54b40263"
      },
      "source": [
        "!git clone https://github.com/Entspannter/CrispCerebella.git"
      ],
      "execution_count": 2,
      "outputs": [
        {
          "output_type": "stream",
          "text": [
            "Cloning into 'CrispCerebella'...\n",
            "remote: Enumerating objects: 309, done.\u001b[K\n",
            "remote: Counting objects: 100% (309/309), done.\u001b[K\n",
            "remote: Compressing objects: 100% (247/247), done.\u001b[K\n",
            "remote: Total 309 (delta 134), reused 188 (delta 53), pack-reused 0\u001b[K\n",
            "Receiving objects: 100% (309/309), 76.25 MiB | 18.94 MiB/s, done.\n",
            "Resolving deltas: 100% (134/134), done.\n",
            "Checking out files: 100% (169/169), done.\n"
          ],
          "name": "stdout"
        }
      ]
    },
    {
      "cell_type": "code",
      "metadata": {
        "colab": {
          "base_uri": "https://localhost:8080/"
        },
        "id": "RQl055LHbpjq",
        "outputId": "98a914eb-661d-400e-df06-6e7e90afc568"
      },
      "source": [
        "pip install -q -U keras-tuner"
      ],
      "execution_count": 3,
      "outputs": [
        {
          "output_type": "stream",
          "text": [
            "\u001b[?25l\r\u001b[K     |███▍                            | 10kB 18.6MB/s eta 0:00:01\r\u001b[K     |██████▉                         | 20kB 25.0MB/s eta 0:00:01\r\u001b[K     |██████████▏                     | 30kB 19.4MB/s eta 0:00:01\r\u001b[K     |█████████████▋                  | 40kB 16.1MB/s eta 0:00:01\r\u001b[K     |█████████████████               | 51kB 8.1MB/s eta 0:00:01\r\u001b[K     |████████████████████▍           | 61kB 8.4MB/s eta 0:00:01\r\u001b[K     |███████████████████████▊        | 71kB 9.0MB/s eta 0:00:01\r\u001b[K     |███████████████████████████▏    | 81kB 8.3MB/s eta 0:00:01\r\u001b[K     |██████████████████████████████▋ | 92kB 8.6MB/s eta 0:00:01\r\u001b[K     |████████████████████████████████| 102kB 6.3MB/s \n",
            "\u001b[?25h  Building wheel for kt-legacy (setup.py) ... \u001b[?25l\u001b[?25hdone\n"
          ],
          "name": "stdout"
        }
      ]
    },
    {
      "cell_type": "code",
      "metadata": {
        "id": "Vk97zhYHbsYm"
      },
      "source": [
        "from CrispCerebella.Code.train_functions import *\n",
        "from CrispCerebella.Code.data_loading import *\n",
        "from CrispCerebella.Code.architecture import *\n"
      ],
      "execution_count": 4,
      "outputs": []
    },
    {
      "cell_type": "code",
      "metadata": {
        "id": "3tb9mJYCPzAO"
      },
      "source": [
        "# import matplotlib.pyplot as plt\n",
        "# import pandas as pd\n",
        "import os \n",
        "from google.colab import files\n",
        "# from pandas import read_csv\n",
        "# from pandas import DataFrame\n",
        "# import numpy as np\n",
        "# from numpy import mean\n",
        "# from numpy import std\n",
        "# from numpy import array\n",
        "# from numpy import vstack\n",
        "# from numpy import dstack\n",
        "# from numpy import unique\n",
        "# from scipy import stats\n",
        "# from matplotlib import pyplot\n",
        "# from tensorflow import keras\n",
        "# from keras.models import Sequential\n",
        "# from keras.layers import Dense\n",
        "# from keras.layers import Flatten\n",
        "# from keras.layers import Dropout\n",
        "# from keras.layers import LSTM\n",
        "# from keras.layers import TimeDistributed\n",
        "# from keras.layers import ConvLSTM2D\n",
        "# from keras.layers.convolutional import Conv1D\n",
        "# from keras.layers.convolutional import MaxPooling1D\n",
        "from tensorflow.keras.utils import to_categorical\n",
        "import keras_tuner\n",
        "# from keras_tuner import HyperModel\n",
        "# from keras.callbacks import EarlyStopping\n",
        "# from sklearn.model_selection import KFold\n",
        "# from sklearn.model_selection import train_test_split\n",
        "# from sklearn import metrics\n",
        "# from sklearn.metrics import classification_report\n",
        "# from sklearn.metrics import plot_confusion_matrix\n",
        "# import seaborn as sns"
      ],
      "execution_count": 5,
      "outputs": []
    },
    {
      "cell_type": "code",
      "metadata": {
        "colab": {
          "base_uri": "https://localhost:8080/"
        },
        "id": "b7uL5MXcbwee",
        "outputId": "81f24f2e-a6e3-4cf1-a407-389a2e3afdc7"
      },
      "source": [
        "trainX, trainy = datasetloader('train', '/content/CrispCerebella/Dataset/UCI HAR Dataset/')\n",
        "print(\"Shape of training Data:\",trainX.shape, trainy.shape)\n",
        "# load all test\n",
        "testX, testy = datasetloader('test', '/content/CrispCerebella/Dataset/UCI HAR Dataset/')\n",
        "print(\"Shape of test Data:\",testX.shape, testy.shape)"
      ],
      "execution_count": 6,
      "outputs": [
        {
          "output_type": "stream",
          "text": [
            "Shape of training Data: (7352, 128, 9) (7352, 1)\n",
            "Shape of test Data: (2947, 128, 9) (2947, 1)\n"
          ],
          "name": "stdout"
        }
      ]
    },
    {
      "cell_type": "code",
      "metadata": {
        "id": "6oTykAMAEQPo",
        "colab": {
          "base_uri": "https://localhost:8080/"
        },
        "outputId": "f57c8e03-1c07-49cf-dc86-89f53bf0478f"
      },
      "source": [
        "trainX, trainy, testX, testy = transform_dataset(trainX, trainy, testX, testy)\n",
        "\n",
        "n_timesteps, n_features, N_OUTPUTS = trainX.shape[1], trainX.shape[2], trainy.shape[1]\n",
        "\n",
        "n_steps, n_length = 4, 32\n",
        "\n",
        "INPUT_SHAPE=(n_timesteps,n_features)\n",
        "\n",
        "# reshape into subsequences (samples, time steps, rows, cols, channels)\n",
        "trainX = trainX.reshape((trainX.shape[0], n_steps, 1, n_length, n_features))\n",
        "testX = testX.reshape((testX.shape[0], n_steps, 1, n_length, n_features))\n",
        "\n",
        "Num_Epochs_Search = 2\n",
        "Num_Epochs_Fit = 2\n",
        "Max_Trials = 5\n",
        "Num_K_Folds = 5\n",
        "Model_Name_ConvLSTM = \"ConvLSTM\"\n",
        "batch_size = 64\n",
        "\n",
        "X_ConvLSTM = np.concatenate((trainX, testX),axis=0)\n",
        "y_ConvLSTM = np.concatenate((trainy, testy),axis=0)\n"
      ],
      "execution_count": 7,
      "outputs": [
        {
          "output_type": "stream",
          "text": [
            "(7352, 128, 9) (7352, 1)\n",
            "(2947, 128, 9) (2947, 1)\n",
            "(7352, 128, 9) (7352, 6) (2947, 128, 9) (2947, 6)\n"
          ],
          "name": "stdout"
        }
      ]
    },
    {
      "cell_type": "code",
      "metadata": {
        "id": "zE4-D7-AESK1",
        "colab": {
          "base_uri": "https://localhost:8080/"
        },
        "outputId": "ca228997-478a-46cf-bccb-c000c9a831bb"
      },
      "source": [
        "Best_HP_ConvLSTM, Best_Epoch_ConvLSTM= K_Fold_CV(X_ConvLSTM,\n",
        "                                                              y_ConvLSTM,\n",
        "                                                              ConvLSTM,\n",
        "                                                              Model_Name_ConvLSTM,\n",
        "                                                              INPUT_SHAPE,\n",
        "                                                              N_OUTPUTS,\n",
        "                                                              Max_Trials,\n",
        "                                                              Num_Epochs_Search,\n",
        "                                                              Num_Epochs_Fit,\n",
        "                                                              Num_K_Folds)\n"
      ],
      "execution_count": 8,
      "outputs": [
        {
          "output_type": "stream",
          "text": [
            "Trial 5 Complete [00h 00m 07s]\n",
            "val_accuracy: 0.8671116232872009\n",
            "\n",
            "Best val_accuracy So Far: 0.8901699185371399\n",
            "Total elapsed time: 00h 00m 51s\n",
            "INFO:tensorflow:Oracle triggered exit\n",
            "[The tuned hyperparemters]: {'num_filters': 64, 'dropout_1': 0.5, 'units': 512, 'dense_activation': 'sigmoid', 'dropout_2': 0.0, 'learning_rate': 0.01000000000000001}\n",
            "Epoch 1/2\n",
            "206/206 [==============================] - 4s 14ms/step - loss: 0.4003 - accuracy: 0.8542 - val_loss: 0.2867 - val_accuracy: 0.8865\n",
            "Epoch 2/2\n",
            "206/206 [==============================] - 3s 13ms/step - loss: 0.1687 - accuracy: 0.9358 - val_loss: 0.3364 - val_accuracy: 0.8708\n",
            "Best epoch: 1\n",
            "65/65 [==============================] - 0s 6ms/step - loss: 0.3339 - accuracy: 0.9267\n",
            "Fold number 5 is done\n",
            "Accuracy of each fold - [0.9359223246574402, 0.9024271965026855, 0.9470874071121216, 0.8427184224128723, 0.9266634583473206]\n",
            "Avg accuracy : 0.9109637618064881\n"
          ],
          "name": "stdout"
        }
      ]
    },
    {
      "cell_type": "code",
      "metadata": {
        "id": "vjJlynWLEUI-",
        "colab": {
          "base_uri": "https://localhost:8080/"
        },
        "outputId": "408647a1-8c65-4ea5-c2c4-c09da4853692"
      },
      "source": [
        "Best_HP_ConvLSTM.get_config()['values']"
      ],
      "execution_count": 9,
      "outputs": [
        {
          "output_type": "execute_result",
          "data": {
            "text/plain": [
              "{'dense_activation': 'relu',\n",
              " 'dropout_1': 0.0,\n",
              " 'dropout_2': 0.5,\n",
              " 'learning_rate': 0.01,\n",
              " 'num_filters': 16,\n",
              " 'units': 512}"
            ]
          },
          "metadata": {
            "tags": []
          },
          "execution_count": 9
        }
      ]
    },
    {
      "cell_type": "code",
      "metadata": {
        "id": "NyTrPviVEWmM",
        "colab": {
          "base_uri": "https://localhost:8080/",
          "height": 659
        },
        "outputId": "b2672c1e-7a96-4eef-bb54-198a99888718"
      },
      "source": [
        "# Build a new model with the HP, train it with the inital training set and eveluate it with the test set \n",
        "\n",
        "BestModelConvLSTM, ConvLSTM_accuracy = evaluate_model(trainX,\n",
        "                               trainy,\n",
        "                               testX,\n",
        "                               testy,\n",
        "                               INPUT_SHAPE,\n",
        "                               N_OUTPUTS,\n",
        "                               Best_HP_ConvLSTM,\n",
        "                               ConvLSTM,\n",
        "                               Best_Epoch_ConvLSTM,\n",
        "                               batch_size)\n"
      ],
      "execution_count": 10,
      "outputs": [
        {
          "output_type": "stream",
          "text": [
            "Epoch 1/2\n",
            "184/184 [==============================] - 7s 29ms/step - loss: 0.4245 - accuracy: 0.8347 - val_loss: 0.9769 - val_accuracy: 0.8566\n",
            "Epoch 2/2\n",
            "184/184 [==============================] - 5s 30ms/step - loss: 0.1856 - accuracy: 0.9361 - val_loss: 0.4549 - val_accuracy: 0.8946\n"
          ],
          "name": "stdout"
        },
        {
          "output_type": "display_data",
          "data": {
            "image/png": "[encoded data removed]",
            "text/plain": [
              "<Figure size 432x288 with 1 Axes>"
            ]
          },
          "metadata": {
            "tags": [],
            "needs_background": "light"
          }
        },
        {
          "output_type": "display_data",
          "data": {
            "image/png": "[encoded data removed]",
            "text/plain": [
              "<Figure size 432x288 with 1 Axes>"
            ]
          },
          "metadata": {
            "tags": [],
            "needs_background": "light"
          }
        },
        {
          "output_type": "stream",
          "text": [
            "The accureay of the model is 0.884628415107727\n"
          ],
          "name": "stdout"
        }
      ]
    },
    {
      "cell_type": "code",
      "metadata": {
        "id": "-adf-YTeWaOb"
      },
      "source": [
        "# create a unique file name by attaching the first four accuracy digits\n",
        "\n",
        "file_name_ending = str(int(ConvLSTM_accuracy * 10000))"
      ],
      "execution_count": 11,
      "outputs": []
    },
    {
      "cell_type": "code",
      "metadata": {
        "id": "o6i_iT_cEYKd",
        "colab": {
          "base_uri": "https://localhost:8080/"
        },
        "outputId": "6bdd86fd-9500-4086-a31c-924c546b3832"
      },
      "source": [
        "# save the model by using the unique file name (model name + accuracy)\n",
        "BestModelConvLSTM.save(\"/content/CrispCerebella/Models/Final_Model_ConvLSTM_\" + file_name_ending)"
      ],
      "execution_count": 13,
      "outputs": [
        {
          "output_type": "stream",
          "text": [
            "WARNING:absl:Found untraced functions such as dropout_2_layer_call_fn, dropout_2_layer_call_and_return_conditional_losses, flatten_1_layer_call_fn, flatten_1_layer_call_and_return_conditional_losses, dense_2_layer_call_fn while saving (showing 5 of 25). These functions will not be directly callable after loading.\n"
          ],
          "name": "stderr"
        },
        {
          "output_type": "stream",
          "text": [
            "INFO:tensorflow:Assets written to: /content/CrispCerebella/Models/Final_Model_ConvLSTM_8846/assets\n"
          ],
          "name": "stdout"
        },
        {
          "output_type": "stream",
          "text": [
            "INFO:tensorflow:Assets written to: /content/CrispCerebella/Models/Final_Model_ConvLSTM_8846/assets\n"
          ],
          "name": "stderr"
        }
      ]
    },
    {
      "cell_type": "code",
      "metadata": {
        "id": "CUp-gqZiNJqF",
        "colab": {
          "base_uri": "https://localhost:8080/"
        },
        "outputId": "2777c850-ceca-4166-cff5-67875ee3653c"
      },
      "source": [
        "# create a zip file out of the saved model\n",
        "\n",
        "!zip -r /content/CrispCerebella/Models/Final_Model_ConvLSTM_{file_name_ending}.zip /content/CrispCerebella/Models/Final_Model_ConvLSTM_{file_name_ending}"
      ],
      "execution_count": 15,
      "outputs": [
        {
          "output_type": "stream",
          "text": [
            "  adding: content/CrispCerebella/Models/Final_Model_ConvLSTM_8846/ (stored 0%)\n",
            "  adding: content/CrispCerebella/Models/Final_Model_ConvLSTM_8846/saved_model.pb (deflated 89%)\n",
            "  adding: content/CrispCerebella/Models/Final_Model_ConvLSTM_8846/variables/ (stored 0%)\n",
            "  adding: content/CrispCerebella/Models/Final_Model_ConvLSTM_8846/variables/variables.data-00000-of-00001 (deflated 6%)\n",
            "  adding: content/CrispCerebella/Models/Final_Model_ConvLSTM_8846/variables/variables.index (deflated 63%)\n",
            "  adding: content/CrispCerebella/Models/Final_Model_ConvLSTM_8846/assets/ (stored 0%)\n",
            "  adding: content/CrispCerebella/Models/Final_Model_ConvLSTM_8846/keras_metadata.pb (deflated 80%)\n"
          ],
          "name": "stdout"
        }
      ]
    },
    {
      "cell_type": "code",
      "metadata": {
        "id": "v_9oAob8LZxd",
        "colab": {
          "base_uri": "https://localhost:8080/",
          "height": 17
        },
        "outputId": "175a84c1-8a5e-428d-f564-9c92299f3445"
      },
      "source": [
        "# downloading the zip file (to store it locally and be able to push it to git)\n",
        "\n",
        "files.download(f\"/content/CrispCerebella/Models/Final_Model_ConvLSTM_{file_name_ending}.zip\")"
      ],
      "execution_count": 18,
      "outputs": [
        {
          "output_type": "display_data",
          "data": {
            "application/javascript": [
              "\n",
              "    async function download(id, filename, size) {\n",
              "      if (!google.colab.kernel.accessAllowed) {\n",
              "        return;\n",
              "      }\n",
              "      const div = document.createElement('div');\n",
              "      const label = document.createElement('label');\n",
              "      label.textContent = `Downloading \"${filename}\": `;\n",
              "      div.appendChild(label);\n",
              "      const progress = document.createElement('progress');\n",
              "      progress.max = size;\n",
              "      div.appendChild(progress);\n",
              "      document.body.appendChild(div);\n",
              "\n",
              "      const buffers = [];\n",
              "      let downloaded = 0;\n",
              "\n",
              "      const channel = await google.colab.kernel.comms.open(id);\n",
              "      // Send a message to notify the kernel that we're ready.\n",
              "      channel.send({})\n",
              "\n",
              "      for await (const message of channel.messages) {\n",
              "        // Send a message to notify the kernel that we're ready.\n",
              "        channel.send({})\n",
              "        if (message.buffers) {\n",
              "          for (const buffer of message.buffers) {\n",
              "            buffers.push(buffer);\n",
              "            downloaded += buffer.byteLength;\n",
              "            progress.value = downloaded;\n",
              "          }\n",
              "        }\n",
              "      }\n",
              "      const blob = new Blob(buffers, {type: 'application/binary'});\n",
              "      const a = document.createElement('a');\n",
              "      a.href = window.URL.createObjectURL(blob);\n",
              "      a.download = filename;\n",
              "      div.appendChild(a);\n",
              "      a.click();\n",
              "      div.remove();\n",
              "    }\n",
              "  "
            ],
            "text/plain": [
              "<IPython.core.display.Javascript object>"
            ]
          },
          "metadata": {
            "tags": []
          }
        },
        {
          "output_type": "display_data",
          "data": {
            "application/javascript": [
              "download(\"download_828f8f26-3c46-4219-b8b9-a8812edbd47a\", \"Final_Model_ConvLSTM_8846.zip\", 2929704)"
            ],
            "text/plain": [
              "<IPython.core.display.Javascript object>"
            ]
          },
          "metadata": {
            "tags": []
          }
        }
      ]
    },
    {
      "cell_type": "code",
      "metadata": {
        "id": "0TQs1p-FNveF",
        "colab": {
          "base_uri": "https://localhost:8080/"
        },
        "outputId": "0afdb90f-692d-406e-e133-222e22c4c407"
      },
      "source": [
        "# unzip the folder of the model with a given accuracy\n",
        "# !unzip /content/CrispCerebella/Models/Final_Model_ConvLSTM_{file_name_ending}.zip -d /Test"
      ],
      "execution_count": null,
      "outputs": [
        {
          "output_type": "stream",
          "text": [
            "Archive:  /content/CrispCerebella/Models/Final_Model_LSTM.zip\n",
            "   creating: /Test/content/CrispCerebella/Models/Final_Model_LSTM/\n",
            "   creating: /Test/content/CrispCerebella/Models/Final_Model_LSTM/.ipynb_checkpoints/\n",
            "  inflating: /Test/content/CrispCerebella/Models/Final_Model_LSTM/saved_model.pb  \n",
            "   creating: /Test/content/CrispCerebella/Models/Final_Model_LSTM/variables/\n",
            "  inflating: /Test/content/CrispCerebella/Models/Final_Model_LSTM/variables/variables.data-00000-of-00001  \n",
            "  inflating: /Test/content/CrispCerebella/Models/Final_Model_LSTM/variables/variables.index  \n",
            "   creating: /Test/content/CrispCerebella/Models/Final_Model_LSTM/assets/\n",
            "  inflating: /Test/content/CrispCerebella/Models/Final_Model_LSTM/keras_metadata.pb  \n"
          ],
          "name": "stdout"
        }
      ]
    },
    {
      "cell_type": "code",
      "metadata": {
        "id": "4_3n0jm_Pk-E"
      },
      "source": [
        "# load the saved model\n",
        "# test_model = keras.models.load_model(f'/content/CrispCerebella/Test/content/CrispCerebella/Models/Final_Model_ConvLSTM_{file_name_ending}')"
      ],
      "execution_count": null,
      "outputs": []
    },
    {
      "cell_type": "code",
      "metadata": {
        "id": "zwlDiVScQLRv",
        "colab": {
          "base_uri": "https://localhost:8080/"
        },
        "outputId": "c3e92353-a674-4088-a86c-fe758c9e95ca"
      },
      "source": [
        "# evaluate the saved model\n",
        "# test_model.evaluate(testX, testy)"
      ],
      "execution_count": null,
      "outputs": [
        {
          "output_type": "stream",
          "text": [
            "93/93 [==============================] - 3s 30ms/step - loss: 0.8421 - accuracy: 0.6491\n"
          ],
          "name": "stdout"
        },
        {
          "output_type": "execute_result",
          "data": {
            "text/plain": [
              "[0.8420565724372864, 0.6491346955299377]"
            ]
          },
          "metadata": {
            "tags": []
          },
          "execution_count": 39
        }
      ]
    }
  ]
}