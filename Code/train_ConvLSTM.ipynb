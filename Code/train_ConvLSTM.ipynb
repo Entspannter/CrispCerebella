{
  "nbformat": 4,
  "nbformat_minor": 0,
  "metadata": {
    "colab": {
      "name": "train_ConvLSTM.ipynb",
      "provenance": [],
      "include_colab_link": true
    },
    "kernelspec": {
      "name": "python3",
      "display_name": "Python 3"
    },
    "language_info": {
      "name": "python"
    },
    "accelerator": "GPU"
  },
  "cells": [
    {
      "cell_type": "markdown",
      "metadata": {
        "id": "view-in-github",
        "colab_type": "text"
      },
      "source": [
        "<a href=\"https://colab.research.google.com/github/Entspannter/CrispCerebella/blob/main/Code/train_ConvLSTM.ipynb\" target=\"_parent\"><img src=\"https://colab.research.google.com/assets/colab-badge.svg\" alt=\"Open In Colab\"/></a>"
      ]
    },
    {
      "cell_type": "code",
      "metadata": {
        "id": "_KY5Ao_fc_ps",
        "colab": {
          "base_uri": "https://localhost:8080/",
          "height": 148
        },
        "outputId": "2c52be81-c9e9-4d6d-ca76-ecc5f1728583"
      },
      "source": [
        "[![Open In Colab](https://colab.research.google.com/assets/colab-badge.svg)](https://github.com/Entspannter/CrispCerebella/blob/main/Test_File.ipynb)"
      ],
      "execution_count": null,
      "outputs": [
        {
          "output_type": "error",
          "ename": "SyntaxError",
          "evalue": "ignored",
          "traceback": [
            "\u001b[0;36m  File \u001b[0;32m\"<ipython-input-1-fba62dd5493d>\"\u001b[0;36m, line \u001b[0;32m1\u001b[0m\n\u001b[0;31m    [![Open In Colab](https://colab.research.google.com/assets/colab-badge.svg)](https://github.com/Entspannter/CrispCerebella/blob/main/Test_File.ipynb)\u001b[0m\n\u001b[0m     ^\u001b[0m\n\u001b[0;31mSyntaxError\u001b[0m\u001b[0;31m:\u001b[0m invalid syntax\n"
          ]
        }
      ]
    },
    {
      "cell_type": "code",
      "metadata": {
        "colab": {
          "base_uri": "https://localhost:8080/"
        },
        "id": "eLhdw6NrbhZC",
        "outputId": "2fa50c4f-3bfb-43d0-b6f6-5f42e120ad4f"
      },
      "source": [
        "!git clone https://github.com/Entspannter/CrispCerebella.git"
      ],
      "execution_count": 1,
      "outputs": [
        {
          "output_type": "stream",
          "text": [
            "Cloning into 'CrispCerebella'...\n",
            "remote: Enumerating objects: 581, done.\u001b[K\n",
            "remote: Counting objects: 100% (8/8), done.\u001b[K\n",
            "remote: Compressing objects: 100% (8/8), done.\u001b[K\n",
            "remote: Total 581 (delta 2), reused 0 (delta 0), pack-reused 573\u001b[K\n",
            "Receiving objects: 100% (581/581), 226.77 MiB | 30.21 MiB/s, done.\n",
            "Resolving deltas: 100% (303/303), done.\n",
            "Checking out files: 100% (210/210), done.\n"
          ],
          "name": "stdout"
        }
      ]
    },
    {
      "cell_type": "code",
      "metadata": {
        "colab": {
          "base_uri": "https://localhost:8080/"
        },
        "id": "RQl055LHbpjq",
        "outputId": "36536bac-ae74-4935-da57-47d9bc8528c3"
      },
      "source": [
        "pip install -q -U keras-tuner"
      ],
      "execution_count": 2,
      "outputs": [
        {
          "output_type": "stream",
          "text": [
            "\u001b[?25l\r\u001b[K     |███▍                            | 10 kB 26.6 MB/s eta 0:00:01\r\u001b[K     |██████▉                         | 20 kB 30.3 MB/s eta 0:00:01\r\u001b[K     |██████████▏                     | 30 kB 35.3 MB/s eta 0:00:01\r\u001b[K     |█████████████▋                  | 40 kB 39.2 MB/s eta 0:00:01\r\u001b[K     |█████████████████               | 51 kB 36.3 MB/s eta 0:00:01\r\u001b[K     |████████████████████▍           | 61 kB 38.3 MB/s eta 0:00:01\r\u001b[K     |███████████████████████▊        | 71 kB 34.0 MB/s eta 0:00:01\r\u001b[K     |███████████████████████████▏    | 81 kB 30.7 MB/s eta 0:00:01\r\u001b[K     |██████████████████████████████▋ | 92 kB 32.2 MB/s eta 0:00:01\r\u001b[K     |████████████████████████████████| 96 kB 4.9 MB/s \n",
            "\u001b[?25h  Building wheel for kt-legacy (setup.py) ... \u001b[?25l\u001b[?25hdone\n"
          ],
          "name": "stdout"
        }
      ]
    },
    {
      "cell_type": "code",
      "metadata": {
        "id": "3tb9mJYCPzAO"
      },
      "source": [
        "import os \n",
        "from google.colab import files\n",
        "from tensorflow.keras.utils import to_categorical\n",
        "import keras_tuner"
      ],
      "execution_count": 3,
      "outputs": []
    },
    {
      "cell_type": "code",
      "metadata": {
        "id": "Vk97zhYHbsYm"
      },
      "source": [
        "# Import own functions and model-classes\n",
        "from CrispCerebella.Code.train_functions import *\n",
        "from CrispCerebella.Code.data_loading import *\n",
        "from CrispCerebella.Code.architecture import *"
      ],
      "execution_count": 4,
      "outputs": []
    },
    {
      "cell_type": "code",
      "metadata": {
        "id": "CwNKI6Q9dB9U"
      },
      "source": [
        "import tensorflow as tf\n",
        "import os\n",
        "import numpy as np\n",
        "import random \n",
        "\n",
        "SEED = 42"
      ],
      "execution_count": 5,
      "outputs": []
    },
    {
      "cell_type": "code",
      "metadata": {
        "id": "aBuE0kBgdEbB"
      },
      "source": [
        "# Call the above function with seed value\n",
        "set_global_determinism(seed=SEED)"
      ],
      "execution_count": 6,
      "outputs": []
    },
    {
      "cell_type": "code",
      "metadata": {
        "id": "BW_Xh5zcdGiL"
      },
      "source": [
        "import random as python_random\n",
        "# The below is necessary for starting Numpy generated random numbers\n",
        "# in a well-defined initial state.\n",
        "np.random.seed(SEED)\n",
        "\n",
        "# The below is necessary for starting core Python generated random numbers\n",
        "# in a well-defined state.\n",
        "python_random.seed(SEED)\n",
        "\n",
        "# The below set_seed() will make random number generation\n",
        "# in the TensorFlow backend have a well-defined initial state.\n",
        "# For further details, see:\n",
        "# https://www.tensorflow.org/api_docs/python/tf/random/set_seed\n",
        "tf.random.set_seed(SEED)"
      ],
      "execution_count": 7,
      "outputs": []
    },
    {
      "cell_type": "code",
      "metadata": {
        "colab": {
          "base_uri": "https://localhost:8080/"
        },
        "id": "b7uL5MXcbwee",
        "outputId": "165b936b-3622-42ba-89e6-bec6abb03c06"
      },
      "source": [
        "# load all train\n",
        "trainX, trainy = datasetloader('train', '/content/CrispCerebella/Dataset/UCI HAR Dataset/')\n",
        "print(\"Shape of training Data:\",trainX.shape, trainy.shape)\n",
        "# load all test\n",
        "testX, testy = datasetloader('test', '/content/CrispCerebella/Dataset/UCI HAR Dataset/')\n",
        "print(\"Shape of test Data:\",testX.shape, testy.shape)"
      ],
      "execution_count": 8,
      "outputs": [
        {
          "output_type": "stream",
          "text": [
            "Shape of training Data: (7352, 128, 9) (7352, 1)\n",
            "Shape of test Data: (2947, 128, 9) (2947, 1)\n"
          ],
          "name": "stdout"
        }
      ]
    },
    {
      "cell_type": "code",
      "metadata": {
        "id": "6oTykAMAEQPo",
        "colab": {
          "base_uri": "https://localhost:8080/"
        },
        "outputId": "db61bd1a-83b4-4df6-b786-bac2e016a13d"
      },
      "source": [
        "# transform the output date into categorical (one-hot-encoding) and print the updated shapes\n",
        "trainX, trainy, testX, testy = transform_dataset(trainX, trainy, testX, testy)\n",
        "\n",
        "n_timesteps, n_features, N_OUTPUTS = trainX.shape[1], trainX.shape[2], trainy.shape[1]\n",
        "\n",
        "n_steps, n_length = 4, 32\n",
        "\n",
        "# define the inout share for the LSTM model\n",
        "INPUT_SHAPE=(n_timesteps,n_features)\n",
        "\n",
        "# reshape into subsequences (samples, time steps, rows, cols, channels)\n",
        "trainX = trainX.reshape((trainX.shape[0], n_steps, 1, n_length, n_features))\n",
        "testX = testX.reshape((testX.shape[0], n_steps, 1, n_length, n_features))\n",
        "\n",
        "# define input variable for the k-fold CV and the model estimation functions\n",
        "Num_Epochs_Search = 40\n",
        "Num_Epochs_Fit = 40\n",
        "Max_Trials = 10\n",
        "Num_K_Folds = 5\n",
        "Model_Name_ConvLSTM = \"ConvLSTM\"\n",
        "batch_size = 64\n",
        "\n",
        "# merge the train and test data to recreate the initial dataset for later\n",
        "# splitting in the k-fold process\n",
        "X_ConvLSTM = np.concatenate((trainX, testX),axis=0)\n",
        "y_ConvLSTM = np.concatenate((trainy, testy),axis=0)\n"
      ],
      "execution_count": 9,
      "outputs": [
        {
          "output_type": "stream",
          "text": [
            "(7352, 128, 9) (7352, 1)\n",
            "(2947, 128, 9) (2947, 1)\n",
            "(7352, 128, 9) (7352, 6) (2947, 128, 9) (2947, 6)\n"
          ],
          "name": "stdout"
        }
      ]
    },
    {
      "cell_type": "code",
      "metadata": {
        "id": "zE4-D7-AESK1",
        "colab": {
          "base_uri": "https://localhost:8080/"
        },
        "outputId": "67c04f2c-2695-4c96-bf43-0365f150c770"
      },
      "source": [
        "Best_HP_ConvLSTM, Best_Epoch_ConvLSTM= k_fold_cv(X_ConvLSTM,\n",
        "                                                              y_ConvLSTM,\n",
        "                                                              ConvLSTM,\n",
        "                                                              Model_Name_ConvLSTM,\n",
        "                                                              INPUT_SHAPE,\n",
        "                                                              N_OUTPUTS,\n",
        "                                                              Max_Trials,\n",
        "                                                              Num_Epochs_Search,\n",
        "                                                              Num_Epochs_Fit,\n",
        "                                                              Num_K_Folds)\n"
      ],
      "execution_count": 10,
      "outputs": [
        {
          "output_type": "stream",
          "text": [
            "Trial 10 Complete [00h 01m 14s]\n",
            "val_accuracy: 0.8652912378311157\n",
            "\n",
            "Best val_accuracy So Far: 0.9016990065574646\n",
            "Total elapsed time: 00h 11m 33s\n",
            "INFO:tensorflow:Oracle triggered exit\n",
            "Epoch 1/40\n",
            "206/206 [==============================] - 7s 24ms/step - loss: 0.9831 - accuracy: 0.6476 - val_loss: 0.6748 - val_accuracy: 0.6742\n",
            "Epoch 2/40\n",
            "206/206 [==============================] - 5s 22ms/step - loss: 0.4719 - accuracy: 0.8142 - val_loss: 0.5242 - val_accuracy: 0.7652\n",
            "Epoch 3/40\n",
            "206/206 [==============================] - 5s 23ms/step - loss: 0.3591 - accuracy: 0.8667 - val_loss: 0.4807 - val_accuracy: 0.7925\n",
            "Epoch 4/40\n",
            "206/206 [==============================] - 5s 22ms/step - loss: 0.2876 - accuracy: 0.8929 - val_loss: 0.4085 - val_accuracy: 0.8252\n",
            "Epoch 5/40\n",
            "206/206 [==============================] - 5s 23ms/step - loss: 0.2379 - accuracy: 0.9173 - val_loss: 0.3750 - val_accuracy: 0.8368\n",
            "Epoch 6/40\n",
            "206/206 [==============================] - 5s 23ms/step - loss: 0.2104 - accuracy: 0.9258 - val_loss: 0.3858 - val_accuracy: 0.8258\n",
            "Epoch 7/40\n",
            "206/206 [==============================] - 5s 23ms/step - loss: 0.1907 - accuracy: 0.9305 - val_loss: 0.3009 - val_accuracy: 0.8944\n",
            "Epoch 8/40\n",
            "206/206 [==============================] - 5s 23ms/step - loss: 0.1696 - accuracy: 0.9381 - val_loss: 0.3101 - val_accuracy: 0.8659\n",
            "Epoch 9/40\n",
            "206/206 [==============================] - 5s 24ms/step - loss: 0.1575 - accuracy: 0.9381 - val_loss: 0.3463 - val_accuracy: 0.8568\n",
            "Epoch 10/40\n",
            "206/206 [==============================] - 5s 24ms/step - loss: 0.1450 - accuracy: 0.9472 - val_loss: 0.2937 - val_accuracy: 0.8981\n",
            "Epoch 11/40\n",
            "206/206 [==============================] - 5s 25ms/step - loss: 0.1382 - accuracy: 0.9465 - val_loss: 0.2901 - val_accuracy: 0.8896\n",
            "Epoch 12/40\n",
            "206/206 [==============================] - 5s 24ms/step - loss: 0.1309 - accuracy: 0.9504 - val_loss: 0.2989 - val_accuracy: 0.8823\n",
            "Epoch 13/40\n",
            "206/206 [==============================] - 5s 24ms/step - loss: 0.1299 - accuracy: 0.9499 - val_loss: 0.3051 - val_accuracy: 0.8829\n",
            "Epoch 14/40\n",
            "206/206 [==============================] - 5s 23ms/step - loss: 0.1247 - accuracy: 0.9527 - val_loss: 0.2844 - val_accuracy: 0.8877\n",
            "Epoch 15/40\n",
            "206/206 [==============================] - 5s 23ms/step - loss: 0.1224 - accuracy: 0.9534 - val_loss: 0.2869 - val_accuracy: 0.8890\n",
            "Epoch 16/40\n",
            "206/206 [==============================] - 5s 23ms/step - loss: 0.1194 - accuracy: 0.9531 - val_loss: 0.2852 - val_accuracy: 0.8968\n",
            "Epoch 17/40\n",
            "206/206 [==============================] - 5s 23ms/step - loss: 0.1134 - accuracy: 0.9566 - val_loss: 0.2810 - val_accuracy: 0.8999\n",
            "Epoch 18/40\n",
            "206/206 [==============================] - 5s 22ms/step - loss: 0.1139 - accuracy: 0.9537 - val_loss: 0.3230 - val_accuracy: 0.8841\n",
            "Epoch 19/40\n",
            "206/206 [==============================] - 5s 23ms/step - loss: 0.1101 - accuracy: 0.9552 - val_loss: 0.3179 - val_accuracy: 0.8962\n",
            "Epoch 20/40\n",
            "206/206 [==============================] - 5s 22ms/step - loss: 0.1127 - accuracy: 0.9566 - val_loss: 0.3223 - val_accuracy: 0.8811\n",
            "Epoch 21/40\n",
            "206/206 [==============================] - 5s 23ms/step - loss: 0.1092 - accuracy: 0.9563 - val_loss: 0.2939 - val_accuracy: 0.9053\n",
            "Epoch 22/40\n",
            "206/206 [==============================] - 5s 23ms/step - loss: 0.1054 - accuracy: 0.9552 - val_loss: 0.3063 - val_accuracy: 0.8920\n",
            "Epoch 23/40\n",
            "206/206 [==============================] - 5s 24ms/step - loss: 0.1058 - accuracy: 0.9566 - val_loss: 0.3104 - val_accuracy: 0.8926\n",
            "Epoch 24/40\n",
            "206/206 [==============================] - 5s 24ms/step - loss: 0.1087 - accuracy: 0.9562 - val_loss: 0.3179 - val_accuracy: 0.8975\n",
            "Epoch 25/40\n",
            "206/206 [==============================] - 5s 24ms/step - loss: 0.1038 - accuracy: 0.9560 - val_loss: 0.3422 - val_accuracy: 0.8762\n",
            "Epoch 26/40\n",
            "206/206 [==============================] - 5s 24ms/step - loss: 0.1064 - accuracy: 0.9549 - val_loss: 0.4070 - val_accuracy: 0.8610\n",
            "Epoch 27/40\n",
            "206/206 [==============================] - 5s 24ms/step - loss: 0.1009 - accuracy: 0.9593 - val_loss: 0.3103 - val_accuracy: 0.9144\n",
            "Epoch 28/40\n",
            "206/206 [==============================] - 5s 23ms/step - loss: 0.1001 - accuracy: 0.9565 - val_loss: 0.3642 - val_accuracy: 0.8762\n",
            "Epoch 29/40\n",
            "206/206 [==============================] - 5s 24ms/step - loss: 0.1001 - accuracy: 0.9577 - val_loss: 0.3552 - val_accuracy: 0.8799\n",
            "Epoch 30/40\n",
            "206/206 [==============================] - 5s 24ms/step - loss: 0.0974 - accuracy: 0.9609 - val_loss: 0.3314 - val_accuracy: 0.8938\n",
            "Epoch 31/40\n",
            "206/206 [==============================] - 5s 24ms/step - loss: 0.0974 - accuracy: 0.9580 - val_loss: 0.3307 - val_accuracy: 0.8993\n",
            "Epoch 32/40\n",
            "206/206 [==============================] - 5s 24ms/step - loss: 0.0978 - accuracy: 0.9583 - val_loss: 0.3270 - val_accuracy: 0.9132\n",
            "Epoch 33/40\n",
            "206/206 [==============================] - 5s 24ms/step - loss: 0.0951 - accuracy: 0.9609 - val_loss: 0.3375 - val_accuracy: 0.8999\n",
            "Epoch 34/40\n",
            "206/206 [==============================] - 5s 23ms/step - loss: 0.0940 - accuracy: 0.9587 - val_loss: 0.3587 - val_accuracy: 0.8835\n",
            "Epoch 35/40\n",
            "206/206 [==============================] - 5s 23ms/step - loss: 0.0921 - accuracy: 0.9600 - val_loss: 0.3615 - val_accuracy: 0.8811\n",
            "Epoch 36/40\n",
            "206/206 [==============================] - 5s 23ms/step - loss: 0.0928 - accuracy: 0.9590 - val_loss: 0.3789 - val_accuracy: 0.8944\n",
            "Epoch 37/40\n",
            "206/206 [==============================] - 5s 22ms/step - loss: 0.0963 - accuracy: 0.9603 - val_loss: 0.3624 - val_accuracy: 0.8871\n",
            "Epoch 38/40\n",
            "206/206 [==============================] - 5s 22ms/step - loss: 0.0867 - accuracy: 0.9634 - val_loss: 0.4079 - val_accuracy: 0.8695\n",
            "Epoch 39/40\n",
            "206/206 [==============================] - 5s 22ms/step - loss: 0.0879 - accuracy: 0.9618 - val_loss: 0.3636 - val_accuracy: 0.8987\n",
            "Epoch 40/40\n",
            "206/206 [==============================] - 5s 23ms/step - loss: 0.0887 - accuracy: 0.9616 - val_loss: 0.3700 - val_accuracy: 0.8975\n",
            "Best epoch: 27\n",
            "Epoch 1/27\n",
            "206/206 [==============================] - 6s 24ms/step - loss: 0.9782 - accuracy: 0.6515 - val_loss: 0.6622 - val_accuracy: 0.6905\n",
            "Epoch 2/27\n",
            "206/206 [==============================] - 5s 23ms/step - loss: 0.4576 - accuracy: 0.8225 - val_loss: 0.5169 - val_accuracy: 0.7712\n",
            "Epoch 3/27\n",
            "206/206 [==============================] - 5s 24ms/step - loss: 0.3374 - accuracy: 0.8785 - val_loss: 0.4712 - val_accuracy: 0.7840\n",
            "Epoch 4/27\n",
            "206/206 [==============================] - 5s 25ms/step - loss: 0.2655 - accuracy: 0.9047 - val_loss: 0.3547 - val_accuracy: 0.8671\n",
            "Epoch 5/27\n",
            "206/206 [==============================] - 5s 24ms/step - loss: 0.2200 - accuracy: 0.9258 - val_loss: 0.3321 - val_accuracy: 0.8598\n",
            "Epoch 6/27\n",
            "206/206 [==============================] - 5s 24ms/step - loss: 0.1955 - accuracy: 0.9296 - val_loss: 0.3230 - val_accuracy: 0.8544\n",
            "Epoch 7/27\n",
            "206/206 [==============================] - 5s 24ms/step - loss: 0.1798 - accuracy: 0.9329 - val_loss: 0.2901 - val_accuracy: 0.8920\n",
            "Epoch 8/27\n",
            "206/206 [==============================] - 5s 23ms/step - loss: 0.1649 - accuracy: 0.9396 - val_loss: 0.2950 - val_accuracy: 0.8732\n",
            "Epoch 9/27\n",
            "206/206 [==============================] - 5s 23ms/step - loss: 0.1522 - accuracy: 0.9414 - val_loss: 0.3292 - val_accuracy: 0.8629\n",
            "Epoch 10/27\n",
            "206/206 [==============================] - 5s 23ms/step - loss: 0.1461 - accuracy: 0.9455 - val_loss: 0.2801 - val_accuracy: 0.8993\n",
            "Epoch 11/27\n",
            "206/206 [==============================] - 5s 23ms/step - loss: 0.1391 - accuracy: 0.9465 - val_loss: 0.2793 - val_accuracy: 0.8890\n",
            "Epoch 12/27\n",
            "206/206 [==============================] - 5s 23ms/step - loss: 0.1329 - accuracy: 0.9469 - val_loss: 0.2902 - val_accuracy: 0.8780\n",
            "Epoch 13/27\n",
            "206/206 [==============================] - 5s 23ms/step - loss: 0.1297 - accuracy: 0.9505 - val_loss: 0.2903 - val_accuracy: 0.8859\n",
            "Epoch 14/27\n",
            "206/206 [==============================] - 5s 23ms/step - loss: 0.1264 - accuracy: 0.9507 - val_loss: 0.2901 - val_accuracy: 0.8683\n",
            "Epoch 15/27\n",
            "206/206 [==============================] - 5s 23ms/step - loss: 0.1226 - accuracy: 0.9525 - val_loss: 0.2796 - val_accuracy: 0.8841\n",
            "Epoch 16/27\n",
            "206/206 [==============================] - 5s 23ms/step - loss: 0.1184 - accuracy: 0.9539 - val_loss: 0.2861 - val_accuracy: 0.8841\n",
            "Epoch 17/27\n",
            "206/206 [==============================] - 5s 24ms/step - loss: 0.1148 - accuracy: 0.9557 - val_loss: 0.2771 - val_accuracy: 0.8859\n",
            "Epoch 18/27\n",
            "206/206 [==============================] - 5s 24ms/step - loss: 0.1161 - accuracy: 0.9540 - val_loss: 0.3024 - val_accuracy: 0.8792\n",
            "Epoch 19/27\n",
            "206/206 [==============================] - 5s 24ms/step - loss: 0.1120 - accuracy: 0.9542 - val_loss: 0.3096 - val_accuracy: 0.8938\n",
            "Epoch 20/27\n",
            "206/206 [==============================] - 5s 24ms/step - loss: 0.1120 - accuracy: 0.9562 - val_loss: 0.2947 - val_accuracy: 0.8817\n",
            "Epoch 21/27\n",
            "206/206 [==============================] - 5s 24ms/step - loss: 0.1098 - accuracy: 0.9578 - val_loss: 0.2959 - val_accuracy: 0.8962\n",
            "Epoch 22/27\n",
            "206/206 [==============================] - 5s 23ms/step - loss: 0.1074 - accuracy: 0.9562 - val_loss: 0.2894 - val_accuracy: 0.8823\n",
            "Epoch 23/27\n",
            "206/206 [==============================] - 5s 23ms/step - loss: 0.1054 - accuracy: 0.9565 - val_loss: 0.3404 - val_accuracy: 0.8732\n",
            "Epoch 24/27\n",
            "206/206 [==============================] - 5s 22ms/step - loss: 0.1077 - accuracy: 0.9560 - val_loss: 0.3008 - val_accuracy: 0.8853\n",
            "Epoch 25/27\n",
            "206/206 [==============================] - 5s 22ms/step - loss: 0.1014 - accuracy: 0.9590 - val_loss: 0.3238 - val_accuracy: 0.8683\n",
            "Epoch 26/27\n",
            "206/206 [==============================] - 5s 23ms/step - loss: 0.0998 - accuracy: 0.9583 - val_loss: 0.3479 - val_accuracy: 0.8726\n",
            "Epoch 27/27\n",
            "206/206 [==============================] - 5s 23ms/step - loss: 0.1003 - accuracy: 0.9574 - val_loss: 0.2928 - val_accuracy: 0.9066\n",
            "65/65 [==============================] - 0s 6ms/step - loss: 0.6373 - accuracy: 0.9063\n",
            "Fold number 5 is done\n",
            "Accuracy of each fold - [0.9441747665405273, 0.8834951519966125, 0.9393203854560852, 0.8800970911979675, 0.9062651991844177]\n",
            "Avg accuracy : 0.9106705188751221\n"
          ],
          "name": "stdout"
        }
      ]
    },
    {
      "cell_type": "code",
      "metadata": {
        "id": "vjJlynWLEUI-",
        "colab": {
          "base_uri": "https://localhost:8080/"
        },
        "outputId": "3b8ad4da-9a62-4af0-bc2e-13c5f7907733"
      },
      "source": [
        "# Print the hyperparameters that yielded the best model all over the k-folds\n",
        "Best_HP_ConvLSTM.get_config()['values']"
      ],
      "execution_count": 11,
      "outputs": [
        {
          "output_type": "execute_result",
          "data": {
            "text/plain": [
              "{'dense_activation': 'relu',\n",
              " 'dropout_1': 0.05,\n",
              " 'dropout_2': 0.0,\n",
              " 'learning_rate': 0.01,\n",
              " 'num_filters': 64,\n",
              " 'units': 32}"
            ]
          },
          "metadata": {
            "tags": []
          },
          "execution_count": 11
        }
      ]
    },
    {
      "cell_type": "code",
      "metadata": {
        "id": "NyTrPviVEWmM",
        "colab": {
          "base_uri": "https://localhost:8080/",
          "height": 1000
        },
        "outputId": "aecd17e3-ae0d-4391-ba7a-18f80a0384f0"
      },
      "source": [
        "# Build a new model with the HP, train it with the inital training set and eveluate it with the test set \n",
        "\n",
        "BestModelConvLSTM, ConvLSTM_accuracy = evaluate_model(trainX,\n",
        "                               trainy,\n",
        "                               testX,\n",
        "                               testy,\n",
        "                               INPUT_SHAPE,\n",
        "                               N_OUTPUTS,\n",
        "                               Best_HP_ConvLSTM,\n",
        "                               ConvLSTM,\n",
        "                               Best_Epoch_ConvLSTM,\n",
        "                               batch_size)\n"
      ],
      "execution_count": 12,
      "outputs": [
        {
          "output_type": "stream",
          "text": [
            "Epoch 1/34\n",
            "184/184 [==============================] - 10s 44ms/step - loss: 0.4251 - accuracy: 0.8349 - val_loss: 0.4070 - val_accuracy: 0.9007\n",
            "Epoch 2/34\n",
            "184/184 [==============================] - 8s 41ms/step - loss: 0.1391 - accuracy: 0.9441 - val_loss: 0.8232 - val_accuracy: 0.9055\n",
            "Epoch 3/34\n",
            "184/184 [==============================] - 8s 42ms/step - loss: 0.1573 - accuracy: 0.9403 - val_loss: 0.4435 - val_accuracy: 0.9218\n",
            "Epoch 4/34\n",
            "184/184 [==============================] - 7s 40ms/step - loss: 0.1186 - accuracy: 0.9503 - val_loss: 0.5207 - val_accuracy: 0.9028\n",
            "Epoch 5/34\n",
            "184/184 [==============================] - 7s 39ms/step - loss: 0.1055 - accuracy: 0.9561 - val_loss: 0.6412 - val_accuracy: 0.9089\n",
            "Epoch 6/34\n",
            "184/184 [==============================] - 7s 39ms/step - loss: 0.2599 - accuracy: 0.9322 - val_loss: 0.5931 - val_accuracy: 0.9116\n",
            "Epoch 7/34\n",
            "184/184 [==============================] - 7s 40ms/step - loss: 0.1263 - accuracy: 0.9514 - val_loss: 0.6007 - val_accuracy: 0.9089\n",
            "Epoch 8/34\n",
            "184/184 [==============================] - 7s 39ms/step - loss: 0.0971 - accuracy: 0.9597 - val_loss: 0.7536 - val_accuracy: 0.8967\n",
            "Epoch 9/34\n",
            "184/184 [==============================] - 7s 41ms/step - loss: 0.0837 - accuracy: 0.9616 - val_loss: 0.8409 - val_accuracy: 0.9001\n",
            "Epoch 10/34\n",
            "184/184 [==============================] - 8s 42ms/step - loss: 0.0789 - accuracy: 0.9641 - val_loss: 0.8198 - val_accuracy: 0.9157\n",
            "Epoch 11/34\n",
            "184/184 [==============================] - 8s 41ms/step - loss: 0.0773 - accuracy: 0.9638 - val_loss: 0.7558 - val_accuracy: 0.9035\n",
            "Epoch 12/34\n",
            "184/184 [==============================] - 7s 40ms/step - loss: 0.0773 - accuracy: 0.9621 - val_loss: 0.8638 - val_accuracy: 0.8919\n",
            "Epoch 13/34\n",
            "184/184 [==============================] - 7s 40ms/step - loss: 0.0729 - accuracy: 0.9636 - val_loss: 0.9987 - val_accuracy: 0.9116\n",
            "Epoch 14/34\n",
            "184/184 [==============================] - 8s 42ms/step - loss: 0.0763 - accuracy: 0.9634 - val_loss: 0.9333 - val_accuracy: 0.9198\n",
            "Epoch 15/34\n",
            "184/184 [==============================] - 8s 42ms/step - loss: 0.0733 - accuracy: 0.9643 - val_loss: 1.0713 - val_accuracy: 0.9028\n",
            "Epoch 16/34\n",
            "184/184 [==============================] - 8s 41ms/step - loss: 0.1154 - accuracy: 0.9577 - val_loss: 0.6927 - val_accuracy: 0.9075\n",
            "Epoch 17/34\n",
            "184/184 [==============================] - 7s 39ms/step - loss: 0.1854 - accuracy: 0.9400 - val_loss: 0.3201 - val_accuracy: 0.9273\n",
            "Epoch 18/34\n",
            "184/184 [==============================] - 7s 39ms/step - loss: 0.0944 - accuracy: 0.9589 - val_loss: 0.4052 - val_accuracy: 0.9422\n",
            "Epoch 19/34\n",
            "184/184 [==============================] - 7s 40ms/step - loss: 0.0736 - accuracy: 0.9660 - val_loss: 0.4339 - val_accuracy: 0.9286\n",
            "Epoch 20/34\n",
            "184/184 [==============================] - 7s 38ms/step - loss: 0.0763 - accuracy: 0.9636 - val_loss: 0.3672 - val_accuracy: 0.9395\n",
            "Epoch 21/34\n",
            "184/184 [==============================] - 7s 39ms/step - loss: 0.0674 - accuracy: 0.9657 - val_loss: 0.3925 - val_accuracy: 0.9375\n",
            "Epoch 22/34\n",
            "184/184 [==============================] - 7s 39ms/step - loss: 0.0676 - accuracy: 0.9663 - val_loss: 0.4886 - val_accuracy: 0.9381\n",
            "Epoch 23/34\n",
            "184/184 [==============================] - 8s 44ms/step - loss: 0.0598 - accuracy: 0.9680 - val_loss: 0.5482 - val_accuracy: 0.9300\n",
            "Epoch 24/34\n",
            "184/184 [==============================] - 8s 42ms/step - loss: 0.0586 - accuracy: 0.9672 - val_loss: 0.4917 - val_accuracy: 0.9143\n",
            "Epoch 25/34\n",
            "184/184 [==============================] - 8s 42ms/step - loss: 0.1064 - accuracy: 0.9558 - val_loss: 0.5723 - val_accuracy: 0.9402\n",
            "Epoch 26/34\n",
            "184/184 [==============================] - 7s 39ms/step - loss: 0.3827 - accuracy: 0.9527 - val_loss: 0.5781 - val_accuracy: 0.9157\n",
            "Epoch 27/34\n",
            "184/184 [==============================] - 7s 39ms/step - loss: 0.0862 - accuracy: 0.9616 - val_loss: 0.5895 - val_accuracy: 0.9266\n",
            "Epoch 28/34\n",
            "184/184 [==============================] - 7s 39ms/step - loss: 0.0655 - accuracy: 0.9679 - val_loss: 1.1829 - val_accuracy: 0.9375\n",
            "Epoch 29/34\n",
            "184/184 [==============================] - 7s 39ms/step - loss: 0.0724 - accuracy: 0.9684 - val_loss: 0.9817 - val_accuracy: 0.9307\n",
            "Epoch 30/34\n",
            "184/184 [==============================] - 7s 39ms/step - loss: 0.0614 - accuracy: 0.9684 - val_loss: 1.0564 - val_accuracy: 0.9218\n",
            "Epoch 31/34\n",
            "184/184 [==============================] - 7s 40ms/step - loss: 0.0564 - accuracy: 0.9721 - val_loss: 1.1985 - val_accuracy: 0.9313\n",
            "Epoch 32/34\n",
            "184/184 [==============================] - 8s 42ms/step - loss: 0.0562 - accuracy: 0.9711 - val_loss: 1.3607 - val_accuracy: 0.9313\n",
            "Epoch 33/34\n",
            "184/184 [==============================] - 8s 42ms/step - loss: 0.0534 - accuracy: 0.9728 - val_loss: 1.4142 - val_accuracy: 0.9313\n",
            "Epoch 34/34\n",
            "184/184 [==============================] - 8s 41ms/step - loss: 0.0614 - accuracy: 0.9696 - val_loss: 1.3058 - val_accuracy: 0.9320\n"
          ],
          "name": "stdout"
        },
        {
          "output_type": "display_data",
          "data": {
            "image/png": "[encoded data removed]",
            "text/plain": [
              "<Figure size 432x288 with 1 Axes>"
            ]
          },
          "metadata": {
            "tags": [],
            "needs_background": "light"
          }
        },
        {
          "output_type": "display_data",
          "data": {
            "image/png": "[encoded data removed]",
            "text/plain": [
              "<Figure size 432x288 with 1 Axes>"
            ]
          },
          "metadata": {
            "tags": [],
            "needs_background": "light"
          }
        },
        {
          "output_type": "stream",
          "text": [
            "The accuracy of the model is 0.9053274393081665\n"
          ],
          "name": "stdout"
        }
      ]
    },
    {
      "cell_type": "code",
      "metadata": {
        "id": "-adf-YTeWaOb"
      },
      "source": [
        "# create a unique file name by attaching the first four accuracy digits\n",
        "\n",
        "file_name_ending = str(int(ConvLSTM_accuracy * 10000))"
      ],
      "execution_count": 13,
      "outputs": []
    },
    {
      "cell_type": "code",
      "metadata": {
        "id": "o6i_iT_cEYKd",
        "colab": {
          "base_uri": "https://localhost:8080/"
        },
        "outputId": "c829f811-fdc2-4e2b-abf4-fb0bff09bf79"
      },
      "source": [
        "# save the model by using the unique file name (model name + accuracy)\n",
        "BestModelConvLSTM.save(\"/content/CrispCerebella/Models/Final_Model_ConvLSTM_\" + file_name_ending)"
      ],
      "execution_count": 14,
      "outputs": [
        {
          "output_type": "stream",
          "text": [
            "WARNING:absl:Found untraced functions such as dropout_4_layer_call_and_return_conditional_losses, dropout_4_layer_call_fn, flatten_2_layer_call_and_return_conditional_losses, flatten_2_layer_call_fn, dense_4_layer_call_and_return_conditional_losses while saving (showing 5 of 25). These functions will not be directly callable after loading.\n"
          ],
          "name": "stderr"
        },
        {
          "output_type": "stream",
          "text": [
            "INFO:tensorflow:Assets written to: /content/CrispCerebella/Models/Final_Model_ConvLSTM_9053/assets\n"
          ],
          "name": "stdout"
        },
        {
          "output_type": "stream",
          "text": [
            "INFO:tensorflow:Assets written to: /content/CrispCerebella/Models/Final_Model_ConvLSTM_9053/assets\n"
          ],
          "name": "stderr"
        }
      ]
    },
    {
      "cell_type": "code",
      "metadata": {
        "id": "CUp-gqZiNJqF",
        "colab": {
          "base_uri": "https://localhost:8080/"
        },
        "outputId": "161d0be4-3850-4e96-c774-b1b951ed6ad0"
      },
      "source": [
        "# create a zip file out of the saved model\n",
        "\n",
        "!zip -r /content/CrispCerebella/Models/Final_Model_ConvLSTM_{file_name_ending}.zip /content/CrispCerebella/Models/Final_Model_ConvLSTM_{file_name_ending}"
      ],
      "execution_count": 15,
      "outputs": [
        {
          "output_type": "stream",
          "text": [
            "  adding: content/CrispCerebella/Models/Final_Model_ConvLSTM_9053/ (stored 0%)\n",
            "  adding: content/CrispCerebella/Models/Final_Model_ConvLSTM_9053/variables/ (stored 0%)\n",
            "  adding: content/CrispCerebella/Models/Final_Model_ConvLSTM_9053/variables/variables.index (deflated 63%)\n",
            "  adding: content/CrispCerebella/Models/Final_Model_ConvLSTM_9053/variables/variables.data-00000-of-00001 (deflated 16%)\n",
            "  adding: content/CrispCerebella/Models/Final_Model_ConvLSTM_9053/assets/ (stored 0%)\n",
            "  adding: content/CrispCerebella/Models/Final_Model_ConvLSTM_9053/keras_metadata.pb (deflated 81%)\n",
            "  adding: content/CrispCerebella/Models/Final_Model_ConvLSTM_9053/saved_model.pb (deflated 90%)\n"
          ],
          "name": "stdout"
        }
      ]
    },
    {
      "cell_type": "code",
      "metadata": {
        "id": "v_9oAob8LZxd",
        "colab": {
          "base_uri": "https://localhost:8080/",
          "height": 17
        },
        "outputId": "657b884d-51cc-43c0-fabd-21beb3a58e3c"
      },
      "source": [
        "# downloading the zip file (to store it locally and be able to push it to git)\n",
        "\n",
        "files.download(f\"/content/CrispCerebella/Models/Final_Model_ConvLSTM_{file_name_ending}.zip\")"
      ],
      "execution_count": 16,
      "outputs": [
        {
          "output_type": "display_data",
          "data": {
            "application/javascript": [
              "\n",
              "    async function download(id, filename, size) {\n",
              "      if (!google.colab.kernel.accessAllowed) {\n",
              "        return;\n",
              "      }\n",
              "      const div = document.createElement('div');\n",
              "      const label = document.createElement('label');\n",
              "      label.textContent = `Downloading \"${filename}\": `;\n",
              "      div.appendChild(label);\n",
              "      const progress = document.createElement('progress');\n",
              "      progress.max = size;\n",
              "      div.appendChild(progress);\n",
              "      document.body.appendChild(div);\n",
              "\n",
              "      const buffers = [];\n",
              "      let downloaded = 0;\n",
              "\n",
              "      const channel = await google.colab.kernel.comms.open(id);\n",
              "      // Send a message to notify the kernel that we're ready.\n",
              "      channel.send({})\n",
              "\n",
              "      for await (const message of channel.messages) {\n",
              "        // Send a message to notify the kernel that we're ready.\n",
              "        channel.send({})\n",
              "        if (message.buffers) {\n",
              "          for (const buffer of message.buffers) {\n",
              "            buffers.push(buffer);\n",
              "            downloaded += buffer.byteLength;\n",
              "            progress.value = downloaded;\n",
              "          }\n",
              "        }\n",
              "      }\n",
              "      const blob = new Blob(buffers, {type: 'application/binary'});\n",
              "      const a = document.createElement('a');\n",
              "      a.href = window.URL.createObjectURL(blob);\n",
              "      a.download = filename;\n",
              "      div.appendChild(a);\n",
              "      a.click();\n",
              "      div.remove();\n",
              "    }\n",
              "  "
            ],
            "text/plain": [
              "<IPython.core.display.Javascript object>"
            ]
          },
          "metadata": {
            "tags": []
          }
        },
        {
          "output_type": "display_data",
          "data": {
            "application/javascript": [
              "download(\"download_a90987fb-db65-4b88-830e-171e8e66b8ee\", \"Final_Model_ConvLSTM_9053.zip\", 1260601)"
            ],
            "text/plain": [
              "<IPython.core.display.Javascript object>"
            ]
          },
          "metadata": {
            "tags": []
          }
        }
      ]
    },
    {
      "cell_type": "code",
      "metadata": {
        "id": "0TQs1p-FNveF"
      },
      "source": [
        "# unzip the folder of the model with a given accuracy\n",
        "# !unzip /content/CrispCerebella/Models/Final_Model_ConvLSTM_{file_name_ending}.zip -d /Test"
      ],
      "execution_count": 17,
      "outputs": []
    },
    {
      "cell_type": "code",
      "metadata": {
        "id": "4_3n0jm_Pk-E"
      },
      "source": [
        "# load the saved model\n",
        "# test_model = keras.models.load_model(f'/content/CrispCerebella/Test/content/CrispCerebella/Models/Final_Model_ConvLSTM_{file_name_ending}')"
      ],
      "execution_count": 18,
      "outputs": []
    },
    {
      "cell_type": "code",
      "metadata": {
        "id": "zwlDiVScQLRv"
      },
      "source": [
        "# evaluate the saved model\n",
        "# test_model.evaluate(testX, testy)"
      ],
      "execution_count": 19,
      "outputs": []
    }
  ]
}