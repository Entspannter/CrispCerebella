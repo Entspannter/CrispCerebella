{
  "nbformat": 4,
  "nbformat_minor": 0,
  "metadata": {
    "colab": {
      "name": "train_CNNLSTM.ipynb",
      "provenance": [],
      "include_colab_link": true
    },
    "kernelspec": {
      "name": "python3",
      "display_name": "Python 3"
    },
    "language_info": {
      "name": "python"
    },
    "accelerator": "GPU"
  },
  "cells": [
    {
      "cell_type": "markdown",
      "metadata": {
        "id": "view-in-github",
        "colab_type": "text"
      },
      "source": [
        "<a href=\"https://colab.research.google.com/github/Entspannter/CrispCerebella/blob/main/Code/train_CNNLSTM.ipynb\" target=\"_parent\"><img src=\"https://colab.research.google.com/assets/colab-badge.svg\" alt=\"Open In Colab\"/></a>"
      ]
    },
    {
      "cell_type": "code",
      "metadata": {
        "id": "_KY5Ao_fc_ps",
        "colab": {
          "base_uri": "https://localhost:8080/",
          "height": 128
        },
        "outputId": "dbe3cdba-85d4-4a97-c316-0e686db51db1"
      },
      "source": [
        "[![Open In Colab](https://colab.research.google.com/assets/colab-badge.svg)](https://github.com/Entspannter/CrispCerebella/blob/main/Test_File.ipynb)"
      ],
      "execution_count": null,
      "outputs": [
        {
          "output_type": "error",
          "ename": "SyntaxError",
          "evalue": "ignored",
          "traceback": [
            "\u001b[0;36m  File \u001b[0;32m\"<ipython-input-1-fba62dd5493d>\"\u001b[0;36m, line \u001b[0;32m1\u001b[0m\n\u001b[0;31m    [![Open In Colab](https://colab.research.google.com/assets/colab-badge.svg)](https://github.com/Entspannter/CrispCerebella/blob/main/Test_File.ipynb)\u001b[0m\n\u001b[0m     ^\u001b[0m\n\u001b[0;31mSyntaxError\u001b[0m\u001b[0;31m:\u001b[0m invalid syntax\n"
          ]
        }
      ]
    },
    {
      "cell_type": "code",
      "metadata": {
        "colab": {
          "base_uri": "https://localhost:8080/"
        },
        "id": "eLhdw6NrbhZC",
        "outputId": "47a68f91-17ee-4748-80bd-c8355a496921"
      },
      "source": [
        "!git clone https://github.com/Entspannter/CrispCerebella.git"
      ],
      "execution_count": 1,
      "outputs": [
        {
          "output_type": "stream",
          "text": [
            "Cloning into 'CrispCerebella'...\n",
            "remote: Enumerating objects: 577, done.\u001b[K\n",
            "remote: Counting objects: 100% (4/4), done.\u001b[K\n",
            "remote: Compressing objects: 100% (4/4), done.\u001b[K\n",
            "remote: Total 577 (delta 0), reused 0 (delta 0), pack-reused 573\u001b[K\n",
            "Receiving objects: 100% (577/577), 226.72 MiB | 30.17 MiB/s, done.\n",
            "Resolving deltas: 100% (301/301), done.\n",
            "Checking out files: 100% (210/210), done.\n"
          ],
          "name": "stdout"
        }
      ]
    },
    {
      "cell_type": "code",
      "metadata": {
        "id": "RQl055LHbpjq",
        "colab": {
          "base_uri": "https://localhost:8080/"
        },
        "outputId": "07595ebe-d7ee-49e9-bba0-030f4bc7e504"
      },
      "source": [
        "pip install -q -U keras-tuner"
      ],
      "execution_count": 2,
      "outputs": [
        {
          "output_type": "stream",
          "text": [
            "\u001b[?25l\r\u001b[K     |███▍                            | 10 kB 29.2 MB/s eta 0:00:01\r\u001b[K     |██████▉                         | 20 kB 33.3 MB/s eta 0:00:01\r\u001b[K     |██████████▏                     | 30 kB 37.2 MB/s eta 0:00:01\r\u001b[K     |█████████████▋                  | 40 kB 38.6 MB/s eta 0:00:01\r\u001b[K     |█████████████████               | 51 kB 34.2 MB/s eta 0:00:01\r\u001b[K     |████████████████████▍           | 61 kB 32.9 MB/s eta 0:00:01\r\u001b[K     |███████████████████████▊        | 71 kB 26.7 MB/s eta 0:00:01\r\u001b[K     |███████████████████████████▏    | 81 kB 27.7 MB/s eta 0:00:01\r\u001b[K     |██████████████████████████████▋ | 92 kB 29.0 MB/s eta 0:00:01\r\u001b[K     |████████████████████████████████| 96 kB 5.8 MB/s \n",
            "\u001b[?25h  Building wheel for kt-legacy (setup.py) ... \u001b[?25l\u001b[?25hdone\n"
          ],
          "name": "stdout"
        }
      ]
    },
    {
      "cell_type": "code",
      "metadata": {
        "id": "_biJcIHcNiN5"
      },
      "source": [
        "import tensorflow as tf\n",
        "import os\n",
        "import numpy as np\n",
        "import random \n",
        "\n",
        "SEED = 42"
      ],
      "execution_count": 3,
      "outputs": []
    },
    {
      "cell_type": "code",
      "metadata": {
        "id": "Vk97zhYHbsYm"
      },
      "source": [
        "# Import own functions and model-classes\n",
        "from CrispCerebella.Code.train_functions import *\n",
        "from CrispCerebella.Code.data_loading import *\n",
        "from CrispCerebella.Code.architecture import *\n"
      ],
      "execution_count": 4,
      "outputs": []
    },
    {
      "cell_type": "code",
      "metadata": {
        "id": "y1LDiCKyNuK-"
      },
      "source": [
        "# Call the above function with seed value\n",
        "set_global_determinism(seed=SEED)"
      ],
      "execution_count": 5,
      "outputs": []
    },
    {
      "cell_type": "code",
      "metadata": {
        "id": "ugfVNmycOBvn"
      },
      "source": [
        "import random as python_random\n",
        "# The below is necessary for starting Numpy generated random numbers\n",
        "# in a well-defined initial state.\n",
        "np.random.seed(SEED)\n",
        "\n",
        "# The below is necessary for starting core Python generated random numbers\n",
        "# in a well-defined state.\n",
        "python_random.seed(SEED)\n",
        "\n",
        "# The below set_seed() will make random number generation\n",
        "# in the TensorFlow backend have a well-defined initial state.\n",
        "# For further details, see:\n",
        "# https://www.tensorflow.org/api_docs/python/tf/random/set_seed\n",
        "tf.random.set_seed(SEED)"
      ],
      "execution_count": 6,
      "outputs": []
    },
    {
      "cell_type": "code",
      "metadata": {
        "id": "3tb9mJYCPzAO"
      },
      "source": [
        "import os \n",
        "import numpy as np\n",
        "from google.colab import files\n",
        "from tensorflow.keras.utils import to_categorical\n",
        "import keras_tuner"
      ],
      "execution_count": 7,
      "outputs": []
    },
    {
      "cell_type": "code",
      "metadata": {
        "colab": {
          "base_uri": "https://localhost:8080/"
        },
        "id": "b7uL5MXcbwee",
        "outputId": "15100bfe-80fa-4c08-f2b1-718eb17e1661"
      },
      "source": [
        "# load all train\n",
        "trainX, trainy = datasetloader('train', '/content/CrispCerebella/Dataset/UCI HAR Dataset/')\n",
        "print(\"Shape of training Data:\",trainX.shape, trainy.shape)\n",
        "# load all test\n",
        "testX, testy = datasetloader('test', '/content/CrispCerebella/Dataset/UCI HAR Dataset/')\n",
        "print(\"Shape of test Data:\",testX.shape, testy.shape)"
      ],
      "execution_count": 8,
      "outputs": [
        {
          "output_type": "stream",
          "text": [
            "Shape of training Data: (7352, 128, 9) (7352, 1)\n",
            "Shape of test Data: (2947, 128, 9) (2947, 1)\n"
          ],
          "name": "stdout"
        }
      ]
    },
    {
      "cell_type": "code",
      "metadata": {
        "id": "6oTykAMAEQPo",
        "colab": {
          "base_uri": "https://localhost:8080/"
        },
        "outputId": "03699238-b4f4-4106-9807-979e0cd7abc4"
      },
      "source": [
        "# transform the output date into categorical (one-hot-encoding) and print the updated shapes\n",
        "trainX, trainy, testX, testy = transform_dataset(trainX, trainy, testX, testy)\n",
        "\n",
        "n_timesteps, n_features, N_OUTPUTS = trainX.shape[1], trainX.shape[2], trainy.shape[1]\n",
        "\n",
        "n_steps, n_length = 4, 32\n",
        "\n",
        "#reshape the X data\n",
        "trainX = trainX.reshape((trainX.shape[0], n_steps, n_length, n_features))\n",
        "testX = testX.reshape((testX.shape[0], n_steps, n_length, n_features))\n",
        " \n",
        "# define the inout share for the CNNLSTM model\n",
        "INPUT_SHAPE=(None, n_timesteps,n_features)\n",
        "\n",
        "# define input variable for the k-fold CV and the model estimation functions\n",
        "Num_Epochs_Search = 40\n",
        "Num_Epochs_Fit = 40\n",
        "Max_Trials = 10\n",
        "Num_K_Folds = 5\n",
        "Model_Name_CNNLSTM = \"CNNLSTM\"\n",
        "batch_size = 64\n",
        "\n",
        "# merge the train and test data to recreate the initial dataset for later\n",
        "# splitting in the k-fold process\n",
        "X_CNNLSTM = np.concatenate((trainX, testX),axis=0)\n",
        "y_CNNLSTM = np.concatenate((trainy, testy),axis=0)\n"
      ],
      "execution_count": 9,
      "outputs": [
        {
          "output_type": "stream",
          "text": [
            "(7352, 128, 9) (7352, 1)\n",
            "(2947, 128, 9) (2947, 1)\n",
            "(7352, 128, 9) (7352, 6) (2947, 128, 9) (2947, 6)\n"
          ],
          "name": "stdout"
        }
      ]
    },
    {
      "cell_type": "code",
      "metadata": {
        "id": "zE4-D7-AESK1",
        "colab": {
          "base_uri": "https://localhost:8080/"
        },
        "outputId": "055c1a35-9d5d-40ee-a8b3-dc60ca1f89e1"
      },
      "source": [
        "# Hyperparameters tuning inside of k-fold CV\n",
        "Best_HP_CNNLSTM, Best_Epoch_CNNLSTM= k_fold_cv(X_CNNLSTM,\n",
        "                                                              y_CNNLSTM,\n",
        "                                                              CNNLSTM,\n",
        "                                                              Model_Name_CNNLSTM,\n",
        "                                                              INPUT_SHAPE,\n",
        "                                                              N_OUTPUTS,\n",
        "                                                              Max_Trials,\n",
        "                                                              Num_Epochs_Search,\n",
        "                                                              Num_Epochs_Fit,\n",
        "                                                              Num_K_Folds)\n"
      ],
      "execution_count": 10,
      "outputs": [
        {
          "output_type": "stream",
          "text": [
            "Trial 10 Complete [00h 00m 18s]\n",
            "val_accuracy: 0.8798543810844421\n",
            "\n",
            "Best val_accuracy So Far: 0.9095873832702637\n",
            "Total elapsed time: 00h 03m 51s\n",
            "INFO:tensorflow:Oracle triggered exit\n",
            "Epoch 1/40\n",
            "206/206 [==============================] - 4s 10ms/step - loss: 0.5867 - accuracy: 0.7515 - val_loss: 0.5005 - val_accuracy: 0.7907\n",
            "Epoch 2/40\n",
            "206/206 [==============================] - 1s 6ms/step - loss: 0.3192 - accuracy: 0.8909 - val_loss: 0.3490 - val_accuracy: 0.8689\n",
            "Epoch 3/40\n",
            "206/206 [==============================] - 1s 6ms/step - loss: 0.2276 - accuracy: 0.9205 - val_loss: 0.3980 - val_accuracy: 0.8337\n",
            "Epoch 4/40\n",
            "206/206 [==============================] - 1s 6ms/step - loss: 0.1873 - accuracy: 0.9279 - val_loss: 0.3501 - val_accuracy: 0.8538\n",
            "Epoch 5/40\n",
            "206/206 [==============================] - 1s 6ms/step - loss: 0.1602 - accuracy: 0.9427 - val_loss: 0.4329 - val_accuracy: 0.8532\n",
            "Epoch 6/40\n",
            "206/206 [==============================] - 1s 6ms/step - loss: 0.2015 - accuracy: 0.9273 - val_loss: 0.4018 - val_accuracy: 0.8617\n",
            "Epoch 7/40\n",
            "206/206 [==============================] - 1s 6ms/step - loss: 0.1396 - accuracy: 0.9498 - val_loss: 0.3003 - val_accuracy: 0.8659\n",
            "Epoch 8/40\n",
            "206/206 [==============================] - 1s 6ms/step - loss: 0.1424 - accuracy: 0.9481 - val_loss: 0.2733 - val_accuracy: 0.8841\n",
            "Epoch 9/40\n",
            "206/206 [==============================] - 1s 6ms/step - loss: 0.1410 - accuracy: 0.9502 - val_loss: 0.4268 - val_accuracy: 0.8647\n",
            "Epoch 10/40\n",
            "206/206 [==============================] - 1s 6ms/step - loss: 0.1622 - accuracy: 0.9427 - val_loss: 0.2945 - val_accuracy: 0.8926\n",
            "Epoch 11/40\n",
            "206/206 [==============================] - 1s 6ms/step - loss: 0.1427 - accuracy: 0.9492 - val_loss: 0.3288 - val_accuracy: 0.8538\n",
            "Epoch 12/40\n",
            "206/206 [==============================] - 1s 6ms/step - loss: 0.1699 - accuracy: 0.9380 - val_loss: 0.3553 - val_accuracy: 0.8295\n",
            "Epoch 13/40\n",
            "206/206 [==============================] - 1s 6ms/step - loss: 0.1520 - accuracy: 0.9440 - val_loss: 0.2729 - val_accuracy: 0.8835\n",
            "Epoch 14/40\n",
            "206/206 [==============================] - 1s 6ms/step - loss: 0.1537 - accuracy: 0.9471 - val_loss: 0.2744 - val_accuracy: 0.8805\n",
            "Epoch 15/40\n",
            "206/206 [==============================] - 1s 6ms/step - loss: 0.1361 - accuracy: 0.9487 - val_loss: 0.2450 - val_accuracy: 0.8750\n",
            "Epoch 16/40\n",
            "206/206 [==============================] - 1s 6ms/step - loss: 0.1680 - accuracy: 0.9421 - val_loss: 0.2661 - val_accuracy: 0.8756\n",
            "Epoch 17/40\n",
            "206/206 [==============================] - 1s 6ms/step - loss: 0.2020 - accuracy: 0.9322 - val_loss: 0.2816 - val_accuracy: 0.8786\n",
            "Epoch 18/40\n",
            "206/206 [==============================] - 1s 6ms/step - loss: 0.1681 - accuracy: 0.9422 - val_loss: 0.2517 - val_accuracy: 0.8835\n",
            "Epoch 19/40\n",
            "206/206 [==============================] - 1s 6ms/step - loss: 0.1649 - accuracy: 0.9402 - val_loss: 0.2777 - val_accuracy: 0.9047\n",
            "Epoch 20/40\n",
            "206/206 [==============================] - 1s 6ms/step - loss: 0.1364 - accuracy: 0.9492 - val_loss: 0.3781 - val_accuracy: 0.8525\n",
            "Epoch 21/40\n",
            "206/206 [==============================] - 1s 6ms/step - loss: 0.1811 - accuracy: 0.9351 - val_loss: 0.2839 - val_accuracy: 0.8756\n",
            "Epoch 22/40\n",
            "206/206 [==============================] - 1s 6ms/step - loss: 0.1302 - accuracy: 0.9513 - val_loss: 0.2820 - val_accuracy: 0.8756\n",
            "Epoch 23/40\n",
            "206/206 [==============================] - 1s 6ms/step - loss: 0.1388 - accuracy: 0.9460 - val_loss: 0.2759 - val_accuracy: 0.8908\n",
            "Epoch 24/40\n",
            "206/206 [==============================] - 1s 6ms/step - loss: 0.1479 - accuracy: 0.9457 - val_loss: 0.3162 - val_accuracy: 0.8617\n",
            "Epoch 25/40\n",
            "206/206 [==============================] - 1s 6ms/step - loss: 0.1308 - accuracy: 0.9499 - val_loss: 0.3331 - val_accuracy: 0.8586\n",
            "Epoch 26/40\n",
            "206/206 [==============================] - 1s 6ms/step - loss: 0.1542 - accuracy: 0.9417 - val_loss: 0.3928 - val_accuracy: 0.8307\n",
            "Epoch 27/40\n",
            "206/206 [==============================] - 1s 6ms/step - loss: 0.1323 - accuracy: 0.9454 - val_loss: 0.3893 - val_accuracy: 0.8883\n",
            "Epoch 28/40\n",
            "206/206 [==============================] - 1s 6ms/step - loss: 0.1341 - accuracy: 0.9501 - val_loss: 0.2784 - val_accuracy: 0.8823\n",
            "Epoch 29/40\n",
            "206/206 [==============================] - 1s 6ms/step - loss: 0.1699 - accuracy: 0.9411 - val_loss: 0.3938 - val_accuracy: 0.8604\n",
            "Epoch 30/40\n",
            "206/206 [==============================] - 1s 6ms/step - loss: 0.1703 - accuracy: 0.9386 - val_loss: 0.2811 - val_accuracy: 0.8604\n",
            "Epoch 31/40\n",
            "206/206 [==============================] - 1s 6ms/step - loss: 0.1601 - accuracy: 0.9408 - val_loss: 0.3213 - val_accuracy: 0.8641\n",
            "Epoch 32/40\n",
            "206/206 [==============================] - 1s 6ms/step - loss: 0.1609 - accuracy: 0.9425 - val_loss: 0.2998 - val_accuracy: 0.8738\n",
            "Epoch 33/40\n",
            "206/206 [==============================] - 1s 6ms/step - loss: 0.1527 - accuracy: 0.9451 - val_loss: 0.3354 - val_accuracy: 0.8799\n",
            "Epoch 34/40\n",
            "206/206 [==============================] - 1s 6ms/step - loss: 0.1585 - accuracy: 0.9460 - val_loss: 0.3267 - val_accuracy: 0.8689\n",
            "Epoch 35/40\n",
            "206/206 [==============================] - 1s 6ms/step - loss: 0.1770 - accuracy: 0.9387 - val_loss: 0.3465 - val_accuracy: 0.8592\n",
            "Epoch 36/40\n",
            "206/206 [==============================] - 1s 6ms/step - loss: 0.1424 - accuracy: 0.9480 - val_loss: 0.2687 - val_accuracy: 0.8902\n",
            "Epoch 37/40\n",
            "206/206 [==============================] - 1s 6ms/step - loss: 0.1218 - accuracy: 0.9552 - val_loss: 0.2969 - val_accuracy: 0.8841\n",
            "Epoch 38/40\n",
            "206/206 [==============================] - 1s 6ms/step - loss: 0.1254 - accuracy: 0.9525 - val_loss: 0.3028 - val_accuracy: 0.8744\n",
            "Epoch 39/40\n",
            "206/206 [==============================] - 1s 6ms/step - loss: 0.1606 - accuracy: 0.9381 - val_loss: 0.2880 - val_accuracy: 0.8629\n",
            "Epoch 40/40\n",
            "206/206 [==============================] - 1s 6ms/step - loss: 0.1383 - accuracy: 0.9504 - val_loss: 0.2880 - val_accuracy: 0.8792\n",
            "Best epoch: 19\n",
            "Epoch 1/19\n",
            "206/206 [==============================] - 4s 10ms/step - loss: 0.6343 - accuracy: 0.7256 - val_loss: 0.4419 - val_accuracy: 0.8186\n",
            "Epoch 2/19\n",
            "206/206 [==============================] - 1s 6ms/step - loss: 0.2448 - accuracy: 0.9187 - val_loss: 0.2923 - val_accuracy: 0.8853\n",
            "Epoch 3/19\n",
            "206/206 [==============================] - 1s 6ms/step - loss: 0.1796 - accuracy: 0.9392 - val_loss: 0.3384 - val_accuracy: 0.8592\n",
            "Epoch 4/19\n",
            "206/206 [==============================] - 1s 6ms/step - loss: 0.1843 - accuracy: 0.9378 - val_loss: 0.2464 - val_accuracy: 0.9053\n",
            "Epoch 5/19\n",
            "206/206 [==============================] - 1s 6ms/step - loss: 0.1740 - accuracy: 0.9389 - val_loss: 0.2994 - val_accuracy: 0.8750\n",
            "Epoch 6/19\n",
            "206/206 [==============================] - 1s 6ms/step - loss: 0.1695 - accuracy: 0.9375 - val_loss: 0.2527 - val_accuracy: 0.8732\n",
            "Epoch 7/19\n",
            "206/206 [==============================] - 1s 6ms/step - loss: 0.1474 - accuracy: 0.9458 - val_loss: 0.3988 - val_accuracy: 0.8568\n",
            "Epoch 8/19\n",
            "206/206 [==============================] - 1s 6ms/step - loss: 0.1356 - accuracy: 0.9531 - val_loss: 0.2571 - val_accuracy: 0.8695\n",
            "Epoch 9/19\n",
            "206/206 [==============================] - 1s 6ms/step - loss: 0.1324 - accuracy: 0.9486 - val_loss: 0.2863 - val_accuracy: 0.8805\n",
            "Epoch 10/19\n",
            "206/206 [==============================] - 1s 6ms/step - loss: 0.1440 - accuracy: 0.9512 - val_loss: 0.2732 - val_accuracy: 0.8871\n",
            "Epoch 11/19\n",
            "206/206 [==============================] - 1s 6ms/step - loss: 0.1447 - accuracy: 0.9417 - val_loss: 0.2694 - val_accuracy: 0.8823\n",
            "Epoch 12/19\n",
            "206/206 [==============================] - 1s 6ms/step - loss: 0.1380 - accuracy: 0.9508 - val_loss: 0.2136 - val_accuracy: 0.8780\n",
            "Epoch 13/19\n",
            "206/206 [==============================] - 1s 6ms/step - loss: 0.1167 - accuracy: 0.9542 - val_loss: 0.2489 - val_accuracy: 0.9017\n",
            "Epoch 14/19\n",
            "206/206 [==============================] - 1s 6ms/step - loss: 0.1168 - accuracy: 0.9549 - val_loss: 0.2771 - val_accuracy: 0.8659\n",
            "Epoch 15/19\n",
            "206/206 [==============================] - 1s 6ms/step - loss: 0.1552 - accuracy: 0.9446 - val_loss: 0.2792 - val_accuracy: 0.8780\n",
            "Epoch 16/19\n",
            "206/206 [==============================] - 1s 6ms/step - loss: 0.1574 - accuracy: 0.9460 - val_loss: 0.2801 - val_accuracy: 0.8993\n",
            "Epoch 17/19\n",
            "206/206 [==============================] - 1s 6ms/step - loss: 0.1657 - accuracy: 0.9408 - val_loss: 0.2297 - val_accuracy: 0.8829\n",
            "Epoch 18/19\n",
            "206/206 [==============================] - 1s 6ms/step - loss: 0.1452 - accuracy: 0.9461 - val_loss: 0.2809 - val_accuracy: 0.8641\n",
            "Epoch 19/19\n",
            "206/206 [==============================] - 1s 6ms/step - loss: 0.1291 - accuracy: 0.9490 - val_loss: 0.2763 - val_accuracy: 0.8835\n",
            "65/65 [==============================] - 0s 3ms/step - loss: 0.3806 - accuracy: 0.9271\n",
            "Fold number 5 is done\n",
            "Accuracy of each fold - [0.9072815775871277, 0.8766990303993225, 0.9558252692222595, 0.9082524180412292, 0.9271491169929504]\n",
            "Avg accuracy : 0.9150414824485779\n"
          ],
          "name": "stdout"
        }
      ]
    },
    {
      "cell_type": "code",
      "metadata": {
        "id": "vjJlynWLEUI-",
        "colab": {
          "base_uri": "https://localhost:8080/"
        },
        "outputId": "816da033-4e1c-4db1-e331-5ec670b30efa"
      },
      "source": [
        "# Print the hyperparameters that yielded the best model all over the k-folds\n",
        "Best_HP_CNNLSTM.get_config()['values']"
      ],
      "execution_count": 11,
      "outputs": [
        {
          "output_type": "execute_result",
          "data": {
            "text/plain": [
              "{'dense_activation': 'tanh',\n",
              " 'dropout_1': 0.35000000000000003,\n",
              " 'dropout_2': 0.35000000000000003,\n",
              " 'learning_rate': 0.0051059346908493425,\n",
              " 'num_filters_1': 32,\n",
              " 'num_filters_2': 16,\n",
              " 'units': 224,\n",
              " 'units_LSTM': 512}"
            ]
          },
          "metadata": {
            "tags": []
          },
          "execution_count": 11
        }
      ]
    },
    {
      "cell_type": "code",
      "metadata": {
        "id": "NyTrPviVEWmM",
        "colab": {
          "base_uri": "https://localhost:8080/",
          "height": 1000
        },
        "outputId": "4eed5a28-d826-4b42-b9a6-01810d1b146d"
      },
      "source": [
        "# Build a new model with the HP, train it with the inital training set and eveluate it with the test set \n",
        "\n",
        "BestModelCNNLSTM, CNNLSTM_accuracy = evaluate_model(trainX,\n",
        "                               trainy,\n",
        "                               testX,\n",
        "                               testy,\n",
        "                               INPUT_SHAPE,\n",
        "                               N_OUTPUTS,\n",
        "                               Best_HP_CNNLSTM,\n",
        "                               CNNLSTM,\n",
        "                               Best_Epoch_CNNLSTM,\n",
        "                               batch_size)\n"
      ],
      "execution_count": 12,
      "outputs": [
        {
          "output_type": "stream",
          "text": [
            "Epoch 1/27\n",
            "184/184 [==============================] - 4s 9ms/step - loss: 0.4726 - accuracy: 0.8029 - val_loss: 0.3225 - val_accuracy: 0.8946\n",
            "Epoch 2/27\n",
            "184/184 [==============================] - 1s 6ms/step - loss: 0.1908 - accuracy: 0.9315 - val_loss: 0.3262 - val_accuracy: 0.9069\n",
            "Epoch 3/27\n",
            "184/184 [==============================] - 1s 6ms/step - loss: 0.1338 - accuracy: 0.9444 - val_loss: 0.2158 - val_accuracy: 0.9307\n",
            "Epoch 4/27\n",
            "184/184 [==============================] - 1s 6ms/step - loss: 0.1384 - accuracy: 0.9480 - val_loss: 0.2275 - val_accuracy: 0.9225\n",
            "Epoch 5/27\n",
            "184/184 [==============================] - 1s 6ms/step - loss: 0.1270 - accuracy: 0.9476 - val_loss: 0.4122 - val_accuracy: 0.8817\n",
            "Epoch 6/27\n",
            "184/184 [==============================] - 1s 6ms/step - loss: 0.1226 - accuracy: 0.9502 - val_loss: 0.2395 - val_accuracy: 0.9313\n",
            "Epoch 7/27\n",
            "184/184 [==============================] - 1s 6ms/step - loss: 0.1097 - accuracy: 0.9532 - val_loss: 0.2372 - val_accuracy: 0.9123\n",
            "Epoch 8/27\n",
            "184/184 [==============================] - 1s 6ms/step - loss: 0.1233 - accuracy: 0.9509 - val_loss: 0.2545 - val_accuracy: 0.9327\n",
            "Epoch 9/27\n",
            "184/184 [==============================] - 1s 6ms/step - loss: 0.1248 - accuracy: 0.9468 - val_loss: 0.3967 - val_accuracy: 0.9007\n",
            "Epoch 10/27\n",
            "184/184 [==============================] - 1s 6ms/step - loss: 0.1084 - accuracy: 0.9553 - val_loss: 0.4226 - val_accuracy: 0.8715\n",
            "Epoch 11/27\n",
            "184/184 [==============================] - 1s 6ms/step - loss: 0.1411 - accuracy: 0.9492 - val_loss: 0.3004 - val_accuracy: 0.8973\n",
            "Epoch 12/27\n",
            "184/184 [==============================] - 1s 6ms/step - loss: 0.1271 - accuracy: 0.9478 - val_loss: 0.5459 - val_accuracy: 0.8878\n",
            "Epoch 13/27\n",
            "184/184 [==============================] - 1s 6ms/step - loss: 0.1282 - accuracy: 0.9481 - val_loss: 0.4888 - val_accuracy: 0.9130\n",
            "Epoch 14/27\n",
            "184/184 [==============================] - 1s 6ms/step - loss: 0.0886 - accuracy: 0.9590 - val_loss: 0.5394 - val_accuracy: 0.9007\n",
            "Epoch 15/27\n",
            "184/184 [==============================] - 1s 6ms/step - loss: 0.0843 - accuracy: 0.9572 - val_loss: 0.5965 - val_accuracy: 0.8844\n",
            "Epoch 16/27\n",
            "184/184 [==============================] - 1s 6ms/step - loss: 0.0918 - accuracy: 0.9582 - val_loss: 0.5737 - val_accuracy: 0.9137\n",
            "Epoch 17/27\n",
            "184/184 [==============================] - 1s 6ms/step - loss: 0.0922 - accuracy: 0.9558 - val_loss: 0.4844 - val_accuracy: 0.9171\n",
            "Epoch 18/27\n",
            "184/184 [==============================] - 1s 6ms/step - loss: 0.1532 - accuracy: 0.9398 - val_loss: 0.3744 - val_accuracy: 0.9232\n",
            "Epoch 19/27\n",
            "184/184 [==============================] - 1s 6ms/step - loss: 0.1060 - accuracy: 0.9541 - val_loss: 0.3668 - val_accuracy: 0.9266\n",
            "Epoch 20/27\n",
            "184/184 [==============================] - 1s 6ms/step - loss: 0.0856 - accuracy: 0.9592 - val_loss: 0.4067 - val_accuracy: 0.9218\n",
            "Epoch 21/27\n",
            "184/184 [==============================] - 1s 6ms/step - loss: 0.0986 - accuracy: 0.9546 - val_loss: 0.3248 - val_accuracy: 0.9320\n",
            "Epoch 22/27\n",
            "184/184 [==============================] - 1s 6ms/step - loss: 0.0926 - accuracy: 0.9583 - val_loss: 0.3354 - val_accuracy: 0.9062\n",
            "Epoch 23/27\n",
            "184/184 [==============================] - 1s 6ms/step - loss: 0.0838 - accuracy: 0.9607 - val_loss: 0.4332 - val_accuracy: 0.9096\n",
            "Epoch 24/27\n",
            "184/184 [==============================] - 1s 6ms/step - loss: 0.1069 - accuracy: 0.9577 - val_loss: 0.3527 - val_accuracy: 0.9191\n",
            "Epoch 25/27\n",
            "184/184 [==============================] - 1s 6ms/step - loss: 0.0960 - accuracy: 0.9573 - val_loss: 0.4923 - val_accuracy: 0.9007\n",
            "Epoch 26/27\n",
            "184/184 [==============================] - 1s 6ms/step - loss: 0.1261 - accuracy: 0.9526 - val_loss: 0.4646 - val_accuracy: 0.9123\n",
            "Epoch 27/27\n",
            "184/184 [==============================] - 1s 7ms/step - loss: 0.1289 - accuracy: 0.9520 - val_loss: 0.4218 - val_accuracy: 0.9082\n"
          ],
          "name": "stdout"
        },
        {
          "output_type": "display_data",
          "data": {
            "image/png": "[encoded data removed]",
            "text/plain": [
              "<Figure size 432x288 with 1 Axes>"
            ]
          },
          "metadata": {
            "tags": [],
            "needs_background": "light"
          }
        },
        {
          "output_type": "display_data",
          "data": {
            "image/png": "[encoded data removed]",
            "text/plain": [
              "<Figure size 432x288 with 1 Axes>"
            ]
          },
          "metadata": {
            "tags": [],
            "needs_background": "light"
          }
        },
        {
          "output_type": "stream",
          "text": [
            "The accuracy of the model is 0.91923987865448\n"
          ],
          "name": "stdout"
        }
      ]
    },
    {
      "cell_type": "code",
      "metadata": {
        "id": "-adf-YTeWaOb"
      },
      "source": [
        "# create a unique file name by attaching the first four accuracy digits\n",
        "\n",
        "file_name_ending = str(int(CNNLSTM_accuracy * 10000))"
      ],
      "execution_count": 13,
      "outputs": []
    },
    {
      "cell_type": "code",
      "metadata": {
        "id": "o6i_iT_cEYKd",
        "colab": {
          "base_uri": "https://localhost:8080/"
        },
        "outputId": "4bf53dd3-015d-406b-b0f8-1bba63355630"
      },
      "source": [
        "# save the model by using the unique file name (model name + accuracy)\n",
        "BestModelCNNLSTM.save(\"/content/CrispCerebella/Models/Final_Model_CNNLSTM_\" + file_name_ending)"
      ],
      "execution_count": 14,
      "outputs": [
        {
          "output_type": "stream",
          "text": [
            "WARNING:absl:Found untraced functions such as dropout_5_layer_call_and_return_conditional_losses, dropout_5_layer_call_fn, dense_4_layer_call_and_return_conditional_losses, dense_4_layer_call_fn, dense_5_layer_call_and_return_conditional_losses while saving (showing 5 of 20). These functions will not be directly callable after loading.\n"
          ],
          "name": "stderr"
        },
        {
          "output_type": "stream",
          "text": [
            "INFO:tensorflow:Assets written to: /content/CrispCerebella/Models/Final_Model_CNNLSTM_9192/assets\n"
          ],
          "name": "stdout"
        },
        {
          "output_type": "stream",
          "text": [
            "INFO:tensorflow:Assets written to: /content/CrispCerebella/Models/Final_Model_CNNLSTM_9192/assets\n"
          ],
          "name": "stderr"
        }
      ]
    },
    {
      "cell_type": "code",
      "metadata": {
        "id": "CUp-gqZiNJqF",
        "colab": {
          "base_uri": "https://localhost:8080/"
        },
        "outputId": "399f132a-df8e-47c2-de20-91b9e8560b28"
      },
      "source": [
        "# create a zip file out of the saved model\n",
        "\n",
        "!zip -r /content/CrispCerebella/Models/Final_Model_CNNLSTM_{file_name_ending}.zip /content/CrispCerebella/Models/Final_Model_CNNLSTM_{file_name_ending}"
      ],
      "execution_count": 15,
      "outputs": [
        {
          "output_type": "stream",
          "text": [
            "  adding: content/CrispCerebella/Models/Final_Model_CNNLSTM_9192/ (stored 0%)\n",
            "  adding: content/CrispCerebella/Models/Final_Model_CNNLSTM_9192/variables/ (stored 0%)\n",
            "  adding: content/CrispCerebella/Models/Final_Model_CNNLSTM_9192/variables/variables.index (deflated 66%)\n",
            "  adding: content/CrispCerebella/Models/Final_Model_CNNLSTM_9192/variables/variables.data-00000-of-00001 (deflated 6%)\n",
            "  adding: content/CrispCerebella/Models/Final_Model_CNNLSTM_9192/assets/ (stored 0%)\n",
            "  adding: content/CrispCerebella/Models/Final_Model_CNNLSTM_9192/keras_metadata.pb (deflated 84%)\n",
            "  adding: content/CrispCerebella/Models/Final_Model_CNNLSTM_9192/saved_model.pb (deflated 89%)\n"
          ],
          "name": "stdout"
        }
      ]
    },
    {
      "cell_type": "code",
      "metadata": {
        "id": "v_9oAob8LZxd",
        "colab": {
          "base_uri": "https://localhost:8080/",
          "height": 17
        },
        "outputId": "fea5afdf-94b9-4882-a1ca-2038b1161509"
      },
      "source": [
        "# downloading the zip file (to store it locally and be able to push it to git)\n",
        "\n",
        "files.download(f\"/content/CrispCerebella/Models/Final_Model_CNNLSTM_{file_name_ending}.zip\")"
      ],
      "execution_count": 16,
      "outputs": [
        {
          "output_type": "display_data",
          "data": {
            "application/javascript": [
              "\n",
              "    async function download(id, filename, size) {\n",
              "      if (!google.colab.kernel.accessAllowed) {\n",
              "        return;\n",
              "      }\n",
              "      const div = document.createElement('div');\n",
              "      const label = document.createElement('label');\n",
              "      label.textContent = `Downloading \"${filename}\": `;\n",
              "      div.appendChild(label);\n",
              "      const progress = document.createElement('progress');\n",
              "      progress.max = size;\n",
              "      div.appendChild(progress);\n",
              "      document.body.appendChild(div);\n",
              "\n",
              "      const buffers = [];\n",
              "      let downloaded = 0;\n",
              "\n",
              "      const channel = await google.colab.kernel.comms.open(id);\n",
              "      // Send a message to notify the kernel that we're ready.\n",
              "      channel.send({})\n",
              "\n",
              "      for await (const message of channel.messages) {\n",
              "        // Send a message to notify the kernel that we're ready.\n",
              "        channel.send({})\n",
              "        if (message.buffers) {\n",
              "          for (const buffer of message.buffers) {\n",
              "            buffers.push(buffer);\n",
              "            downloaded += buffer.byteLength;\n",
              "            progress.value = downloaded;\n",
              "          }\n",
              "        }\n",
              "      }\n",
              "      const blob = new Blob(buffers, {type: 'application/binary'});\n",
              "      const a = document.createElement('a');\n",
              "      a.href = window.URL.createObjectURL(blob);\n",
              "      a.download = filename;\n",
              "      div.appendChild(a);\n",
              "      a.click();\n",
              "      div.remove();\n",
              "    }\n",
              "  "
            ],
            "text/plain": [
              "<IPython.core.display.Javascript object>"
            ]
          },
          "metadata": {
            "tags": []
          }
        },
        {
          "output_type": "display_data",
          "data": {
            "application/javascript": [
              "download(\"download_1dd3e2b2-ae90-4c1e-bc00-601334eb440f\", \"Final_Model_CNNLSTM_9192.zip\", 18455858)"
            ],
            "text/plain": [
              "<IPython.core.display.Javascript object>"
            ]
          },
          "metadata": {
            "tags": []
          }
        }
      ]
    },
    {
      "cell_type": "code",
      "metadata": {
        "id": "0TQs1p-FNveF"
      },
      "source": [
        "# unzip the folder of the model with a given accuracy\n",
        "# !unzip /content/CrispCerebella/Models/Final_Model_CNNLSTM_{file_name_ending}.zip -d /Test"
      ],
      "execution_count": 17,
      "outputs": []
    },
    {
      "cell_type": "code",
      "metadata": {
        "id": "4_3n0jm_Pk-E"
      },
      "source": [
        "# load the saved model\n",
        "# test_model = keras.models.load_model(f'/content/CrispCerebella/Test/content/CrispCerebella/Models/Final_Model_CNNLSTM_{file_name_ending}')"
      ],
      "execution_count": 18,
      "outputs": []
    },
    {
      "cell_type": "code",
      "metadata": {
        "id": "zwlDiVScQLRv"
      },
      "source": [
        "# evaluate the saved model\n",
        "# test_model.evaluate(testX, testy)"
      ],
      "execution_count": 19,
      "outputs": []
    }
  ]
}