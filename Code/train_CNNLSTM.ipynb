{
  "nbformat": 4,
  "nbformat_minor": 0,
  "metadata": {
    "colab": {
      "name": "train_CNNLSTM.ipynb",
      "provenance": [],
      "authorship_tag": "ABX9TyPDQjwEBLVBHTysUZKzuybD",
      "include_colab_link": true
    },
    "kernelspec": {
      "name": "python3",
      "display_name": "Python 3"
    },
    "language_info": {
      "name": "python"
    },
    "accelerator": "GPU"
  },
  "cells": [
    {
      "cell_type": "markdown",
      "metadata": {
        "id": "view-in-github",
        "colab_type": "text"
      },
      "source": [
        "<a href=\"https://colab.research.google.com/github/Entspannter/CrispCerebella/blob/main/Code/train_CNNLSTM.ipynb\" target=\"_parent\"><img src=\"https://colab.research.google.com/assets/colab-badge.svg\" alt=\"Open In Colab\"/></a>"
      ]
    },
    {
      "cell_type": "code",
      "metadata": {
        "id": "_KY5Ao_fc_ps",
        "outputId": "dff3828d-3a19-4916-ada2-c1a91a4d4bbb",
        "colab": {
          "base_uri": "https://localhost:8080/",
          "height": 128
        }
      },
      "source": [
        "[![Open In Colab](https://colab.research.google.com/assets/colab-badge.svg)](https://github.com/Entspannter/CrispCerebella/blob/main/Test_File.ipynb)"
      ],
      "execution_count": 1,
      "outputs": [
        {
          "output_type": "error",
          "ename": "SyntaxError",
          "evalue": "ignored",
          "traceback": [
            "\u001b[0;36m  File \u001b[0;32m\"<ipython-input-1-fba62dd5493d>\"\u001b[0;36m, line \u001b[0;32m1\u001b[0m\n\u001b[0;31m    [![Open In Colab](https://colab.research.google.com/assets/colab-badge.svg)](https://github.com/Entspannter/CrispCerebella/blob/main/Test_File.ipynb)\u001b[0m\n\u001b[0m     ^\u001b[0m\n\u001b[0;31mSyntaxError\u001b[0m\u001b[0;31m:\u001b[0m invalid syntax\n"
          ]
        }
      ]
    },
    {
      "cell_type": "code",
      "metadata": {
        "colab": {
          "base_uri": "https://localhost:8080/"
        },
        "id": "eLhdw6NrbhZC",
        "outputId": "b26d7a31-79e8-4184-c14e-744894699865"
      },
      "source": [
        "!git clone https://github.com/Entspannter/CrispCerebella.git"
      ],
      "execution_count": 14,
      "outputs": [
        {
          "output_type": "stream",
          "text": [
            "fatal: destination path 'CrispCerebella' already exists and is not an empty directory.\n"
          ],
          "name": "stdout"
        }
      ]
    },
    {
      "cell_type": "code",
      "metadata": {
        "id": "RQl055LHbpjq"
      },
      "source": [
        "pip install -q -U keras-tuner"
      ],
      "execution_count": 15,
      "outputs": []
    },
    {
      "cell_type": "code",
      "metadata": {
        "id": "3tb9mJYCPzAO"
      },
      "source": [
        "import os \n",
        "import numpy as np\n",
        "from google.colab import files\n",
        "from tensorflow.keras.utils import to_categorical\n",
        "import keras_tuner"
      ],
      "execution_count": 16,
      "outputs": []
    },
    {
      "cell_type": "code",
      "metadata": {
        "id": "Vk97zhYHbsYm"
      },
      "source": [
        "# Import own functions and model-classes\n",
        "from CrispCerebella.Code.train_functions import *\n",
        "from CrispCerebella.Code.data_loading import *\n",
        "from CrispCerebella.Code.architecture import *\n"
      ],
      "execution_count": 17,
      "outputs": []
    },
    {
      "cell_type": "code",
      "metadata": {
        "colab": {
          "base_uri": "https://localhost:8080/"
        },
        "id": "b7uL5MXcbwee",
        "outputId": "c0b11d0d-30e9-4e3f-e99b-3327bf2bf330"
      },
      "source": [
        "# load all train\n",
        "trainX, trainy = datasetloader('train', '/content/CrispCerebella/Dataset/UCI HAR Dataset/')\n",
        "print(\"Shape of training Data:\",trainX.shape, trainy.shape)\n",
        "# load all test\n",
        "testX, testy = datasetloader('test', '/content/CrispCerebella/Dataset/UCI HAR Dataset/')\n",
        "print(\"Shape of test Data:\",testX.shape, testy.shape)"
      ],
      "execution_count": 18,
      "outputs": [
        {
          "output_type": "stream",
          "text": [
            "Shape of training Data: (7352, 128, 9) (7352, 1)\n",
            "Shape of test Data: (2947, 128, 9) (2947, 1)\n"
          ],
          "name": "stdout"
        }
      ]
    },
    {
      "cell_type": "code",
      "metadata": {
        "id": "6oTykAMAEQPo",
        "colab": {
          "base_uri": "https://localhost:8080/"
        },
        "outputId": "861c7f97-4789-43bf-eb6d-ec4ddc9c20f2"
      },
      "source": [
        "# transform the output date into categorical (one-hot-encoding) and print the updated shapes\n",
        "trainX, trainy, testX, testy = transform_dataset(trainX, trainy, testX, testy)\n",
        "\n",
        "n_timesteps, n_features, N_OUTPUTS = trainX.shape[1], trainX.shape[2], trainy.shape[1]\n",
        "\n",
        "n_steps, n_length = 4, 32\n",
        "\n",
        "#reshape the X data\n",
        "trainX = trainX.reshape((trainX.shape[0], n_steps, n_length, n_features))\n",
        "testX = testX.reshape((testX.shape[0], n_steps, n_length, n_features))\n",
        " \n",
        "# define the inout share for the CNNLSTM model\n",
        "INPUT_SHAPE=(None, n_timesteps,n_features)\n",
        "\n",
        "# define input variable for the k-fold CV and the model estimation functions\n",
        "Num_Epochs_Search = 40\n",
        "Num_Epochs_Fit = 20\n",
        "Max_Trials = 5\n",
        "Num_K_Folds = 5\n",
        "Model_Name_CNNLSTM = \"CNNLSTM\"\n",
        "batch_size = 64\n",
        "\n",
        "# merge the train and test data to recreate the initial dataset for later\n",
        "# splitting in the k-fold process\n",
        "X_CNNLSTM = np.concatenate((trainX, testX),axis=0)\n",
        "y_CNNLSTM = np.concatenate((trainy, testy),axis=0)\n"
      ],
      "execution_count": 19,
      "outputs": [
        {
          "output_type": "stream",
          "text": [
            "(7352, 128, 9) (7352, 1)\n",
            "(2947, 128, 9) (2947, 1)\n",
            "(7352, 128, 9) (7352, 6) (2947, 128, 9) (2947, 6)\n"
          ],
          "name": "stdout"
        }
      ]
    },
    {
      "cell_type": "code",
      "metadata": {
        "id": "zE4-D7-AESK1",
        "colab": {
          "base_uri": "https://localhost:8080/"
        },
        "outputId": "69fce8e5-9905-4498-c9f4-dd027069e821"
      },
      "source": [
        "# Hyperparameters tuning inside of k-fold CV\n",
        "Best_HP_CNNLSTM, Best_Epoch_CNNLSTM= k_fold_cv(X_CNNLSTM,\n",
        "                                                              y_CNNLSTM,\n",
        "                                                              CNNLSTM,\n",
        "                                                              Model_Name_CNNLSTM,\n",
        "                                                              INPUT_SHAPE,\n",
        "                                                              N_OUTPUTS,\n",
        "                                                              Max_Trials,\n",
        "                                                              Num_Epochs_Search,\n",
        "                                                              Num_Epochs_Fit,\n",
        "                                                              Num_K_Folds)\n"
      ],
      "execution_count": 20,
      "outputs": [
        {
          "output_type": "stream",
          "text": [
            "Trial 5 Complete [00h 00m 14s]\n",
            "val_accuracy: 0.8762136101722717\n",
            "\n",
            "Best val_accuracy So Far: 0.9120145440101624\n",
            "Total elapsed time: 00h 02m 51s\n",
            "INFO:tensorflow:Oracle triggered exit\n",
            "Epoch 1/20\n",
            "206/206 [==============================] - 6s 18ms/step - loss: 0.3288 - accuracy: 0.8730 - val_loss: 0.3436 - val_accuracy: 0.8283\n",
            "Epoch 2/20\n",
            "206/206 [==============================] - 3s 13ms/step - loss: 0.1449 - accuracy: 0.9446 - val_loss: 0.2447 - val_accuracy: 0.8786\n",
            "Epoch 3/20\n",
            "206/206 [==============================] - 3s 13ms/step - loss: 0.1281 - accuracy: 0.9508 - val_loss: 0.2454 - val_accuracy: 0.8877\n",
            "Epoch 4/20\n",
            "206/206 [==============================] - 3s 13ms/step - loss: 0.1258 - accuracy: 0.9536 - val_loss: 0.2224 - val_accuracy: 0.9047\n",
            "Epoch 5/20\n",
            "206/206 [==============================] - 3s 13ms/step - loss: 0.1179 - accuracy: 0.9542 - val_loss: 0.2364 - val_accuracy: 0.8871\n",
            "Epoch 6/20\n",
            "206/206 [==============================] - 3s 13ms/step - loss: 0.1034 - accuracy: 0.9565 - val_loss: 0.2425 - val_accuracy: 0.8956\n",
            "Epoch 7/20\n",
            "206/206 [==============================] - 3s 13ms/step - loss: 0.0967 - accuracy: 0.9563 - val_loss: 0.2402 - val_accuracy: 0.8993\n",
            "Epoch 8/20\n",
            "206/206 [==============================] - 3s 13ms/step - loss: 0.1139 - accuracy: 0.9537 - val_loss: 0.4210 - val_accuracy: 0.8762\n",
            "Epoch 9/20\n",
            "206/206 [==============================] - 3s 13ms/step - loss: 0.1227 - accuracy: 0.9505 - val_loss: 0.3299 - val_accuracy: 0.8701\n",
            "Epoch 10/20\n",
            "206/206 [==============================] - 3s 13ms/step - loss: 0.0927 - accuracy: 0.9607 - val_loss: 0.2761 - val_accuracy: 0.8962\n",
            "Epoch 11/20\n",
            "206/206 [==============================] - 3s 13ms/step - loss: 0.0997 - accuracy: 0.9533 - val_loss: 0.2874 - val_accuracy: 0.8829\n",
            "Epoch 12/20\n",
            "206/206 [==============================] - 3s 13ms/step - loss: 0.0881 - accuracy: 0.9609 - val_loss: 0.2860 - val_accuracy: 0.9072\n",
            "Epoch 13/20\n",
            "206/206 [==============================] - 3s 13ms/step - loss: 0.0935 - accuracy: 0.9557 - val_loss: 0.3991 - val_accuracy: 0.8780\n",
            "Epoch 14/20\n",
            "206/206 [==============================] - 3s 13ms/step - loss: 0.0816 - accuracy: 0.9612 - val_loss: 0.3070 - val_accuracy: 0.8871\n",
            "Epoch 15/20\n",
            "206/206 [==============================] - 3s 13ms/step - loss: 0.0944 - accuracy: 0.9596 - val_loss: 0.4178 - val_accuracy: 0.8659\n",
            "Epoch 16/20\n",
            "206/206 [==============================] - 3s 13ms/step - loss: 0.0861 - accuracy: 0.9624 - val_loss: 0.2773 - val_accuracy: 0.8999\n",
            "Epoch 17/20\n",
            "206/206 [==============================] - 3s 13ms/step - loss: 0.0756 - accuracy: 0.9633 - val_loss: 0.3965 - val_accuracy: 0.8726\n",
            "Epoch 18/20\n",
            "206/206 [==============================] - 3s 13ms/step - loss: 0.0703 - accuracy: 0.9634 - val_loss: 0.3638 - val_accuracy: 0.8920\n",
            "Epoch 19/20\n",
            "206/206 [==============================] - 3s 13ms/step - loss: 0.0679 - accuracy: 0.9672 - val_loss: 0.3118 - val_accuracy: 0.8975\n",
            "Epoch 20/20\n",
            "206/206 [==============================] - 3s 13ms/step - loss: 0.0651 - accuracy: 0.9695 - val_loss: 0.3908 - val_accuracy: 0.8902\n",
            "Best epoch: 12\n",
            "65/65 [==============================] - 0s 6ms/step - loss: 0.5307 - accuracy: 0.9271\n",
            "Fold number 5 is done\n",
            "Accuracy of each fold - [0.9543689489364624, 0.8388349413871765, 0.9441747665405273, 0.8825242519378662, 0.9271491169929504]\n",
            "Avg accuracy : 0.9094104051589966\n"
          ],
          "name": "stdout"
        }
      ]
    },
    {
      "cell_type": "code",
      "metadata": {
        "id": "vjJlynWLEUI-",
        "colab": {
          "base_uri": "https://localhost:8080/"
        },
        "outputId": "b488c865-71d7-4089-bd93-07184ea06421"
      },
      "source": [
        "# Print the hyperparameters that yielded the best model all over the k-folds\n",
        "Best_HP_CNNLSTM.get_config()['values']"
      ],
      "execution_count": 21,
      "outputs": [
        {
          "output_type": "execute_result",
          "data": {
            "text/plain": [
              "{'dense_activation': 'relu',\n",
              " 'dropout_1': 0.25,\n",
              " 'dropout_2': 0.30000000000000004,\n",
              " 'learning_rate': 0.002566210828786428,\n",
              " 'num_filters_1': 16,\n",
              " 'num_filters_2': 64,\n",
              " 'units': 416,\n",
              " 'units_LSTM': 96}"
            ]
          },
          "metadata": {
            "tags": []
          },
          "execution_count": 21
        }
      ]
    },
    {
      "cell_type": "code",
      "metadata": {
        "id": "NyTrPviVEWmM",
        "colab": {
          "base_uri": "https://localhost:8080/",
          "height": 1000
        },
        "outputId": "f14d7b29-bc17-49be-a139-5782c11d3e74"
      },
      "source": [
        "# Build a new model with the HP, train it with the inital training set and eveluate it with the test set \n",
        "\n",
        "BestModelCNNLSTM, CNNLSTM_accuracy = evaluate_model(trainX,\n",
        "                               trainy,\n",
        "                               testX,\n",
        "                               testy,\n",
        "                               INPUT_SHAPE,\n",
        "                               N_OUTPUTS,\n",
        "                               Best_HP_CNNLSTM,\n",
        "                               CNNLSTM,\n",
        "                               Best_Epoch_CNNLSTM,\n",
        "                               batch_size)\n"
      ],
      "execution_count": 23,
      "outputs": [
        {
          "output_type": "stream",
          "text": [
            "Epoch 1/19\n",
            "184/184 [==============================] - 5s 13ms/step - loss: 0.4428 - accuracy: 0.8170 - val_loss: 0.4543 - val_accuracy: 0.8708\n",
            "Epoch 2/19\n",
            "184/184 [==============================] - 2s 9ms/step - loss: 0.1463 - accuracy: 0.9444 - val_loss: 0.3981 - val_accuracy: 0.9048\n",
            "Epoch 3/19\n",
            "184/184 [==============================] - 2s 9ms/step - loss: 0.1210 - accuracy: 0.9475 - val_loss: 0.4744 - val_accuracy: 0.8939\n",
            "Epoch 4/19\n",
            "184/184 [==============================] - 2s 9ms/step - loss: 0.1045 - accuracy: 0.9537 - val_loss: 0.5490 - val_accuracy: 0.8967\n",
            "Epoch 5/19\n",
            "184/184 [==============================] - 2s 9ms/step - loss: 0.0934 - accuracy: 0.9577 - val_loss: 0.7076 - val_accuracy: 0.9048\n",
            "Epoch 6/19\n",
            "184/184 [==============================] - 2s 9ms/step - loss: 0.0908 - accuracy: 0.9573 - val_loss: 0.8697 - val_accuracy: 0.9055\n",
            "Epoch 7/19\n",
            "184/184 [==============================] - 2s 9ms/step - loss: 0.0972 - accuracy: 0.9597 - val_loss: 0.5374 - val_accuracy: 0.8899\n",
            "Epoch 8/19\n",
            "184/184 [==============================] - 2s 10ms/step - loss: 0.1277 - accuracy: 0.9456 - val_loss: 0.4379 - val_accuracy: 0.8770\n",
            "Epoch 9/19\n",
            "184/184 [==============================] - 2s 9ms/step - loss: 0.0888 - accuracy: 0.9600 - val_loss: 0.5665 - val_accuracy: 0.8967\n",
            "Epoch 10/19\n",
            "184/184 [==============================] - 2s 9ms/step - loss: 0.0974 - accuracy: 0.9561 - val_loss: 0.5547 - val_accuracy: 0.8804\n",
            "Epoch 11/19\n",
            "184/184 [==============================] - 2s 9ms/step - loss: 0.0771 - accuracy: 0.9606 - val_loss: 0.6218 - val_accuracy: 0.9123\n",
            "Epoch 12/19\n",
            "184/184 [==============================] - 2s 10ms/step - loss: 0.0749 - accuracy: 0.9611 - val_loss: 0.8288 - val_accuracy: 0.9035\n",
            "Epoch 13/19\n",
            "184/184 [==============================] - 2s 9ms/step - loss: 0.0772 - accuracy: 0.9645 - val_loss: 0.5955 - val_accuracy: 0.9001\n",
            "Epoch 14/19\n",
            "184/184 [==============================] - 2s 10ms/step - loss: 0.0779 - accuracy: 0.9631 - val_loss: 0.8636 - val_accuracy: 0.9007\n",
            "Epoch 15/19\n",
            "184/184 [==============================] - 2s 10ms/step - loss: 0.0935 - accuracy: 0.9580 - val_loss: 0.5384 - val_accuracy: 0.9109\n",
            "Epoch 16/19\n",
            "184/184 [==============================] - 2s 10ms/step - loss: 0.0887 - accuracy: 0.9594 - val_loss: 0.6508 - val_accuracy: 0.9041\n",
            "Epoch 17/19\n",
            "184/184 [==============================] - 2s 10ms/step - loss: 0.0716 - accuracy: 0.9631 - val_loss: 0.7292 - val_accuracy: 0.8736\n",
            "Epoch 18/19\n",
            "184/184 [==============================] - 2s 9ms/step - loss: 0.0744 - accuracy: 0.9665 - val_loss: 0.5798 - val_accuracy: 0.9116\n",
            "Epoch 19/19\n",
            "184/184 [==============================] - 2s 9ms/step - loss: 0.0700 - accuracy: 0.9648 - val_loss: 0.8132 - val_accuracy: 0.9048\n"
          ],
          "name": "stdout"
        },
        {
          "output_type": "display_data",
          "data": {
            "image/png": "[encoded data removed]",
            "text/plain": [
              "<Figure size 432x288 with 1 Axes>"
            ]
          },
          "metadata": {
            "tags": [],
            "needs_background": "light"
          }
        },
        {
          "output_type": "display_data",
          "data": {
            "image/png": "[encoded data removed]",
            "text/plain": [
              "<Figure size 432x288 with 1 Axes>"
            ]
          },
          "metadata": {
            "tags": [],
            "needs_background": "light"
          }
        },
        {
          "output_type": "stream",
          "text": [
            "The accuracy of the model is 0.9097387194633484\n"
          ],
          "name": "stdout"
        }
      ]
    },
    {
      "cell_type": "code",
      "metadata": {
        "id": "-adf-YTeWaOb"
      },
      "source": [
        "# create a unique file name by attaching the first four accuracy digits\n",
        "\n",
        "file_name_ending = str(int(CNNLSTM_accuracy * 10000))"
      ],
      "execution_count": 24,
      "outputs": []
    },
    {
      "cell_type": "code",
      "metadata": {
        "id": "o6i_iT_cEYKd",
        "colab": {
          "base_uri": "https://localhost:8080/"
        },
        "outputId": "80290ec9-8188-42df-9d33-1e4e6e95e111"
      },
      "source": [
        "# save the model by using the unique file name (model name + accuracy)\n",
        "BestModelCNNLSTM.save(\"/content/CrispCerebella/Models/Final_Model_CNNLSTM_\" + file_name_ending)"
      ],
      "execution_count": 26,
      "outputs": [
        {
          "output_type": "stream",
          "text": [
            "WARNING:absl:Found untraced functions such as dropout_5_layer_call_fn, dropout_5_layer_call_and_return_conditional_losses, dense_4_layer_call_fn, dense_4_layer_call_and_return_conditional_losses, dense_5_layer_call_fn while saving (showing 5 of 20). These functions will not be directly callable after loading.\n"
          ],
          "name": "stderr"
        },
        {
          "output_type": "stream",
          "text": [
            "INFO:tensorflow:Assets written to: /content/CrispCerebella/Models/Final_Model_CNNLSTM_9097/assets\n"
          ],
          "name": "stdout"
        },
        {
          "output_type": "stream",
          "text": [
            "INFO:tensorflow:Assets written to: /content/CrispCerebella/Models/Final_Model_CNNLSTM_9097/assets\n"
          ],
          "name": "stderr"
        }
      ]
    },
    {
      "cell_type": "code",
      "metadata": {
        "id": "CUp-gqZiNJqF",
        "colab": {
          "base_uri": "https://localhost:8080/"
        },
        "outputId": "06d266c3-8a4d-4d0c-fbde-178aa15bd589"
      },
      "source": [
        "# create a zip file out of the saved model\n",
        "\n",
        "!zip -r /content/CrispCerebella/Models/Final_Model_CNNLSTM_{file_name_ending}.zip /content/CrispCerebella/Models/Final_Model_CNNLSTM_{file_name_ending}"
      ],
      "execution_count": 27,
      "outputs": [
        {
          "output_type": "stream",
          "text": [
            "  adding: content/CrispCerebella/Models/Final_Model_CNNLSTM_9097/ (stored 0%)\n",
            "  adding: content/CrispCerebella/Models/Final_Model_CNNLSTM_9097/saved_model.pb (deflated 90%)\n",
            "  adding: content/CrispCerebella/Models/Final_Model_CNNLSTM_9097/variables/ (stored 0%)\n",
            "  adding: content/CrispCerebella/Models/Final_Model_CNNLSTM_9097/variables/variables.data-00000-of-00001 (deflated 6%)\n",
            "  adding: content/CrispCerebella/Models/Final_Model_CNNLSTM_9097/variables/variables.index (deflated 66%)\n",
            "  adding: content/CrispCerebella/Models/Final_Model_CNNLSTM_9097/assets/ (stored 0%)\n",
            "  adding: content/CrispCerebella/Models/Final_Model_CNNLSTM_9097/keras_metadata.pb (deflated 84%)\n"
          ],
          "name": "stdout"
        }
      ]
    },
    {
      "cell_type": "code",
      "metadata": {
        "id": "v_9oAob8LZxd",
        "colab": {
          "base_uri": "https://localhost:8080/",
          "height": 17
        },
        "outputId": "9c4e3cd1-474e-4411-cb1d-f74b0addfd54"
      },
      "source": [
        "# downloading the zip file (to store it locally and be able to push it to git)\n",
        "\n",
        "files.download(f\"/content/CrispCerebella/Models/Final_Model_CNNLSTM_{file_name_ending}.zip\")"
      ],
      "execution_count": 28,
      "outputs": [
        {
          "output_type": "display_data",
          "data": {
            "application/javascript": [
              "\n",
              "    async function download(id, filename, size) {\n",
              "      if (!google.colab.kernel.accessAllowed) {\n",
              "        return;\n",
              "      }\n",
              "      const div = document.createElement('div');\n",
              "      const label = document.createElement('label');\n",
              "      label.textContent = `Downloading \"${filename}\": `;\n",
              "      div.appendChild(label);\n",
              "      const progress = document.createElement('progress');\n",
              "      progress.max = size;\n",
              "      div.appendChild(progress);\n",
              "      document.body.appendChild(div);\n",
              "\n",
              "      const buffers = [];\n",
              "      let downloaded = 0;\n",
              "\n",
              "      const channel = await google.colab.kernel.comms.open(id);\n",
              "      // Send a message to notify the kernel that we're ready.\n",
              "      channel.send({})\n",
              "\n",
              "      for await (const message of channel.messages) {\n",
              "        // Send a message to notify the kernel that we're ready.\n",
              "        channel.send({})\n",
              "        if (message.buffers) {\n",
              "          for (const buffer of message.buffers) {\n",
              "            buffers.push(buffer);\n",
              "            downloaded += buffer.byteLength;\n",
              "            progress.value = downloaded;\n",
              "          }\n",
              "        }\n",
              "      }\n",
              "      const blob = new Blob(buffers, {type: 'application/binary'});\n",
              "      const a = document.createElement('a');\n",
              "      a.href = window.URL.createObjectURL(blob);\n",
              "      a.download = filename;\n",
              "      div.appendChild(a);\n",
              "      a.click();\n",
              "      div.remove();\n",
              "    }\n",
              "  "
            ],
            "text/plain": [
              "<IPython.core.display.Javascript object>"
            ]
          },
          "metadata": {
            "tags": []
          }
        },
        {
          "output_type": "display_data",
          "data": {
            "application/javascript": [
              "download(\"download_e347e4f1-f91a-4e4a-9592-d464e6b87be7\", \"Final_Model_CNNLSTM_9097.zip\", 4972444)"
            ],
            "text/plain": [
              "<IPython.core.display.Javascript object>"
            ]
          },
          "metadata": {
            "tags": []
          }
        }
      ]
    },
    {
      "cell_type": "code",
      "metadata": {
        "id": "0TQs1p-FNveF"
      },
      "source": [
        "# unzip the folder of the model with a given accuracy\n",
        "# !unzip /content/CrispCerebella/Models/Final_Model_CNNLSTM_{file_name_ending}.zip -d /Test"
      ],
      "execution_count": null,
      "outputs": []
    },
    {
      "cell_type": "code",
      "metadata": {
        "id": "4_3n0jm_Pk-E"
      },
      "source": [
        "# load the saved model\n",
        "# test_model = keras.models.load_model(f'/content/CrispCerebella/Test/content/CrispCerebella/Models/Final_Model_CNNLSTM_{file_name_ending}')"
      ],
      "execution_count": null,
      "outputs": []
    },
    {
      "cell_type": "code",
      "metadata": {
        "id": "zwlDiVScQLRv"
      },
      "source": [
        "# evaluate the saved model\n",
        "# test_model.evaluate(testX, testy)"
      ],
      "execution_count": null,
      "outputs": []
    }
  ]
}