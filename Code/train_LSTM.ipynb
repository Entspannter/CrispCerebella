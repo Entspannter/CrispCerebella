{
  "nbformat": 4,
  "nbformat_minor": 0,
  "metadata": {
    "colab": {
      "name": "train_LSTM.ipynb",
      "provenance": [],
      "authorship_tag": "ABX9TyOwj+Vad32cPifxTkuCebHS",
      "include_colab_link": true
    },
    "kernelspec": {
      "name": "python3",
      "display_name": "Python 3"
    },
    "language_info": {
      "name": "python"
    },
    "accelerator": "GPU"
  },
  "cells": [
    {
      "cell_type": "markdown",
      "metadata": {
        "id": "view-in-github",
        "colab_type": "text"
      },
      "source": [
        "<a href=\"https://colab.research.google.com/github/Entspannter/CrispCerebella/blob/main/Code/train_LSTM.ipynb\" target=\"_parent\"><img src=\"https://colab.research.google.com/assets/colab-badge.svg\" alt=\"Open In Colab\"/></a>"
      ]
    },
    {
      "cell_type": "code",
      "metadata": {
        "id": "_KY5Ao_fc_ps"
      },
      "source": [
        "[![Open In Colab](https://colab.research.google.com/assets/colab-badge.svg)](https://github.com/Entspannter/CrispCerebella/blob/main/Test_File.ipynb)"
      ],
      "execution_count": null,
      "outputs": []
    },
    {
      "cell_type": "code",
      "metadata": {
        "colab": {
          "base_uri": "https://localhost:8080/"
        },
        "id": "eLhdw6NrbhZC",
        "outputId": "45cee77f-5136-4ba4-896a-88228122c822"
      },
      "source": [
        "!git clone https://github.com/Entspannter/CrispCerebella.git"
      ],
      "execution_count": null,
      "outputs": [
        {
          "output_type": "stream",
          "text": [
            "Cloning into 'CrispCerebella'...\n",
            "remote: Enumerating objects: 288, done.\u001b[K\n",
            "remote: Counting objects: 100% (288/288), done.\u001b[K\n",
            "remote: Compressing objects: 100% (229/229), done.\u001b[K\n",
            "remote: Total 288 (delta 122), reused 179 (delta 50), pack-reused 0\u001b[K\n",
            "Receiving objects: 100% (288/288), 75.69 MiB | 18.58 MiB/s, done.\n",
            "Resolving deltas: 100% (122/122), done.\n",
            "Checking out files: 100% (166/166), done.\n"
          ],
          "name": "stdout"
        }
      ]
    },
    {
      "cell_type": "code",
      "metadata": {
        "colab": {
          "base_uri": "https://localhost:8080/"
        },
        "id": "RQl055LHbpjq",
        "outputId": "0fc18191-d671-4d71-c5f8-9bbb84d464f0"
      },
      "source": [
        "pip install -q -U keras-tuner"
      ],
      "execution_count": null,
      "outputs": [
        {
          "output_type": "stream",
          "text": [
            "\u001b[?25l\r\u001b[K     |███▍                            | 10kB 22.8MB/s eta 0:00:01\r\u001b[K     |██████▉                         | 20kB 22.2MB/s eta 0:00:01\r\u001b[K     |██████████▏                     | 30kB 17.1MB/s eta 0:00:01\r\u001b[K     |█████████████▋                  | 40kB 15.6MB/s eta 0:00:01\r\u001b[K     |█████████████████               | 51kB 8.7MB/s eta 0:00:01\r\u001b[K     |████████████████████▍           | 61kB 8.3MB/s eta 0:00:01\r\u001b[K     |███████████████████████▊        | 71kB 9.4MB/s eta 0:00:01\r\u001b[K     |███████████████████████████▏    | 81kB 9.8MB/s eta 0:00:01\r\u001b[K     |██████████████████████████████▋ | 92kB 10.2MB/s eta 0:00:01\r\u001b[K     |████████████████████████████████| 102kB 6.6MB/s \n",
            "\u001b[?25h  Building wheel for kt-legacy (setup.py) ... \u001b[?25l\u001b[?25hdone\n"
          ],
          "name": "stdout"
        }
      ]
    },
    {
      "cell_type": "code",
      "metadata": {
        "id": "3tb9mJYCPzAO"
      },
      "source": [
        "import os \n",
        "from google.colab import files\n",
        "from tensorflow.keras.utils import to_categorical\n",
        "import keras_tuner"
      ],
      "execution_count": null,
      "outputs": []
    },
    {
      "cell_type": "code",
      "metadata": {
        "id": "Vk97zhYHbsYm"
      },
      "source": [
        "# Import own functions and model-classes\n",
        "from CrispCerebella.Code.train_functions import *\n",
        "from CrispCerebella.Code.data_loading import *\n",
        "from CrispCerebella.Code.architecture import *\n"
      ],
      "execution_count": null,
      "outputs": []
    },
    {
      "cell_type": "code",
      "metadata": {
        "colab": {
          "base_uri": "https://localhost:8080/"
        },
        "id": "b7uL5MXcbwee",
        "outputId": "a1a43905-d58e-4d3c-ecb7-d1946ee39a8d"
      },
      "source": [
        "# load all train\n",
        "trainX, trainy = datasetloader('train', '/content/CrispCerebella/Dataset/UCI HAR Dataset/')\n",
        "print(\"Shape of training Data:\",trainX.shape, trainy.shape)\n",
        "# load all test\n",
        "testX, testy = datasetloader('test', '/content/CrispCerebella/Dataset/UCI HAR Dataset/')\n",
        "print(\"Shape of test Data:\",testX.shape, testy.shape)"
      ],
      "execution_count": null,
      "outputs": [
        {
          "output_type": "stream",
          "text": [
            "Shape of training Data: (7352, 128, 9) (7352, 1)\n",
            "Shape of test Data: (2947, 128, 9) (2947, 1)\n"
          ],
          "name": "stdout"
        }
      ]
    },
    {
      "cell_type": "code",
      "metadata": {
        "id": "6oTykAMAEQPo",
        "colab": {
          "base_uri": "https://localhost:8080/"
        },
        "outputId": "f31864ff-01ca-430a-e7e3-f5404262c1c8"
      },
      "source": [
        "# transform the output date into categorical (one-hot-encoding) and print the updated shapes\n",
        "trainX, trainy, testX, testy = transform_dataset(trainX, trainy, testX, testy)\n",
        "\n",
        "n_timesteps, n_features, N_OUTPUTS = trainX.shape[1], trainX.shape[2], trainy.shape[1]\n",
        "\n",
        "n_steps, n_length = 4, 32\n",
        "\n",
        "# define the inout share for the LSTM model\n",
        "INPUT_SHAPE=(n_timesteps,n_features)\n",
        "\n",
        "Num_Epochs_Search = 40\n",
        "Num_Epochs_Fit = 20\n",
        "Max_Trials = 5\n",
        "Num_K_Folds = 5\n",
        "Model_Name_LSTM = \"LSTM\"\n",
        "batch_size = 64\n",
        "\n",
        "# merge the train and test data to recreate the initial dataset for later\n",
        "# splitting in the k-fold process\n",
        "X_LSTM = np.concatenate((trainX, testX),axis=0)\n",
        "y_LSTM = np.concatenate((trainy, testy),axis=0)\n"
      ],
      "execution_count": null,
      "outputs": [
        {
          "output_type": "stream",
          "text": [
            "(7352, 128, 9) (7352, 1)\n",
            "(2947, 128, 9) (2947, 1)\n",
            "(7352, 128, 9) (7352, 6) (2947, 128, 9) (2947, 6)\n"
          ],
          "name": "stdout"
        }
      ]
    },
    {
      "cell_type": "code",
      "metadata": {
        "id": "zE4-D7-AESK1",
        "colab": {
          "base_uri": "https://localhost:8080/"
        },
        "outputId": "babd3287-68a9-4528-f223-e30a44e5d737"
      },
      "source": [
        "# Hyperparameters tuning inside of k-fold CV\n",
        "Best_HP_LSTM, Best_Epoch_LSTM= k_fold_cv(X_LSTM,\n",
        "                                                              y_LSTM,\n",
        "                                                              LSTMStacked,\n",
        "                                                              Model_Name_LSTM,\n",
        "                                                              INPUT_SHAPE,\n",
        "                                                              N_OUTPUTS,\n",
        "                                                              Max_Trials,\n",
        "                                                              Num_Epochs_Search,\n",
        "                                                              Num_Epochs_Fit,\n",
        "                                                              Num_K_Folds)\n"
      ],
      "execution_count": null,
      "outputs": [
        {
          "output_type": "stream",
          "text": [
            "Trial 3 Complete [00h 00m 07s]\n",
            "val_accuracy: 0.3555825352668762\n",
            "\n",
            "Best val_accuracy So Far: 0.3555825352668762\n",
            "Total elapsed time: 00h 00m 25s\n",
            "INFO:tensorflow:Oracle triggered exit\n",
            "[The tuned hyperparemters]: {'Units_LSTM_1': 128, 'dropout_1': 0.5, 'Units_LSTM_2': 32, 'dropout_2': 0.0, 'units': 128, 'dense_activation': 'sigmoid', 'learning_rate': 0.00010514888797927254}\n",
            "206/206 [==============================] - 6s 20ms/step - loss: 1.6162 - accuracy: 0.3315 - val_loss: 1.4263 - val_accuracy: 0.3459\n",
            "Best epoch: 1\n",
            "65/65 [==============================] - 0s 6ms/step - loss: 1.4434 - accuracy: 0.3541\n",
            "Fold number 5 is done\n",
            "Accuracy of each fold - [0.7320388555526733, 0.7699028849601746, 0.670873761177063, 0.5553398132324219, 0.35405537486076355]\n",
            "Avg accuracy : 0.6164421379566193\n"
          ],
          "name": "stdout"
        }
      ]
    },
    {
      "cell_type": "code",
      "metadata": {
        "id": "vjJlynWLEUI-",
        "colab": {
          "base_uri": "https://localhost:8080/"
        },
        "outputId": "9171034e-4e23-461b-da08-d7ba8fce058f"
      },
      "source": [
        "# Print the hyperparameters that yielded the best model all over the k-folds\n",
        "Best_HP_LSTM.get_config()['values']"
      ],
      "execution_count": null,
      "outputs": [
        {
          "output_type": "execute_result",
          "data": {
            "text/plain": [
              "{'Units_LSTM_1': 48,\n",
              " 'Units_LSTM_2': 48,\n",
              " 'dense_activation': 'tanh',\n",
              " 'dropout_1': 0.35000000000000003,\n",
              " 'dropout_2': 0.45,\n",
              " 'learning_rate': 0.006913157533608411,\n",
              " 'units': 80}"
            ]
          },
          "metadata": {
            "tags": []
          },
          "execution_count": 8
        }
      ]
    },
    {
      "cell_type": "code",
      "metadata": {
        "id": "NyTrPviVEWmM",
        "colab": {
          "base_uri": "https://localhost:8080/",
          "height": 626
        },
        "outputId": "e0b137be-7419-4a7e-e2f7-52d01d792a25"
      },
      "source": [
        "# Build a new model with the HP, train it with the inital training set and eveluate it with the test set \n",
        "\n",
        "BestModelLSTM, LSTM_accuracy = evaluate_model(trainX,\n",
        "                               trainy,\n",
        "                               testX,\n",
        "                               testy,\n",
        "                               INPUT_SHAPE,\n",
        "                               N_OUTPUTS,\n",
        "                               Best_HP_LSTM,\n",
        "                               LSTMStacked,\n",
        "                               Best_Epoch_LSTM,\n",
        "                               batch_size)\n"
      ],
      "execution_count": null,
      "outputs": [
        {
          "output_type": "stream",
          "text": [
            "184/184 [==============================] - 6s 16ms/step - loss: 0.8187 - accuracy: 0.6407 - val_loss: 0.8016 - val_accuracy: 0.7186\n"
          ],
          "name": "stdout"
        },
        {
          "output_type": "display_data",
          "data": {
            "image/png": "[encoded data removed]",
            "text/plain": [
              "<Figure size 432x288 with 1 Axes>"
            ]
          },
          "metadata": {
            "tags": [],
            "needs_background": "light"
          }
        },
        {
          "output_type": "display_data",
          "data": {
            "image/png": "[encoded data removed]",
            "text/plain": [
              "<Figure size 432x288 with 1 Axes>"
            ]
          },
          "metadata": {
            "tags": [],
            "needs_background": "light"
          }
        },
        {
          "output_type": "stream",
          "text": [
            "The accureay of the model is 0.6491346955299377\n"
          ],
          "name": "stdout"
        }
      ]
    },
    {
      "cell_type": "code",
      "metadata": {
        "id": "-adf-YTeWaOb"
      },
      "source": [
        "# create a unique file name by attaching the first four accuracy digits\n",
        "\n",
        "file_name_ending = str(int(LSTM_accuracy * 10000))"
      ],
      "execution_count": null,
      "outputs": []
    },
    {
      "cell_type": "code",
      "metadata": {
        "id": "o6i_iT_cEYKd",
        "colab": {
          "base_uri": "https://localhost:8080/"
        },
        "outputId": "e1248a55-c299-4876-e31e-7c4fc8165447"
      },
      "source": [
        "# save the model by using the unique file name (model name + accuracy)\n",
        "BestModelLSTM.save(\"/content/CrispCerebella/Models/Final_Model_LSTM_\" + file_name_ending)"
      ],
      "execution_count": null,
      "outputs": [
        {
          "output_type": "stream",
          "text": [
            "WARNING:absl:Found untraced functions such as dropout_2_layer_call_fn, dropout_2_layer_call_and_return_conditional_losses, dropout_3_layer_call_fn, dropout_3_layer_call_and_return_conditional_losses, dense_2_layer_call_fn while saving (showing 5 of 30). These functions will not be directly callable after loading.\n"
          ],
          "name": "stderr"
        },
        {
          "output_type": "stream",
          "text": [
            "INFO:tensorflow:Assets written to: /content/CrispCerebella/Models/Final_Model_LSTM_6491/assets\n"
          ],
          "name": "stdout"
        },
        {
          "output_type": "stream",
          "text": [
            "INFO:tensorflow:Assets written to: /content/CrispCerebella/Models/Final_Model_LSTM_6491/assets\n"
          ],
          "name": "stderr"
        }
      ]
    },
    {
      "cell_type": "code",
      "metadata": {
        "id": "CUp-gqZiNJqF",
        "colab": {
          "base_uri": "https://localhost:8080/"
        },
        "outputId": "537c780a-8ba3-49a6-9c88-3c563b9fd9fb"
      },
      "source": [
        "# create a zip file out of the saved model\n",
        "\n",
        "!zip -r /content/CrispCerebella/Models/Final_Model_LSTM_{file_name_ending}.zip /content/CrispCerebella/Models/Final_Model_LSTM_{file_name_ending}"
      ],
      "execution_count": null,
      "outputs": [
        {
          "output_type": "stream",
          "text": [
            "  adding: content/CrispCerebella/Models/Final_Model_LSTM/ (stored 0%)\n",
            "  adding: content/CrispCerebella/Models/Final_Model_LSTM/.ipynb_checkpoints/ (stored 0%)\n",
            "  adding: content/CrispCerebella/Models/Final_Model_LSTM/saved_model.pb (deflated 90%)\n",
            "  adding: content/CrispCerebella/Models/Final_Model_LSTM/variables/ (stored 0%)\n",
            "  adding: content/CrispCerebella/Models/Final_Model_LSTM/variables/variables.data-00000-of-00001 (deflated 8%)\n",
            "  adding: content/CrispCerebella/Models/Final_Model_LSTM/variables/variables.index (deflated 67%)\n",
            "  adding: content/CrispCerebella/Models/Final_Model_LSTM/assets/ (stored 0%)\n",
            "  adding: content/CrispCerebella/Models/Final_Model_LSTM/keras_metadata.pb (deflated 80%)\n"
          ],
          "name": "stdout"
        }
      ]
    },
    {
      "cell_type": "code",
      "metadata": {
        "id": "v_9oAob8LZxd",
        "colab": {
          "base_uri": "https://localhost:8080/",
          "height": 17
        },
        "outputId": "38b8e036-c55c-4b18-e75c-2440a59c49ab"
      },
      "source": [
        "# downloading the zip file (to store it locally and be able to push it to git)\n",
        "\n",
        "files.download(f\"/content/CrispCerebella/Models/Final_Model_LSTM_{file_name_ending}.zip\")"
      ],
      "execution_count": null,
      "outputs": [
        {
          "output_type": "display_data",
          "data": {
            "application/javascript": [
              "\n",
              "    async function download(id, filename, size) {\n",
              "      if (!google.colab.kernel.accessAllowed) {\n",
              "        return;\n",
              "      }\n",
              "      const div = document.createElement('div');\n",
              "      const label = document.createElement('label');\n",
              "      label.textContent = `Downloading \"${filename}\": `;\n",
              "      div.appendChild(label);\n",
              "      const progress = document.createElement('progress');\n",
              "      progress.max = size;\n",
              "      div.appendChild(progress);\n",
              "      document.body.appendChild(div);\n",
              "\n",
              "      const buffers = [];\n",
              "      let downloaded = 0;\n",
              "\n",
              "      const channel = await google.colab.kernel.comms.open(id);\n",
              "      // Send a message to notify the kernel that we're ready.\n",
              "      channel.send({})\n",
              "\n",
              "      for await (const message of channel.messages) {\n",
              "        // Send a message to notify the kernel that we're ready.\n",
              "        channel.send({})\n",
              "        if (message.buffers) {\n",
              "          for (const buffer of message.buffers) {\n",
              "            buffers.push(buffer);\n",
              "            downloaded += buffer.byteLength;\n",
              "            progress.value = downloaded;\n",
              "          }\n",
              "        }\n",
              "      }\n",
              "      const blob = new Blob(buffers, {type: 'application/binary'});\n",
              "      const a = document.createElement('a');\n",
              "      a.href = window.URL.createObjectURL(blob);\n",
              "      a.download = filename;\n",
              "      div.appendChild(a);\n",
              "      a.click();\n",
              "      div.remove();\n",
              "    }\n",
              "  "
            ],
            "text/plain": [
              "<IPython.core.display.Javascript object>"
            ]
          },
          "metadata": {
            "tags": []
          }
        },
        {
          "output_type": "display_data",
          "data": {
            "application/javascript": [
              "download(\"download_341c5c7b-8586-4259-9998-80a519159d67\", \"Final_Model_LSTM.zip\", 564994)"
            ],
            "text/plain": [
              "<IPython.core.display.Javascript object>"
            ]
          },
          "metadata": {
            "tags": []
          }
        }
      ]
    },
    {
      "cell_type": "code",
      "metadata": {
        "id": "0TQs1p-FNveF",
        "colab": {
          "base_uri": "https://localhost:8080/"
        },
        "outputId": "0afdb90f-692d-406e-e133-222e22c4c407"
      },
      "source": [
        "# unzip the folder of the model with a given accuracy\n",
        "# !unzip /content/CrispCerebella/Models/Final_Model_LSTM_{file_name_ending}.zip -d /Test"
      ],
      "execution_count": null,
      "outputs": [
        {
          "output_type": "stream",
          "text": [
            "Archive:  /content/CrispCerebella/Models/Final_Model_LSTM.zip\n",
            "   creating: /Test/content/CrispCerebella/Models/Final_Model_LSTM/\n",
            "   creating: /Test/content/CrispCerebella/Models/Final_Model_LSTM/.ipynb_checkpoints/\n",
            "  inflating: /Test/content/CrispCerebella/Models/Final_Model_LSTM/saved_model.pb  \n",
            "   creating: /Test/content/CrispCerebella/Models/Final_Model_LSTM/variables/\n",
            "  inflating: /Test/content/CrispCerebella/Models/Final_Model_LSTM/variables/variables.data-00000-of-00001  \n",
            "  inflating: /Test/content/CrispCerebella/Models/Final_Model_LSTM/variables/variables.index  \n",
            "   creating: /Test/content/CrispCerebella/Models/Final_Model_LSTM/assets/\n",
            "  inflating: /Test/content/CrispCerebella/Models/Final_Model_LSTM/keras_metadata.pb  \n"
          ],
          "name": "stdout"
        }
      ]
    },
    {
      "cell_type": "code",
      "metadata": {
        "id": "4_3n0jm_Pk-E"
      },
      "source": [
        "# load the saved model\n",
        "# test_model = keras.models.load_model(f'/content/CrispCerebella/Test/content/CrispCerebella/Models/Final_Model_LSTM_{file_name_ending}')"
      ],
      "execution_count": null,
      "outputs": []
    },
    {
      "cell_type": "code",
      "metadata": {
        "id": "zwlDiVScQLRv",
        "colab": {
          "base_uri": "https://localhost:8080/"
        },
        "outputId": "c3e92353-a674-4088-a86c-fe758c9e95ca"
      },
      "source": [
        "# evaluate the saved model\n",
        "# test_model.evaluate(testX, testy)"
      ],
      "execution_count": null,
      "outputs": [
        {
          "output_type": "stream",
          "text": [
            "93/93 [==============================] - 3s 30ms/step - loss: 0.8421 - accuracy: 0.6491\n"
          ],
          "name": "stdout"
        },
        {
          "output_type": "execute_result",
          "data": {
            "text/plain": [
              "[0.8420565724372864, 0.6491346955299377]"
            ]
          },
          "metadata": {
            "tags": []
          },
          "execution_count": 39
        }
      ]
    }
  ]
}