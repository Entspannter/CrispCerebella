{
  "nbformat": 4,
  "nbformat_minor": 0,
  "metadata": {
    "colab": {
      "name": "train_LSTM_finalmodel.ipynb",
      "provenance": [],
      "collapsed_sections": [],
      "include_colab_link": true
    },
    "kernelspec": {
      "name": "python3",
      "display_name": "Python 3"
    },
    "language_info": {
      "name": "python"
    },
    "accelerator": "GPU"
  },
  "cells": [
    {
      "cell_type": "markdown",
      "metadata": {
        "id": "view-in-github",
        "colab_type": "text"
      },
      "source": [
        "<a href=\"https://colab.research.google.com/github/Entspannter/CrispCerebella/blob/main/train_LSTM_finalmodel.ipynb\" target=\"_parent\"><img src=\"https://colab.research.google.com/assets/colab-badge.svg\" alt=\"Open In Colab\"/></a>"
      ]
    },
    {
      "cell_type": "code",
      "metadata": {
        "id": "_KY5Ao_fc_ps"
      },
      "source": [
        "#[![Open In Colab](https://colab.research.google.com/assets/colab-badge.svg)](https://github.com/Entspannter/CrispCerebella/blob/main/Test_File.ipynb)"
      ],
      "execution_count": 1,
      "outputs": []
    },
    {
      "cell_type": "code",
      "metadata": {
        "colab": {
          "base_uri": "https://localhost:8080/"
        },
        "id": "eLhdw6NrbhZC",
        "outputId": "81e967f0-dd14-4d63-e60b-51dbb0404fcc"
      },
      "source": [
        "!git clone https://github.com/Entspannter/CrispCerebella.git"
      ],
      "execution_count": 2,
      "outputs": [
        {
          "output_type": "stream",
          "text": [
            "Cloning into 'CrispCerebella'...\n",
            "remote: Enumerating objects: 585, done.\u001b[K\n",
            "remote: Counting objects: 100% (12/12), done.\u001b[K\n",
            "remote: Compressing objects: 100% (12/12), done.\u001b[K\n",
            "remote: Total 585 (delta 5), reused 0 (delta 0), pack-reused 573\u001b[K\n",
            "Receiving objects: 100% (585/585), 226.77 MiB | 21.51 MiB/s, done.\n",
            "Resolving deltas: 100% (306/306), done.\n",
            "Checking out files: 100% (210/210), done.\n"
          ],
          "name": "stdout"
        }
      ]
    },
    {
      "cell_type": "code",
      "metadata": {
        "colab": {
          "base_uri": "https://localhost:8080/"
        },
        "id": "RQl055LHbpjq",
        "outputId": "67c332bf-69da-4bc1-84bc-7e2b3530e11e"
      },
      "source": [
        "pip install -q -U keras-tuner"
      ],
      "execution_count": 3,
      "outputs": [
        {
          "output_type": "stream",
          "text": [
            "\u001b[?25l\r\u001b[K     |███▍                            | 10 kB 32.6 MB/s eta 0:00:01\r\u001b[K     |██████▉                         | 20 kB 33.7 MB/s eta 0:00:01\r\u001b[K     |██████████▏                     | 30 kB 20.8 MB/s eta 0:00:01\r\u001b[K     |█████████████▋                  | 40 kB 17.0 MB/s eta 0:00:01\r\u001b[K     |█████████████████               | 51 kB 9.3 MB/s eta 0:00:01\r\u001b[K     |████████████████████▍           | 61 kB 9.2 MB/s eta 0:00:01\r\u001b[K     |███████████████████████▊        | 71 kB 10.4 MB/s eta 0:00:01\r\u001b[K     |███████████████████████████▏    | 81 kB 10.7 MB/s eta 0:00:01\r\u001b[K     |██████████████████████████████▋ | 92 kB 8.1 MB/s eta 0:00:01\r\u001b[K     |████████████████████████████████| 96 kB 4.1 MB/s \n",
            "\u001b[?25h  Building wheel for kt-legacy (setup.py) ... \u001b[?25l\u001b[?25hdone\n"
          ],
          "name": "stdout"
        }
      ]
    },
    {
      "cell_type": "code",
      "metadata": {
        "id": "3tb9mJYCPzAO"
      },
      "source": [
        "import os \n",
        "from google.colab import files\n",
        "from tensorflow.keras.utils import to_categorical\n",
        "import keras_tuner"
      ],
      "execution_count": 4,
      "outputs": []
    },
    {
      "cell_type": "code",
      "metadata": {
        "id": "Vk97zhYHbsYm"
      },
      "source": [
        "# Import own functions and model-classes\n",
        "from CrispCerebella.Code.train_functions import *\n",
        "from CrispCerebella.Code.data_loading import *\n",
        "from CrispCerebella.Code.architecture import *\n"
      ],
      "execution_count": 5,
      "outputs": []
    },
    {
      "cell_type": "code",
      "metadata": {
        "id": "hly9LCBrzr-H"
      },
      "source": [
        "SEED = 42\n",
        "set_global_determinism(SEED)"
      ],
      "execution_count": 6,
      "outputs": []
    },
    {
      "cell_type": "code",
      "metadata": {
        "colab": {
          "base_uri": "https://localhost:8080/"
        },
        "id": "b7uL5MXcbwee",
        "outputId": "da707f97-a6ee-466c-d552-606bfe722e10"
      },
      "source": [
        "# load all train\n",
        "trainX, trainy = datasetloader('train', '/content/CrispCerebella/Dataset/UCI HAR Dataset/')\n",
        "print(\"Shape of training Data:\",trainX.shape, trainy.shape)\n",
        "# load all test\n",
        "testX, testy = datasetloader('test', '/content/CrispCerebella/Dataset/UCI HAR Dataset/')\n",
        "print(\"Shape of test Data:\",testX.shape, testy.shape)"
      ],
      "execution_count": 7,
      "outputs": [
        {
          "output_type": "stream",
          "text": [
            "Shape of training Data: (7352, 128, 9) (7352, 1)\n",
            "Shape of test Data: (2947, 128, 9) (2947, 1)\n"
          ],
          "name": "stdout"
        }
      ]
    },
    {
      "cell_type": "code",
      "metadata": {
        "id": "6oTykAMAEQPo",
        "colab": {
          "base_uri": "https://localhost:8080/"
        },
        "outputId": "b578845b-a662-4d8b-9d5d-78a94128db6a"
      },
      "source": [
        "# transform the output date into categorical (one-hot-encoding) and print the updated shapes\n",
        "trainX, trainy, testX, testy = transform_dataset(trainX, trainy, testX, testy)\n",
        "\n",
        "n_timesteps, n_features, N_OUTPUTS = trainX.shape[1], trainX.shape[2], trainy.shape[1]\n",
        "\n",
        "n_steps, n_length = 4, 32\n",
        "\n",
        "# define the inout share for the LSTM model\n",
        "INPUT_SHAPE=(n_timesteps,n_features)\n",
        "\n",
        "Num_Epochs_Search = 40\n",
        "Num_Epochs_Fit = 40\n",
        "Max_Trials = 10\n",
        "Num_K_Folds = 5\n",
        "Model_Name_LSTM = \"LSTM\"\n",
        "batch_size = 64\n",
        "\n",
        "# merge the train and test data to recreate the initial dataset for later\n",
        "# splitting in the k-fold process\n",
        "X_LSTM = np.concatenate((trainX, testX),axis=0)\n",
        "y_LSTM = np.concatenate((trainy, testy),axis=0)\n"
      ],
      "execution_count": 8,
      "outputs": [
        {
          "output_type": "stream",
          "text": [
            "(7352, 128, 9) (7352, 1)\n",
            "(2947, 128, 9) (2947, 1)\n",
            "(7352, 128, 9) (7352, 6) (2947, 128, 9) (2947, 6)\n"
          ],
          "name": "stdout"
        }
      ]
    },
    {
      "cell_type": "code",
      "metadata": {
        "id": "zE4-D7-AESK1",
        "colab": {
          "base_uri": "https://localhost:8080/"
        },
        "outputId": "5a0af43f-5759-4780-d228-b56d66ecc8cb"
      },
      "source": [
        "# Hyperparameters tuning inside of k-fold CV\n",
        "Best_HP_LSTM, Best_Epoch_LSTM= k_fold_cv(X_LSTM,\n",
        "                                                              y_LSTM,\n",
        "                                                              LSTMStacked,\n",
        "                                                              Model_Name_LSTM,\n",
        "                                                              INPUT_SHAPE,\n",
        "                                                              N_OUTPUTS,\n",
        "                                                              Max_Trials,\n",
        "                                                              Num_Epochs_Search,\n",
        "                                                              Num_Epochs_Fit,\n",
        "                                                              Num_K_Folds)\n"
      ],
      "execution_count": 9,
      "outputs": [
        {
          "output_type": "stream",
          "text": [
            "Trial 10 Complete [00h 00m 57s]\n",
            "val_accuracy: 0.8598300814628601\n",
            "\n",
            "Best val_accuracy So Far: 0.9120145440101624\n",
            "Total elapsed time: 00h 14m 31s\n",
            "INFO:tensorflow:Oracle triggered exit\n",
            "Epoch 1/40\n",
            "206/206 [==============================] - 7s 20ms/step - loss: 1.0209 - accuracy: 0.5740 - val_loss: 0.7684 - val_accuracy: 0.6468\n",
            "Epoch 2/40\n",
            "206/206 [==============================] - 3s 15ms/step - loss: 0.5937 - accuracy: 0.7500 - val_loss: 0.6743 - val_accuracy: 0.7269\n",
            "Epoch 3/40\n",
            "206/206 [==============================] - 3s 15ms/step - loss: 0.4033 - accuracy: 0.8371 - val_loss: 0.4546 - val_accuracy: 0.8180\n",
            "Epoch 4/40\n",
            "206/206 [==============================] - 3s 15ms/step - loss: 0.3357 - accuracy: 0.8827 - val_loss: 0.3101 - val_accuracy: 0.8629\n",
            "Epoch 5/40\n",
            "206/206 [==============================] - 3s 15ms/step - loss: 0.2153 - accuracy: 0.9263 - val_loss: 0.3197 - val_accuracy: 0.8792\n",
            "Epoch 6/40\n",
            "206/206 [==============================] - 3s 15ms/step - loss: 0.1600 - accuracy: 0.9446 - val_loss: 0.2874 - val_accuracy: 0.8671\n",
            "Epoch 7/40\n",
            "206/206 [==============================] - 3s 15ms/step - loss: 0.1339 - accuracy: 0.9499 - val_loss: 0.2283 - val_accuracy: 0.9011\n",
            "Epoch 8/40\n",
            "206/206 [==============================] - 3s 15ms/step - loss: 0.1198 - accuracy: 0.9562 - val_loss: 0.2103 - val_accuracy: 0.8908\n",
            "Epoch 9/40\n",
            "206/206 [==============================] - 3s 15ms/step - loss: 0.1618 - accuracy: 0.9436 - val_loss: 0.3604 - val_accuracy: 0.8568\n",
            "Epoch 10/40\n",
            "206/206 [==============================] - 3s 15ms/step - loss: 0.1666 - accuracy: 0.9424 - val_loss: 0.2877 - val_accuracy: 0.8962\n",
            "Epoch 11/40\n",
            "206/206 [==============================] - 3s 15ms/step - loss: 0.1216 - accuracy: 0.9510 - val_loss: 0.2856 - val_accuracy: 0.8823\n",
            "Epoch 12/40\n",
            "206/206 [==============================] - 3s 15ms/step - loss: 0.1092 - accuracy: 0.9562 - val_loss: 0.2766 - val_accuracy: 0.8689\n",
            "Epoch 13/40\n",
            "206/206 [==============================] - 3s 15ms/step - loss: 0.1135 - accuracy: 0.9577 - val_loss: 0.3263 - val_accuracy: 0.8689\n",
            "Epoch 14/40\n",
            "206/206 [==============================] - 3s 15ms/step - loss: 0.1530 - accuracy: 0.9486 - val_loss: 0.3474 - val_accuracy: 0.8428\n",
            "Epoch 15/40\n",
            "206/206 [==============================] - 3s 15ms/step - loss: 0.1540 - accuracy: 0.9474 - val_loss: 0.2111 - val_accuracy: 0.8968\n",
            "Epoch 16/40\n",
            "206/206 [==============================] - 3s 15ms/step - loss: 0.1388 - accuracy: 0.9486 - val_loss: 0.2155 - val_accuracy: 0.9053\n",
            "Epoch 17/40\n",
            "206/206 [==============================] - 3s 15ms/step - loss: 0.1416 - accuracy: 0.9510 - val_loss: 0.2081 - val_accuracy: 0.9023\n",
            "Epoch 18/40\n",
            "206/206 [==============================] - 3s 15ms/step - loss: 0.1230 - accuracy: 0.9539 - val_loss: 0.2700 - val_accuracy: 0.8871\n",
            "Epoch 19/40\n",
            "206/206 [==============================] - 3s 15ms/step - loss: 0.1012 - accuracy: 0.9580 - val_loss: 0.2219 - val_accuracy: 0.9041\n",
            "Epoch 20/40\n",
            "206/206 [==============================] - 3s 15ms/step - loss: 0.1015 - accuracy: 0.9571 - val_loss: 0.2110 - val_accuracy: 0.9011\n",
            "Epoch 21/40\n",
            "206/206 [==============================] - 3s 15ms/step - loss: 0.1138 - accuracy: 0.9566 - val_loss: 0.3067 - val_accuracy: 0.8823\n",
            "Epoch 22/40\n",
            "206/206 [==============================] - 3s 15ms/step - loss: 0.1158 - accuracy: 0.9572 - val_loss: 0.2668 - val_accuracy: 0.8956\n",
            "Epoch 23/40\n",
            "206/206 [==============================] - 3s 15ms/step - loss: 0.1035 - accuracy: 0.9584 - val_loss: 0.2304 - val_accuracy: 0.8962\n",
            "Epoch 24/40\n",
            "206/206 [==============================] - 3s 15ms/step - loss: 0.1405 - accuracy: 0.9516 - val_loss: 0.2804 - val_accuracy: 0.8574\n",
            "Epoch 25/40\n",
            "206/206 [==============================] - 3s 15ms/step - loss: 0.1420 - accuracy: 0.9480 - val_loss: 0.2214 - val_accuracy: 0.8799\n",
            "Epoch 26/40\n",
            "206/206 [==============================] - 3s 15ms/step - loss: 0.1055 - accuracy: 0.9581 - val_loss: 0.2505 - val_accuracy: 0.8859\n",
            "Epoch 27/40\n",
            "206/206 [==============================] - 3s 15ms/step - loss: 0.1090 - accuracy: 0.9587 - val_loss: 0.1915 - val_accuracy: 0.9114\n",
            "Epoch 28/40\n",
            "206/206 [==============================] - 3s 15ms/step - loss: 0.0995 - accuracy: 0.9595 - val_loss: 0.2197 - val_accuracy: 0.8926\n",
            "Epoch 29/40\n",
            "206/206 [==============================] - 3s 15ms/step - loss: 0.1001 - accuracy: 0.9577 - val_loss: 0.2181 - val_accuracy: 0.9047\n",
            "Epoch 30/40\n",
            "206/206 [==============================] - 3s 15ms/step - loss: 0.0911 - accuracy: 0.9610 - val_loss: 0.2376 - val_accuracy: 0.8799\n",
            "Epoch 31/40\n",
            "206/206 [==============================] - 3s 15ms/step - loss: 0.1602 - accuracy: 0.9468 - val_loss: 0.2358 - val_accuracy: 0.8962\n",
            "Epoch 32/40\n",
            "206/206 [==============================] - 3s 15ms/step - loss: 0.1028 - accuracy: 0.9593 - val_loss: 0.2279 - val_accuracy: 0.9066\n",
            "Epoch 33/40\n",
            "206/206 [==============================] - 3s 15ms/step - loss: 0.0941 - accuracy: 0.9628 - val_loss: 0.2534 - val_accuracy: 0.9005\n",
            "Epoch 34/40\n",
            "206/206 [==============================] - 3s 15ms/step - loss: 0.0943 - accuracy: 0.9578 - val_loss: 0.2807 - val_accuracy: 0.8829\n",
            "Epoch 35/40\n",
            "206/206 [==============================] - 3s 15ms/step - loss: 0.0956 - accuracy: 0.9615 - val_loss: 0.2807 - val_accuracy: 0.8890\n",
            "Epoch 36/40\n",
            "206/206 [==============================] - 3s 15ms/step - loss: 0.0944 - accuracy: 0.9621 - val_loss: 0.2889 - val_accuracy: 0.8768\n",
            "Epoch 37/40\n",
            "206/206 [==============================] - 3s 15ms/step - loss: 0.0970 - accuracy: 0.9618 - val_loss: 0.3542 - val_accuracy: 0.8859\n",
            "Epoch 38/40\n",
            "206/206 [==============================] - 3s 15ms/step - loss: 0.1386 - accuracy: 0.9528 - val_loss: 0.3495 - val_accuracy: 0.8677\n",
            "Epoch 39/40\n",
            "206/206 [==============================] - 3s 15ms/step - loss: 0.1348 - accuracy: 0.9463 - val_loss: 0.2647 - val_accuracy: 0.8847\n",
            "Epoch 40/40\n",
            "206/206 [==============================] - 3s 15ms/step - loss: 0.1543 - accuracy: 0.9421 - val_loss: 0.2230 - val_accuracy: 0.9017\n",
            "Best epoch: 27\n",
            "Epoch 1/27\n",
            "206/206 [==============================] - 7s 22ms/step - loss: 1.0090 - accuracy: 0.5711 - val_loss: 0.7758 - val_accuracy: 0.6511\n",
            "Epoch 2/27\n",
            "206/206 [==============================] - 3s 15ms/step - loss: 0.5829 - accuracy: 0.7486 - val_loss: 0.6088 - val_accuracy: 0.7112\n",
            "Epoch 3/27\n",
            "206/206 [==============================] - 3s 15ms/step - loss: 0.3917 - accuracy: 0.8460 - val_loss: 0.6192 - val_accuracy: 0.7567\n",
            "Epoch 4/27\n",
            "206/206 [==============================] - 3s 15ms/step - loss: 0.2268 - accuracy: 0.9190 - val_loss: 0.3201 - val_accuracy: 0.8665\n",
            "Epoch 5/27\n",
            "206/206 [==============================] - 3s 15ms/step - loss: 0.1940 - accuracy: 0.9329 - val_loss: 0.3412 - val_accuracy: 0.8847\n",
            "Epoch 6/27\n",
            "206/206 [==============================] - 3s 15ms/step - loss: 0.1409 - accuracy: 0.9460 - val_loss: 0.3512 - val_accuracy: 0.8653\n",
            "Epoch 7/27\n",
            "206/206 [==============================] - 3s 15ms/step - loss: 0.1242 - accuracy: 0.9536 - val_loss: 0.2100 - val_accuracy: 0.9199\n",
            "Epoch 8/27\n",
            "206/206 [==============================] - 3s 15ms/step - loss: 0.1164 - accuracy: 0.9543 - val_loss: 0.2523 - val_accuracy: 0.8847\n",
            "Epoch 9/27\n",
            "206/206 [==============================] - 3s 15ms/step - loss: 0.1790 - accuracy: 0.9375 - val_loss: 0.3269 - val_accuracy: 0.8653\n",
            "Epoch 10/27\n",
            "206/206 [==============================] - 3s 15ms/step - loss: 0.1246 - accuracy: 0.9548 - val_loss: 0.3480 - val_accuracy: 0.8859\n",
            "Epoch 11/27\n",
            "206/206 [==============================] - 3s 15ms/step - loss: 0.1223 - accuracy: 0.9531 - val_loss: 0.2546 - val_accuracy: 0.8883\n",
            "Epoch 12/27\n",
            "206/206 [==============================] - 3s 15ms/step - loss: 0.1447 - accuracy: 0.9468 - val_loss: 0.2528 - val_accuracy: 0.8695\n",
            "Epoch 13/27\n",
            "206/206 [==============================] - 3s 15ms/step - loss: 0.1389 - accuracy: 0.9442 - val_loss: 0.3148 - val_accuracy: 0.8865\n",
            "Epoch 14/27\n",
            "206/206 [==============================] - 3s 15ms/step - loss: 0.1096 - accuracy: 0.9580 - val_loss: 0.2620 - val_accuracy: 0.8871\n",
            "Epoch 15/27\n",
            "206/206 [==============================] - 3s 15ms/step - loss: 0.1073 - accuracy: 0.9572 - val_loss: 0.2318 - val_accuracy: 0.8908\n",
            "Epoch 16/27\n",
            "206/206 [==============================] - 3s 15ms/step - loss: 0.1087 - accuracy: 0.9581 - val_loss: 0.2821 - val_accuracy: 0.8805\n",
            "Epoch 17/27\n",
            "206/206 [==============================] - 3s 15ms/step - loss: 0.1183 - accuracy: 0.9571 - val_loss: 0.2107 - val_accuracy: 0.9005\n",
            "Epoch 18/27\n",
            "206/206 [==============================] - 3s 15ms/step - loss: 0.1174 - accuracy: 0.9554 - val_loss: 0.3334 - val_accuracy: 0.8738\n",
            "Epoch 19/27\n",
            "206/206 [==============================] - 3s 15ms/step - loss: 0.1186 - accuracy: 0.9545 - val_loss: 0.2262 - val_accuracy: 0.8938\n",
            "Epoch 20/27\n",
            "206/206 [==============================] - 3s 15ms/step - loss: 0.1038 - accuracy: 0.9596 - val_loss: 0.2448 - val_accuracy: 0.8829\n",
            "Epoch 21/27\n",
            "206/206 [==============================] - 3s 15ms/step - loss: 0.1017 - accuracy: 0.9609 - val_loss: 0.2255 - val_accuracy: 0.8956\n",
            "Epoch 22/27\n",
            "206/206 [==============================] - 3s 15ms/step - loss: 0.1017 - accuracy: 0.9634 - val_loss: 0.2627 - val_accuracy: 0.8902\n",
            "Epoch 23/27\n",
            "206/206 [==============================] - 3s 15ms/step - loss: 0.2157 - accuracy: 0.9331 - val_loss: 0.5779 - val_accuracy: 0.7888\n",
            "Epoch 24/27\n",
            "206/206 [==============================] - 3s 15ms/step - loss: 0.1692 - accuracy: 0.9399 - val_loss: 0.4680 - val_accuracy: 0.8495\n",
            "Epoch 25/27\n",
            "206/206 [==============================] - 3s 15ms/step - loss: 0.1260 - accuracy: 0.9518 - val_loss: 0.2789 - val_accuracy: 0.8792\n",
            "Epoch 26/27\n",
            "206/206 [==============================] - 3s 15ms/step - loss: 0.1100 - accuracy: 0.9554 - val_loss: 0.2829 - val_accuracy: 0.8689\n",
            "Epoch 27/27\n",
            "206/206 [==============================] - 3s 15ms/step - loss: 0.1091 - accuracy: 0.9596 - val_loss: 0.2343 - val_accuracy: 0.9102\n",
            "65/65 [==============================] - 0s 6ms/step - loss: 0.4915 - accuracy: 0.9165\n",
            "Fold number 5 is done\n",
            "Accuracy of each fold - [0.924271821975708, 0.8742718696594238, 0.9529126286506653, 0.8660194277763367, 0.9164643287658691]\n",
            "Avg accuracy : 0.9067880153656006\n"
          ],
          "name": "stdout"
        }
      ]
    },
    {
      "cell_type": "code",
      "metadata": {
        "id": "vjJlynWLEUI-",
        "colab": {
          "base_uri": "https://localhost:8080/"
        },
        "outputId": "b96da9bd-5b91-463f-dcee-5e30b0d26ea0"
      },
      "source": [
        "# Print the hyperparameters that yielded the best model all over the k-folds\n",
        "Best_HP_LSTM.get_config()['values']"
      ],
      "execution_count": 10,
      "outputs": [
        {
          "output_type": "execute_result",
          "data": {
            "text/plain": [
              "{'Units_LSTM_1': 512,\n",
              " 'Units_LSTM_2': 512,\n",
              " 'dense_activation': 'relu',\n",
              " 'dropout_1': 0.2,\n",
              " 'dropout_2': 0.5,\n",
              " 'learning_rate': 0.0001,\n",
              " 'units': 352}"
            ]
          },
          "metadata": {
            "tags": []
          },
          "execution_count": 10
        }
      ]
    },
    {
      "cell_type": "code",
      "metadata": {
        "id": "NyTrPviVEWmM",
        "colab": {
          "base_uri": "https://localhost:8080/",
          "height": 1000
        },
        "outputId": "55147e1c-b618-4e3e-9c62-e03fb7c0136b"
      },
      "source": [
        "# Build a new model with the HP, train it with the inital training set and eveluate it with the test set \n",
        "\n",
        "BestModelLSTM, LSTM_accuracy = evaluate_model(trainX,\n",
        "                               trainy,\n",
        "                               testX,\n",
        "                               testy,\n",
        "                               INPUT_SHAPE,\n",
        "                               N_OUTPUTS,\n",
        "                               Best_HP_LSTM,\n",
        "                               LSTMStacked,\n",
        "                               Best_Epoch_LSTM,\n",
        "                               batch_size)\n"
      ],
      "execution_count": 11,
      "outputs": [
        {
          "output_type": "stream",
          "text": [
            "Epoch 1/39\n",
            "184/184 [==============================] - 13s 52ms/step - loss: 1.1512 - accuracy: 0.5042 - val_loss: 1.0168 - val_accuracy: 0.6098\n",
            "Epoch 2/39\n",
            "184/184 [==============================] - 9s 49ms/step - loss: 0.7679 - accuracy: 0.6574 - val_loss: 0.8293 - val_accuracy: 0.6424\n",
            "Epoch 3/39\n",
            "184/184 [==============================] - 9s 49ms/step - loss: 0.6388 - accuracy: 0.7240 - val_loss: 0.8126 - val_accuracy: 0.6995\n",
            "Epoch 4/39\n",
            "184/184 [==============================] - 9s 49ms/step - loss: 0.5707 - accuracy: 0.7628 - val_loss: 0.7693 - val_accuracy: 0.7118\n",
            "Epoch 5/39\n",
            "184/184 [==============================] - 9s 49ms/step - loss: 0.5551 - accuracy: 0.7767 - val_loss: 0.7375 - val_accuracy: 0.7294\n",
            "Epoch 6/39\n",
            "184/184 [==============================] - 9s 49ms/step - loss: 0.4193 - accuracy: 0.8369 - val_loss: 0.6139 - val_accuracy: 0.7995\n",
            "Epoch 7/39\n",
            "184/184 [==============================] - 9s 49ms/step - loss: 0.3662 - accuracy: 0.8669 - val_loss: 0.6307 - val_accuracy: 0.8232\n",
            "Epoch 8/39\n",
            "184/184 [==============================] - 9s 49ms/step - loss: 0.2983 - accuracy: 0.8941 - val_loss: 0.4978 - val_accuracy: 0.8661\n",
            "Epoch 9/39\n",
            "184/184 [==============================] - 9s 49ms/step - loss: 0.2720 - accuracy: 0.9027 - val_loss: 0.4573 - val_accuracy: 0.8688\n",
            "Epoch 10/39\n",
            "184/184 [==============================] - 9s 49ms/step - loss: 0.2230 - accuracy: 0.9214 - val_loss: 0.4367 - val_accuracy: 0.8708\n",
            "Epoch 11/39\n",
            "184/184 [==============================] - 9s 49ms/step - loss: 0.1959 - accuracy: 0.9294 - val_loss: 0.4262 - val_accuracy: 0.8844\n",
            "Epoch 12/39\n",
            "184/184 [==============================] - 9s 49ms/step - loss: 0.1712 - accuracy: 0.9344 - val_loss: 0.3520 - val_accuracy: 0.8912\n",
            "Epoch 13/39\n",
            "184/184 [==============================] - 9s 49ms/step - loss: 0.1393 - accuracy: 0.9476 - val_loss: 0.3572 - val_accuracy: 0.8912\n",
            "Epoch 14/39\n",
            "184/184 [==============================] - 9s 49ms/step - loss: 0.1365 - accuracy: 0.9461 - val_loss: 0.3364 - val_accuracy: 0.9028\n",
            "Epoch 15/39\n",
            "184/184 [==============================] - 9s 49ms/step - loss: 0.1292 - accuracy: 0.9458 - val_loss: 0.3673 - val_accuracy: 0.8973\n",
            "Epoch 16/39\n",
            "184/184 [==============================] - 9s 49ms/step - loss: 0.1157 - accuracy: 0.9534 - val_loss: 0.3667 - val_accuracy: 0.9116\n",
            "Epoch 17/39\n",
            "184/184 [==============================] - 9s 49ms/step - loss: 0.1089 - accuracy: 0.9554 - val_loss: 0.3820 - val_accuracy: 0.9089\n",
            "Epoch 18/39\n",
            "184/184 [==============================] - 9s 49ms/step - loss: 0.1036 - accuracy: 0.9527 - val_loss: 0.3698 - val_accuracy: 0.9069\n",
            "Epoch 19/39\n",
            "184/184 [==============================] - 9s 49ms/step - loss: 0.0953 - accuracy: 0.9599 - val_loss: 0.4606 - val_accuracy: 0.9075\n",
            "Epoch 20/39\n",
            "184/184 [==============================] - 9s 49ms/step - loss: 0.1018 - accuracy: 0.9548 - val_loss: 0.4848 - val_accuracy: 0.9109\n",
            "Epoch 21/39\n",
            "184/184 [==============================] - 9s 49ms/step - loss: 0.1039 - accuracy: 0.9543 - val_loss: 0.5560 - val_accuracy: 0.9062\n",
            "Epoch 22/39\n",
            "184/184 [==============================] - 9s 49ms/step - loss: 0.0940 - accuracy: 0.9572 - val_loss: 0.5464 - val_accuracy: 0.9109\n",
            "Epoch 23/39\n",
            "184/184 [==============================] - 9s 49ms/step - loss: 0.1095 - accuracy: 0.9517 - val_loss: 0.3750 - val_accuracy: 0.9143\n",
            "Epoch 24/39\n",
            "184/184 [==============================] - 9s 49ms/step - loss: 0.1110 - accuracy: 0.9517 - val_loss: 0.4133 - val_accuracy: 0.8953\n",
            "Epoch 25/39\n",
            "184/184 [==============================] - 9s 49ms/step - loss: 0.1024 - accuracy: 0.9549 - val_loss: 0.5640 - val_accuracy: 0.9028\n",
            "Epoch 26/39\n",
            "184/184 [==============================] - 9s 49ms/step - loss: 0.0998 - accuracy: 0.9572 - val_loss: 0.6259 - val_accuracy: 0.9123\n",
            "Epoch 27/39\n",
            "184/184 [==============================] - 9s 49ms/step - loss: 0.1046 - accuracy: 0.9566 - val_loss: 0.6260 - val_accuracy: 0.9171\n",
            "Epoch 28/39\n",
            "184/184 [==============================] - 9s 49ms/step - loss: 0.0823 - accuracy: 0.9607 - val_loss: 0.6399 - val_accuracy: 0.8939\n",
            "Epoch 29/39\n",
            "184/184 [==============================] - 9s 49ms/step - loss: 0.0837 - accuracy: 0.9600 - val_loss: 0.6395 - val_accuracy: 0.9157\n",
            "Epoch 30/39\n",
            "184/184 [==============================] - 9s 49ms/step - loss: 0.0869 - accuracy: 0.9611 - val_loss: 0.6379 - val_accuracy: 0.9035\n",
            "Epoch 31/39\n",
            "184/184 [==============================] - 9s 49ms/step - loss: 0.0863 - accuracy: 0.9595 - val_loss: 0.5397 - val_accuracy: 0.8749\n",
            "Epoch 32/39\n",
            "184/184 [==============================] - 9s 49ms/step - loss: 0.0982 - accuracy: 0.9606 - val_loss: 0.5578 - val_accuracy: 0.8926\n",
            "Epoch 33/39\n",
            "184/184 [==============================] - 9s 49ms/step - loss: 0.1060 - accuracy: 0.9532 - val_loss: 0.6506 - val_accuracy: 0.9143\n",
            "Epoch 34/39\n",
            "184/184 [==============================] - 9s 49ms/step - loss: 0.0786 - accuracy: 0.9602 - val_loss: 0.7387 - val_accuracy: 0.9137\n",
            "Epoch 35/39\n",
            "184/184 [==============================] - 9s 49ms/step - loss: 0.1183 - accuracy: 0.9492 - val_loss: 0.5100 - val_accuracy: 0.9103\n",
            "Epoch 36/39\n",
            "184/184 [==============================] - 9s 49ms/step - loss: 0.0781 - accuracy: 0.9646 - val_loss: 0.6367 - val_accuracy: 0.8831\n",
            "Epoch 37/39\n",
            "184/184 [==============================] - 9s 49ms/step - loss: 0.0773 - accuracy: 0.9636 - val_loss: 0.6715 - val_accuracy: 0.9164\n",
            "Epoch 38/39\n",
            "184/184 [==============================] - 9s 49ms/step - loss: 0.1071 - accuracy: 0.9561 - val_loss: 0.5306 - val_accuracy: 0.8939\n",
            "Epoch 39/39\n",
            "184/184 [==============================] - 9s 49ms/step - loss: 0.1512 - accuracy: 0.9492 - val_loss: 0.4666 - val_accuracy: 0.9021\n"
          ],
          "name": "stdout"
        },
        {
          "output_type": "display_data",
          "data": {
            "image/png": "[encoded data removed]",
            "text/plain": [
              "<Figure size 432x288 with 1 Axes>"
            ]
          },
          "metadata": {
            "tags": [],
            "needs_background": "light"
          }
        },
        {
          "output_type": "display_data",
          "data": {
            "image/png": "[encoded data removed]",
            "text/plain": [
              "<Figure size 432x288 with 1 Axes>"
            ]
          },
          "metadata": {
            "tags": [],
            "needs_background": "light"
          }
        },
        {
          "output_type": "stream",
          "text": [
            "The accuracy of the model is 0.913810670375824\n"
          ],
          "name": "stdout"
        }
      ]
    },
    {
      "cell_type": "code",
      "metadata": {
        "id": "-adf-YTeWaOb"
      },
      "source": [
        "# create a unique file name by attaching the first four accuracy digits\n",
        "\n",
        "file_name_ending = str(int(LSTM_accuracy * 10000))"
      ],
      "execution_count": null,
      "outputs": []
    },
    {
      "cell_type": "code",
      "metadata": {
        "id": "o6i_iT_cEYKd"
      },
      "source": [
        "# save the model by using the unique file name (model name + accuracy)\n",
        "BestModelLSTM.save(\"/content/CrispCerebella/Models/Final_Model_LSTM_\" + file_name_ending)"
      ],
      "execution_count": null,
      "outputs": []
    },
    {
      "cell_type": "code",
      "metadata": {
        "id": "CUp-gqZiNJqF",
        "colab": {
          "base_uri": "https://localhost:8080/"
        },
        "outputId": "06926201-9f59-4518-a3c5-3fee26b4d034"
      },
      "source": [
        "# create a zip file out of the saved model\n",
        "\n",
        "!zip -r /content/CrispCerebella/Models/Final_Model_LSTM_{file_name_ending}.zip /content/CrispCerebella/Models/Final_Model_LSTM_{file_name_ending}"
      ],
      "execution_count": 14,
      "outputs": [
        {
          "output_type": "stream",
          "text": [
            "  adding: content/CrispCerebella/Models/Final_Model_LSTM_9138/ (stored 0%)\n",
            "  adding: content/CrispCerebella/Models/Final_Model_LSTM_9138/variables/ (stored 0%)\n",
            "  adding: content/CrispCerebella/Models/Final_Model_LSTM_9138/variables/variables.index (deflated 67%)\n",
            "  adding: content/CrispCerebella/Models/Final_Model_LSTM_9138/variables/variables.data-00000-of-00001 (deflated 7%)\n",
            "  adding: content/CrispCerebella/Models/Final_Model_LSTM_9138/assets/ (stored 0%)\n",
            "  adding: content/CrispCerebella/Models/Final_Model_LSTM_9138/keras_metadata.pb (deflated 81%)\n",
            "  adding: content/CrispCerebella/Models/Final_Model_LSTM_9138/saved_model.pb (deflated 89%)\n"
          ],
          "name": "stdout"
        }
      ]
    },
    {
      "cell_type": "code",
      "metadata": {
        "id": "v_9oAob8LZxd",
        "colab": {
          "base_uri": "https://localhost:8080/",
          "height": 17
        },
        "outputId": "9fb5d9d7-12a1-4e13-8779-3ce91bb20859"
      },
      "source": [
        "# downloading the zip file (to store it locally and be able to push it to git)\n",
        "\n",
        "files.download(f\"/content/CrispCerebella/Models/Final_Model_LSTM_{file_name_ending}.zip\")"
      ],
      "execution_count": 15,
      "outputs": [
        {
          "output_type": "display_data",
          "data": {
            "application/javascript": [
              "\n",
              "    async function download(id, filename, size) {\n",
              "      if (!google.colab.kernel.accessAllowed) {\n",
              "        return;\n",
              "      }\n",
              "      const div = document.createElement('div');\n",
              "      const label = document.createElement('label');\n",
              "      label.textContent = `Downloading \"${filename}\": `;\n",
              "      div.appendChild(label);\n",
              "      const progress = document.createElement('progress');\n",
              "      progress.max = size;\n",
              "      div.appendChild(progress);\n",
              "      document.body.appendChild(div);\n",
              "\n",
              "      const buffers = [];\n",
              "      let downloaded = 0;\n",
              "\n",
              "      const channel = await google.colab.kernel.comms.open(id);\n",
              "      // Send a message to notify the kernel that we're ready.\n",
              "      channel.send({})\n",
              "\n",
              "      for await (const message of channel.messages) {\n",
              "        // Send a message to notify the kernel that we're ready.\n",
              "        channel.send({})\n",
              "        if (message.buffers) {\n",
              "          for (const buffer of message.buffers) {\n",
              "            buffers.push(buffer);\n",
              "            downloaded += buffer.byteLength;\n",
              "            progress.value = downloaded;\n",
              "          }\n",
              "        }\n",
              "      }\n",
              "      const blob = new Blob(buffers, {type: 'application/binary'});\n",
              "      const a = document.createElement('a');\n",
              "      a.href = window.URL.createObjectURL(blob);\n",
              "      a.download = filename;\n",
              "      div.appendChild(a);\n",
              "      a.click();\n",
              "      div.remove();\n",
              "    }\n",
              "  "
            ],
            "text/plain": [
              "<IPython.core.display.Javascript object>"
            ]
          },
          "metadata": {
            "tags": []
          }
        },
        {
          "output_type": "display_data",
          "data": {
            "application/javascript": [
              "download(\"download_19011ef9-a056-42f1-95b3-45bfef8ccdbe\", \"Final_Model_LSTM_9138.zip\", 37665421)"
            ],
            "text/plain": [
              "<IPython.core.display.Javascript object>"
            ]
          },
          "metadata": {
            "tags": []
          }
        }
      ]
    },
    {
      "cell_type": "code",
      "metadata": {
        "id": "0TQs1p-FNveF"
      },
      "source": [
        "# unzip the folder of the model with a given accuracy\n",
        "# !unzip /content/CrispCerebella/Models/Final_Model_LSTM_{file_name_ending}.zip -d /Test"
      ],
      "execution_count": 16,
      "outputs": []
    },
    {
      "cell_type": "code",
      "metadata": {
        "id": "4_3n0jm_Pk-E"
      },
      "source": [
        "# load the saved model\n",
        "# test_model = keras.models.load_model(f'/content/CrispCerebella/Test/content/CrispCerebella/Models/Final_Model_LSTM_{file_name_ending}')"
      ],
      "execution_count": 17,
      "outputs": []
    },
    {
      "cell_type": "code",
      "metadata": {
        "id": "zwlDiVScQLRv"
      },
      "source": [
        "# evaluate the saved model\n",
        "# test_model.evaluate(testX, testy)"
      ],
      "execution_count": 18,
      "outputs": []
    }
  ]
}