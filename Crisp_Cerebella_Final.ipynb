{
  "nbformat": 4,
  "nbformat_minor": 0,
  "metadata": {
    "colab": {
      "name": "Crisp Cerebella Final.ipynb",
      "provenance": [],
      "collapsed_sections": [],
      "authorship_tag": "ABX9TyO34Y5htXCRcDk8Slj707wq",
      "include_colab_link": true
    },
    "kernelspec": {
      "name": "python3",
      "display_name": "Python 3"
    },
    "language_info": {
      "name": "python"
    }
  },
  "cells": [
    {
      "cell_type": "markdown",
      "metadata": {
        "id": "view-in-github",
        "colab_type": "text"
      },
      "source": [
        "<a href=\"https://colab.research.google.com/github/Entspannter/CrispCerebella/blob/main/Crisp_Cerebella_Final.ipynb\" target=\"_parent\"><img src=\"https://colab.research.google.com/assets/colab-badge.svg\" alt=\"Open In Colab\"/></a>"
      ]
    },
    {
      "cell_type": "markdown",
      "metadata": {
        "id": "HIYepXBPsUsb"
      },
      "source": [
        "# **Crisp Cerebella - Motion Sensor Project**"
      ]
    },
    {
      "cell_type": "markdown",
      "metadata": {
        "id": "3PgDX8G6sBLG"
      },
      "source": [
        "# ***Time to shine, ladies!***\n",
        "\n",
        "> Let's rock this\n",
        "\n"
      ]
    },
    {
      "cell_type": "markdown",
      "metadata": {
        "id": "Nh1Zw3l3sIuP"
      },
      "source": [
        "## **1. - Introduction**"
      ]
    },
    {
      "cell_type": "markdown",
      "metadata": {
        "id": "fj6Mhe-jsPwX"
      },
      "source": [
        ""
      ]
    },
    {
      "cell_type": "markdown",
      "metadata": {
        "id": "KqvD3KRNsedw"
      },
      "source": [
        "## **2. - Code**"
      ]
    },
    {
      "cell_type": "markdown",
      "metadata": {
        "id": "6PXwr7cFsjfN"
      },
      "source": [
        "## **3. - Discussion**"
      ]
    },
    {
      "cell_type": "code",
      "metadata": {
        "id": "mwSDMJBpr5cQ"
      },
      "source": [
        ""
      ],
      "execution_count": null,
      "outputs": []
    }
  ]
}