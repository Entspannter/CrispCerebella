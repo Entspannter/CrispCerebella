{
 "cells": [
  {
   "cell_type": "markdown",
   "source": "This is the Deepnote File ",
   "metadata": {
    "tags": [],
    "cell_id": "00002-9ff8a9a5-2ad4-4648-a9cb-1c35ffb217ba",
    "deepnote_cell_type": "markdown"
   }
  },
  {
   "cell_type": "code",
   "metadata": {
    "tags": [],
    "cell_id": "00000-0fa1a87b-790b-4c9d-80be-e404708ff1f6",
    "deepnote_to_be_reexecuted": false,
    "source_hash": "3285c08",
    "execution_start": 1624294145835,
    "execution_millis": 1,
    "deepnote_cell_type": "code"
   },
   "source": "#We all ready?\n",
   "execution_count": 1,
   "outputs": []
  },
  {
   "cell_type": "markdown",
   "source": "# ",
   "metadata": {
    "tags": [],
    "cell_id": "00001-e399fe1d-d15c-4bd9-a06e-ea0dd7f81973",
    "deepnote_cell_type": "text-cell-h1"
   }
  },
  {
   "cell_type": "code",
   "source": "import pandas as pd\nimport numpy as np\nfrom scipy import stats\n",
   "metadata": {
    "tags": [],
    "cell_id": "00003-436c5494-673c-4dc0-a4fd-13e8fe729550",
    "deepnote_to_be_reexecuted": false,
    "source_hash": "214bc366",
    "execution_start": 1624294179216,
    "execution_millis": 506,
    "deepnote_cell_type": "code"
   },
   "outputs": [],
   "execution_count": 7
  },
  {
   "cell_type": "markdown",
   "source": "# Load Dataset",
   "metadata": {
    "tags": [],
    "cell_id": "00004-14e44966-6c09-4883-b78e-3487e489e080",
    "deepnote_cell_type": "text-cell-h1"
   }
  },
  {
   "cell_type": "code",
   "source": "#Build a Dataloader function\nfrom pandas import read_csv\nfrom numpy import dstack\n\ndef dataloader(d_path):\n\tdataframe = read_csv(d_path, header=None, delim_whitespace=True)\n\treturn dataframe.values\n\ndata = dataloader('/work/CrispCerebella/Dataset/UCI HAR Dataset/train/Inertial Signals/total_acc_y_train.txt')\n\nprint(data.shape)\n\n# function to load a group of data and create a 3 dimentional tensor out of it\ndef dataloader_group(filenames, prefix=''):\n\tloaded = list()\n\tfor name in filenames:\n\t\tdata = dataloader(prefix + name)\n\t\tloaded.append(data)\n\t# create a 3 dimentional tensor out of the individual data files\n\tloaded = dstack(loaded)\n\treturn loaded\n\n# load all acc data into a 3 dimentinal tensor \nacc_filenames = ['total_acc_x_train.txt', 'total_acc_y_train.txt', 'total_acc_z_train.txt']\ntotal_acc_xyz = dataloader_group(acc_filenames, prefix='/work/CrispCerebella/Dataset/UCI HAR Dataset/train/Inertial Signals/')\nprint(total_acc_xyz.shape)\n\n# create a train and test group out of the data\ndef datasetloader(group, prefix=''):\n\tfilepath = prefix + group + '/Inertial Signals/'\n\tfilenames = list()\n\t# filenames: total acceleration\n\tfilenames += ['total_acc_x_'+group+'.txt', 'total_acc_y_'+group+'.txt', 'total_acc_z_'+group+'.txt']\n\t# filenames: body acceleration\n\tfilenames += ['body_acc_x_'+group+'.txt', 'body_acc_y_'+group+'.txt', 'body_acc_z_'+group+'.txt']\n\t# filenames: body gyroscope\n\tfilenames += ['body_gyro_x_'+group+'.txt', 'body_gyro_y_'+group+'.txt', 'body_gyro_z_'+group+'.txt']\n\t# load X data (input)\n\tX = dataloader_group(filenames, filepath)\n\t# load output labels\n\ty = dataloader(prefix + group + '/y_'+group+'.txt')\n\treturn X, y\n \n# load all train\ntrainX, trainy = datasetloader('train', '/work/CrispCerebella/Dataset/UCI HAR Dataset/')\nprint(\"Shape of training Data:\",trainX.shape, trainy.shape)\n# load all test\ntestX, testy = datasetloader('test', '/work/CrispCerebella/Dataset/UCI HAR Dataset/')\nprint(\"Shape of test Data:\",testX.shape, testy.shape)\n \n",
   "metadata": {
    "tags": [],
    "cell_id": "00005-444079a7-0376-43d3-96e3-e2c82c3d939d",
    "deepnote_to_be_reexecuted": false,
    "source_hash": "95a91f31",
    "execution_start": 1624294145852,
    "execution_millis": 4173,
    "deepnote_cell_type": "code"
   },
   "outputs": [
    {
     "name": "stdout",
     "text": "(7352, 128)\n(7352, 128, 3)\nShape of training Data: (7352, 128, 9) (7352, 1)\nShape of test Data: (2947, 128, 9) (2947, 1)\n",
     "output_type": "stream"
    }
   ],
   "execution_count": 3
  },
  {
   "cell_type": "code",
   "source": "stats.describe(testX)",
   "metadata": {
    "tags": [],
    "cell_id": "00008-0c42d7b5-f646-4382-9e9d-bfbedcee81d3",
    "deepnote_to_be_reexecuted": false,
    "source_hash": "65b5c5df",
    "execution_start": 1624294183194,
    "execution_millis": 352,
    "deepnote_cell_type": "code"
   },
   "outputs": [
    {
     "output_type": "execute_result",
     "execution_count": 8,
     "data": {
      "text/plain": "DescribeResult(nobs=2947, minmax=(array([[-0.2454728, -1.112589 , -1.0158   , ..., -2.352782 , -2.528342 ,\n        -1.862215 ],\n       [-0.2459132, -1.245918 , -1.106383 , ..., -2.344799 , -2.904903 ,\n        -1.729082 ],\n       [-0.2448548, -1.129734 , -1.092525 , ..., -2.218206 , -2.255857 ,\n        -1.754057 ],\n       ...,\n       [-0.2459054, -1.055127 , -1.064231 , ..., -2.885222 , -2.19911  ,\n        -1.413129 ],\n       [-0.2450202, -1.073974 , -1.084465 , ..., -2.901259 , -2.265966 ,\n        -1.771897 ],\n       [-0.2442375, -1.005888 , -1.106173 , ..., -2.946578 , -1.917106 ,\n        -2.116511 ]]), array([[1.964238 , 1.090686 , 0.9758336, ..., 1.862086 , 2.444461 ,\n        1.786059 ],\n       [2.055219 , 1.083054 , 0.9845997, ..., 1.576708 , 2.191394 ,\n        1.491645 ],\n       [2.016067 , 1.041681 , 0.9831551, ..., 1.625857 , 2.47324  ,\n        1.324922 ],\n       ...,\n       [1.918973 , 1.011461 , 0.9765373, ..., 2.973073 , 2.501685 ,\n        1.558125 ],\n       [2.01327  , 1.041687 , 0.98669  , ..., 3.256507 , 2.730816 ,\n        1.327573 ],\n       [2.018431 , 1.026405 , 0.9802107, ..., 3.29309  , 2.369893 ,\n        1.312065 ]])), mean=array([[ 0.81431831,  0.0058897 ,  0.07956965, ..., -0.02217379,\n         0.00576344,  0.00629869],\n       [ 0.81413408,  0.00701479,  0.0793135 , ..., -0.02263776,\n         0.01035782,  0.00773916],\n       [ 0.81365319,  0.0074993 ,  0.07965847, ..., -0.02453742,\n         0.01483389,  0.00978518],\n       ...,\n       [ 0.81782033,  0.00334933,  0.07729044, ...,  0.00183179,\n        -0.00645428,  0.00772234],\n       [ 0.81734994,  0.00239059,  0.07712999, ...,  0.00225457,\n        -0.00470105,  0.0066637 ],\n       [ 0.81564939,  0.00206316,  0.07680017, ...,  0.0008799 ,\n        -0.0025642 ,  0.00383447]]), variance=array([[0.16138344, 0.16841717, 0.09414955, ..., 0.16969251, 0.11442942,\n        0.0623306 ],\n       [0.1612755 , 0.1680267 , 0.09430014, ..., 0.17090198, 0.11729201,\n        0.06325593],\n       [0.16135118, 0.1673621 , 0.09438296, ..., 0.17151506, 0.11218598,\n        0.06374881],\n       ...,\n       [0.16606221, 0.169391  , 0.09653235, ..., 0.17379356, 0.12733725,\n        0.06202857],\n       [0.16601575, 0.17054503, 0.09690921, ..., 0.17750675, 0.11811237,\n        0.06116715],\n       [0.16467245, 0.17101484, 0.09702243, ..., 0.17520493, 0.11020827,\n        0.05956336]]), skewness=array([[-0.87562365,  0.79403513,  0.53487272, ..., -0.35221289,\n         0.15828941, -0.29467225],\n       [-0.87673528,  0.79496065,  0.52389019, ..., -0.41600499,\n         0.07337306, -0.37184664],\n       [-0.86696089,  0.80353837,  0.51781354, ..., -0.39156372,\n         0.61125144, -0.42638588],\n       ...,\n       [-0.84595119,  0.80881319,  0.47352015, ..., -0.17712929,\n         0.17239898, -0.03989915],\n       [-0.8398903 ,  0.79379702,  0.46360975, ..., -0.09703012,\n         0.02876586, -0.20696631],\n       [-0.84247106,  0.78785399,  0.46626949, ...,  0.00290906,\n         0.16869807, -0.64130435]]), kurtosis=array([[0.29670025, 0.43098064, 1.44695206, ..., 3.29594969, 7.85824703,\n        6.39852453],\n       [0.26186915, 0.41555662, 1.46973173, ..., 3.10941559, 8.02124053,\n        5.11474003],\n       [0.26831228, 0.42848623, 1.46107218, ..., 3.03523064, 6.6857395 ,\n        5.82261589],\n       ...,\n       [0.20722534, 0.41541766, 1.45068602, ..., 6.268083  , 6.86033932,\n        5.59044383],\n       [0.22106781, 0.41049794, 1.44763209, ..., 6.73663651, 6.97265963,\n        6.28605167],\n       [0.25749936, 0.39727715, 1.43705723, ..., 7.18697969, 5.47744422,\n        9.02468177]]))"
     },
     "metadata": {}
    }
   ],
   "execution_count": 8
  },
  {
   "cell_type": "markdown",
   "source": "# Prepare Dataset",
   "metadata": {
    "tags": [],
    "cell_id": "00005-fadb7ba1-81e9-4886-8164-8f4bfed89801",
    "deepnote_cell_type": "text-cell-h1"
   }
  },
  {
   "cell_type": "code",
   "source": "",
   "metadata": {
    "tags": [],
    "cell_id": "00004-fdae69e6-4a67-4cb5-9bc4-98e700faf3b2",
    "deepnote_to_be_reexecuted": true,
    "source_hash": "b623e53d",
    "execution_start": 1624280632072,
    "execution_millis": 3,
    "deepnote_cell_type": "code"
   },
   "outputs": [],
   "execution_count": null
  },
  {
   "cell_type": "markdown",
   "source": "<a style='text-decoration:none;line-height:16px;display:flex;color:#5B5B62;padding:10px;justify-content:end;' href='https://deepnote.com?utm_source=created-in-deepnote-cell&projectId=0bc38299-d7dc-427d-847e-3f965a2d07ef' target=\"_blank\">\n<img alt='Created in deepnote.com' style='display:inline;max-height:16px;margin:0px;margin-right:7.5px;' src='data:image/svg+xml;base64,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' > </img>\nCreated in <span style='font-weight:600;margin-left:4px;'>Deepnote</span></a>",
   "metadata": {
    "tags": [],
    "created_in_deepnote_cell": true,
    "deepnote_cell_type": "markdown"
   }
  }
 ],
 "nbformat": 4,
 "nbformat_minor": 2,
 "metadata": {
  "orig_nbformat": 2,
  "deepnote": {
   "is_reactive": false
  },
  "deepnote_notebook_id": "1e46c54a-bdbb-427d-893a-2c343489a4ea",
  "deepnote_execution_queue": []
 }
}